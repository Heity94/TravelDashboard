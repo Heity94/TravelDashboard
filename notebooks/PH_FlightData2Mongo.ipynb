{
 "cells": [
  {
   "cell_type": "markdown",
   "metadata": {},
   "source": [
    "## Load the preprocessed flight data from our Python script into the MongoDB"
   ]
  },
  {
   "cell_type": "markdown",
   "metadata": {},
   "source": [
    "### Imports"
   ]
  },
  {
   "cell_type": "code",
   "execution_count": 1,
   "metadata": {},
   "outputs": [],
   "source": [
    "# imports\n",
    "from pymongo import MongoClient\n",
    "from pprint import pprint\n",
    "import pymongo\n",
    "import pandas as pd\n",
    "import os\n",
    "import glob\n",
    "from datetime import datetime"
   ]
  },
  {
   "cell_type": "code",
   "execution_count": 2,
   "id": "fb8f4914",
   "metadata": {},
   "outputs": [],
   "source": [
    "# Client connects to \"localhost\" by default \n",
    "client = MongoClient()"
   ]
  },
  {
   "cell_type": "code",
   "execution_count": 3,
   "id": "2bc02aae",
   "metadata": {},
   "outputs": [],
   "source": [
    "# Create new client\n",
    "db = client['TravelDashboard']"
   ]
  },
  {
   "cell_type": "code",
   "execution_count": 111,
   "metadata": {},
   "outputs": [],
   "source": [
    "# first let's drop the collection\n",
    "#db.travel_data.drop()"
   ]
  },
  {
   "cell_type": "markdown",
   "metadata": {},
   "source": [
    "Check number of documents in the travel_data collection"
   ]
  },
  {
   "cell_type": "code",
   "execution_count": 112,
   "metadata": {},
   "outputs": [
    {
     "data": {
      "text/plain": [
       "0"
      ]
     },
     "execution_count": 112,
     "metadata": {},
     "output_type": "execute_result"
    }
   ],
   "source": [
    "db.travel_data.count_documents({})"
   ]
  },
  {
   "cell_type": "markdown",
   "metadata": {},
   "source": [
    "## Load, preprocess and dump files into MongoDB"
   ]
  },
  {
   "cell_type": "code",
   "execution_count": 116,
   "metadata": {},
   "outputs": [],
   "source": [
    "# Check current directory where notebook is located\n",
    "os.path.abspath(\"\")  # in python it should not be (\"\"), but (__file__) !!!\n",
    "\n",
    "# get path of all .csv files in csv_data folder\n",
    "all_files = glob.glob(\n",
    "    os.path.join(os.path.dirname(os.path.abspath(\"\")), \"data\", \"csv_data\", \"*.csv\"))\n"
   ]
  },
  {
   "cell_type": "code",
   "execution_count": 117,
   "id": "40310901",
   "metadata": {},
   "outputs": [],
   "source": [
    "# Put all the documents in the Mongo collection travel_data\n",
    "cols = [\n",
    "    \"callsign\", \"geo_altitude\", \"country_cc\", \"avg_no_seats\", \"vertical_rate\"\n",
    "]\n",
    "\n",
    "for file in all_files:\n",
    "    df = pd.read_csv(file, index_col=0)\n",
    "\n",
    "    #filter dataframe to only include columns and rows which are relevant to identify starting and landing planes\n",
    "    df_clean = df[(df.geo_altitude<=3000)&(~df.vertical_rate.between(-4,4))&(~df.callsign.isna())&(~df.country_cc.isna())]\\\n",
    "        [[\"callsign\", \"geo_altitude\", \"country_cc\", \"avg_no_seats\", \"vertical_rate\", \"time\"]].reset_index(drop=True)\n",
    "\n",
    "    #Convert to datetime\n",
    "    df_clean[\"time\"] = pd.to_datetime(df_clean[\"time\"], unit='s')\n",
    "    \n",
    "    #create document to put into mongo (grouped by time)\n",
    "    dict_mongo = df_clean.groupby(\"time\").apply(lambda x: x[cols].to_dict(\n",
    "        \"records\")).reset_index().rename(columns={\n",
    "            0: \"flight_data\"\n",
    "        }).to_dict(orient=\"records\")[0]\n",
    "    db.travel_data.insert_one(dict_mongo)"
   ]
  },
  {
   "cell_type": "markdown",
   "metadata": {},
   "source": [
    "### Create index"
   ]
  },
  {
   "cell_type": "code",
   "execution_count": 119,
   "metadata": {},
   "outputs": [
    {
     "data": {
      "text/plain": [
       "2000"
      ]
     },
     "execution_count": 119,
     "metadata": {},
     "output_type": "execute_result"
    }
   ],
   "source": [
    "#Check number of doc ins collection \n",
    "db.travel_data.count_documents({})"
   ]
  },
  {
   "cell_type": "markdown",
   "metadata": {},
   "source": [
    "For a faster read from the MongoDB we create several indexes which hopefully improve our query speed"
   ]
  },
  {
   "cell_type": "code",
   "execution_count": 120,
   "id": "fae0559b",
   "metadata": {},
   "outputs": [
    {
     "data": {
      "text/plain": [
       "'time_-1'"
      ]
     },
     "execution_count": 120,
     "metadata": {},
     "output_type": "execute_result"
    }
   ],
   "source": [
    "db.travel_data.create_index([(\"time\", pymongo.DESCENDING)])"
   ]
  },
  {
   "cell_type": "code",
   "execution_count": 121,
   "id": "15707ea9",
   "metadata": {},
   "outputs": [
    {
     "data": {
      "text/plain": [
       "'time_-1_flight_data.geo_altitude_1_flight_data.vertical_rate_1'"
      ]
     },
     "execution_count": 121,
     "metadata": {},
     "output_type": "execute_result"
    }
   ],
   "source": [
    "db.travel_data.create_index(\n",
    "    [\n",
    "        (\"time\", pymongo.DESCENDING),\n",
    "        (\"flight_data.geo_altitude\", pymongo.ASCENDING),\n",
    "        (\"flight_data.vertical_rate\", pymongo.ASCENDING)\n",
    "     ])"
   ]
  },
  {
   "cell_type": "code",
   "execution_count": 122,
   "id": "100bf165",
   "metadata": {},
   "outputs": [
    {
     "data": {
      "text/plain": [
       "'time_-1_flight_data.vertical_rate_1'"
      ]
     },
     "execution_count": 122,
     "metadata": {},
     "output_type": "execute_result"
    }
   ],
   "source": [
    "db.travel_data.create_index(\n",
    "    [\n",
    "        (\"time\", pymongo.DESCENDING),\n",
    "        (\"flight_data.vertical_rate\", pymongo.ASCENDING)\n",
    "     ])"
   ]
  },
  {
   "cell_type": "code",
   "execution_count": 123,
   "id": "857782d7",
   "metadata": {},
   "outputs": [
    {
     "data": {
      "text/plain": [
       "'time_-1_flight_data.geo_altitude_1'"
      ]
     },
     "execution_count": 123,
     "metadata": {},
     "output_type": "execute_result"
    }
   ],
   "source": [
    "db.travel_data.create_index(\n",
    "    [\n",
    "        (\"time\", pymongo.DESCENDING),\n",
    "        (\"flight_data.geo_altitude\", pymongo.ASCENDING),\n",
    "     ])"
   ]
  },
  {
   "cell_type": "markdown",
   "metadata": {},
   "source": [
    "### Check min and max time in the DB"
   ]
  },
  {
   "cell_type": "markdown",
   "metadata": {},
   "source": [
    "Lets find the min and max time in our collection"
   ]
  },
  {
   "cell_type": "code",
   "execution_count": 124,
   "metadata": {},
   "outputs": [],
   "source": [
    "min_max_time = []\n",
    "for i in [1,-1]:\n",
    "\n",
    "    res = (db.travel_data.find().sort([(\"time\",i)]).limit(1))\n",
    "    for doc in res:\n",
    "        min_max_time.append(doc[\"time\"])"
   ]
  },
  {
   "cell_type": "code",
   "execution_count": 125,
   "metadata": {},
   "outputs": [
    {
     "data": {
      "text/plain": [
       "[datetime.datetime(2022, 6, 27, 4, 47, 58),\n",
       " datetime.datetime(2022, 6, 30, 10, 56, 1)]"
      ]
     },
     "execution_count": 125,
     "metadata": {},
     "output_type": "execute_result"
    }
   ],
   "source": [
    "min_max_time"
   ]
  }
 ],
 "metadata": {
  "kernelspec": {
   "display_name": "Python 3.8.6 64-bit ('lewagon')",
   "language": "python",
   "name": "python3"
  },
  "language_info": {
   "codemirror_mode": {
    "name": "ipython",
    "version": 3
   },
   "file_extension": ".py",
   "mimetype": "text/x-python",
   "name": "python",
   "nbconvert_exporter": "python",
   "pygments_lexer": "ipython3",
   "version": "3.8.6"
  },
  "orig_nbformat": 4,
  "vscode": {
   "interpreter": {
    "hash": "4480b2f098757ddbf2343f805a568ff9094d609d983fd58a5e0f4098332225a4"
   }
  }
 },
 "nbformat": 4,
 "nbformat_minor": 2
}
