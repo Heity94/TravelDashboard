{
 "cells": [
  {
   "cell_type": "code",
   "execution_count": 1,
   "metadata": {},
   "outputs": [],
   "source": [
    "import pandas as pd\n",
    "import numpy as np\n",
    "import os\n",
    "import glob"
   ]
  },
  {
   "cell_type": "code",
   "execution_count": 2,
   "metadata": {},
   "outputs": [],
   "source": [
    "# get path of all .csv files (history from API crawling)\n",
    "all_files = glob.glob(os.path.join(\"/Volumes/Dateien/Coding/Datasets/preproc_data\", \"*.csv\"))"
   ]
  },
  {
   "cell_type": "code",
   "execution_count": 8,
   "metadata": {},
   "outputs": [],
   "source": [
    "all_files_names = []\n",
    "\n",
    "for file in all_files:\n",
    "    all_files_names.append(int(file[-14:-4]))"
   ]
  },
  {
   "cell_type": "markdown",
   "metadata": {},
   "source": [
    "Now go to seneca and create a list of all the filenames in the preproc_data folder (change into the folder first)\n",
    "> printf '%s\\n' \"$PWD\"/* >../all_filenames_seneca.txt\n",
    "\n",
    "Then download this file to your local machine and import it in this notebook"
   ]
  },
  {
   "cell_type": "code",
   "execution_count": 18,
   "metadata": {},
   "outputs": [],
   "source": [
    "all_files_server =np.loadtxt(\"all_filenames_seneca.txt\", dtype=\"object\").tolist()"
   ]
  },
  {
   "cell_type": "code",
   "execution_count": 19,
   "metadata": {},
   "outputs": [],
   "source": [
    "all_files_server_name = []\n",
    "\n",
    "for file in all_files_server:\n",
    "    all_files_server_name.append(int(file[-14:-4]))"
   ]
  },
  {
   "cell_type": "code",
   "execution_count": 22,
   "metadata": {},
   "outputs": [],
   "source": [
    "files_to_download = [file_server for file_server in all_files_server_name if file_server not in all_files_names]"
   ]
  },
  {
   "cell_type": "code",
   "execution_count": 34,
   "metadata": {},
   "outputs": [],
   "source": [
    "path_1 = all_files_server[0][23:-14]\n",
    "path_2 = all_files_server[0][-4:]"
   ]
  },
  {
   "cell_type": "code",
   "execution_count": 35,
   "metadata": {},
   "outputs": [
    {
     "data": {
      "text/plain": [
       "'TravelDashboard/raw_data/preproc_data/'"
      ]
     },
     "execution_count": 35,
     "metadata": {},
     "output_type": "execute_result"
    }
   ],
   "source": [
    "path_1"
   ]
  },
  {
   "cell_type": "code",
   "execution_count": 36,
   "metadata": {},
   "outputs": [],
   "source": [
    "files_to_download_cmpl = []\n",
    "\n",
    "for file in files_to_download:\n",
    "    files_to_download_cmpl.append(path_1+str(file)+path_2)"
   ]
  },
  {
   "cell_type": "code",
   "execution_count": 37,
   "metadata": {},
   "outputs": [],
   "source": [
    "with open('files_to_download.txt', 'w') as f:\n",
    "    for item in files_to_download_cmpl:\n",
    "        f.write(\"%s\\n\" % item)"
   ]
  },
  {
   "cell_type": "markdown",
   "metadata": {},
   "source": [
    "To download the files from this server just run \n",
    "> rsync -av --progress --files-from=files_to_download.txt philipp_heitmann@seneca2.lehre.hwr-berlin.de: /Volumes/Dateien/Coding/Datasets/preproc_data"
   ]
  },
  {
   "cell_type": "code",
   "execution_count": null,
   "metadata": {},
   "outputs": [],
   "source": []
  }
 ],
 "metadata": {
  "kernelspec": {
   "display_name": "Python 3.8.6 64-bit ('lewagon')",
   "language": "python",
   "name": "python3"
  },
  "language_info": {
   "codemirror_mode": {
    "name": "ipython",
    "version": 3
   },
   "file_extension": ".py",
   "mimetype": "text/x-python",
   "name": "python",
   "nbconvert_exporter": "python",
   "pygments_lexer": "ipython3",
   "version": "3.8.6"
  },
  "orig_nbformat": 4,
  "vscode": {
   "interpreter": {
    "hash": "4480b2f098757ddbf2343f805a568ff9094d609d983fd58a5e0f4098332225a4"
   }
  }
 },
 "nbformat": 4,
 "nbformat_minor": 2
}
