{
 "cells": [
  {
   "cell_type": "markdown",
   "metadata": {},
   "source": [
    "# Preprocessing Data from MongoDB"
   ]
  },
  {
   "cell_type": "code",
   "execution_count": 1,
   "metadata": {},
   "outputs": [],
   "source": [
    "# imports\n",
    "from pymongo import MongoClient\n",
    "from pprint import pprint\n",
    "import pandas as pd\n",
    "import numpy as np\n",
    "from datetime import datetime\n",
    "import os \n",
    "import glob"
   ]
  },
  {
   "cell_type": "code",
   "execution_count": 24,
   "metadata": {},
   "outputs": [],
   "source": [
    "# Client connects to \"localhost\" by default \n",
    "client = MongoClient()\n",
    "\n",
    "# Create new client\n",
    "db = client['TravelDashboard']\n",
    "\n",
    "# get path of all .csv files in csv_data folder\n",
    "all_files = glob.glob(os.path.join(os.path.abspath(\"\"), \"Preprocessed_data_24h_2mins\", \"*.csv\"))\n",
    "\n",
    "# Loop over all files in csv_data folder and insert them into the MongoDB\n",
    "for file in all_files:\n",
    "    db.travel_data.insert_many(pd.read_csv(file, index_col=0).to_dict(orient='records'))"
   ]
  },
  {
   "cell_type": "code",
   "execution_count": 20,
   "metadata": {},
   "outputs": [],
   "source": [
    "db.travel_data.drop()"
   ]
  },
  {
   "cell_type": "code",
   "execution_count": 25,
   "metadata": {},
   "outputs": [],
   "source": [
    "query_landing = {\n",
    "    \"geo_altitude\" : { \"$lt\" : 3000 },\n",
    "    \"vertical_rate\" : { \"$lt\" : -4}\n",
    "}\n",
    "query_starting = {\n",
    "    \"geo_altitude\" : { \"$lt\" : 3000 },\n",
    "    \"vertical_rate\" : { \"$gt\" : 4}\n",
    "}"
   ]
  },
  {
   "cell_type": "code",
   "execution_count": 26,
   "metadata": {},
   "outputs": [],
   "source": [
    "def get_data(collection, query_starting, query_landing):\n",
    "    df_starting = pd.DataFrame(list(collection.find(query_starting)))\n",
    "    df_landing = pd.DataFrame(list(collection.find(query_landing)))\n",
    "    df_landing = df_landing.drop(columns=\"_id\")\n",
    "    df_starting = df_starting.drop(columns=\"_id\")\n",
    "\n",
    "    return df_starting, df_landing\n"
   ]
  },
  {
   "cell_type": "code",
   "execution_count": 27,
   "metadata": {},
   "outputs": [],
   "source": [
    "starting, landing = get_data(collection=db.travel_data, query_starting=query_starting, query_landing=query_landing)"
   ]
  },
  {
   "cell_type": "code",
   "execution_count": 30,
   "metadata": {},
   "outputs": [],
   "source": [
    "def get_total_per_country(df_starting = starting, df_landing = landing, from_time = '00:00:00', to_time = '23:59:59'):\n",
    "    #convert epoch time to datetime\n",
    "    df_starting['dtime'] = pd.to_datetime(df_starting['time'], unit='s')\n",
    "    df_landing['dtime'] = pd.to_datetime(df_landing['time'], unit='s')\n",
    "    #define period you want to look at\n",
    "    start = datetime.strptime(from_time, '%H:%M:%S').time()\n",
    "    end = datetime.strptime(to_time, '%H:%M:%S').time()\n",
    "    df_starting = df_starting[df_starting['dtime'].dt.time.between(start, end)]\n",
    "    df_landing = df_landing[df_landing['dtime'].dt.time.between(start, end)]\n",
    "\n",
    "    \n",
    "    #only keep one row per callsign (with the lowest altitude because closest to airport)\n",
    "    df_starting = df_starting.sort_values(by=['geo_altitude'],ascending=True).groupby('callsign',as_index=False).first()\n",
    "    df_landing = df_landing.sort_values(by=['geo_altitude'],ascending=True).groupby('callsign',as_index=False).first()\n",
    "\n",
    "    df_starting = df_starting.groupby('country_cc').agg({'avg_no_seats': 'sum'})\n",
    "    df_landing = df_landing.groupby('country_cc').agg({'avg_no_seats': 'sum'})\n",
    "   \n",
    "    sum_pass = df_landing.avg_no_seats.sub(df_starting['avg_no_seats'], fill_value = 0)\n",
    "    \n",
    "\n",
    "    return sum_pass"
   ]
  },
  {
   "cell_type": "code",
   "execution_count": null,
   "metadata": {},
   "outputs": [],
   "source": []
  }
 ],
 "metadata": {
  "interpreter": {
   "hash": "49b6dcd20435029cd5fee6529db26933be42cb4395bd1c67723985aad3e8cbe0"
  },
  "kernelspec": {
   "display_name": "Python 3.8.8 ('base')",
   "language": "python",
   "name": "python3"
  },
  "language_info": {
   "codemirror_mode": {
    "name": "ipython",
    "version": 3
   },
   "file_extension": ".py",
   "mimetype": "text/x-python",
   "name": "python",
   "nbconvert_exporter": "python",
   "pygments_lexer": "ipython3",
   "version": "3.8.8"
  },
  "orig_nbformat": 4
 },
 "nbformat": 4,
 "nbformat_minor": 2
}
