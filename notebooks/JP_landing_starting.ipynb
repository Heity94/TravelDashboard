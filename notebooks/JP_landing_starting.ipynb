{
 "cells": [
  {
   "cell_type": "code",
   "execution_count": 1,
   "id": "43acafed",
   "metadata": {},
   "outputs": [],
   "source": [
    "import numpy as np\n",
    "import pandas as pd\n",
    "import os\n",
    "import glob\n",
    "from datetime import datetime"
   ]
  },
  {
   "cell_type": "code",
   "execution_count": 16,
   "id": "70e4a739",
   "metadata": {},
   "outputs": [],
   "source": [
    "# get path of all .csv files (history from API crawling)\n",
    "all_files = glob.glob(os.path.join(os.path.dirname(os.path.abspath('')),\"raw_data\",\"preproc_data_first_night\", \"*.csv\"))\n",
    "df = pd.concat((pd.read_csv(f, index_col=0, header=0) for f in all_files))"
   ]
  },
  {
   "cell_type": "code",
   "execution_count": 2,
   "id": "61477b7c",
   "metadata": {},
   "outputs": [],
   "source": [
    "df = pd.read_csv('/Users/jonaspieper/Documents/GitHub/TravelDashboard/raw_data/preproc24hdata.csv')"
   ]
  },
  {
   "cell_type": "code",
   "execution_count": 3,
   "id": "6b90f8af",
   "metadata": {},
   "outputs": [],
   "source": [
    "def get_total_per_country(df = df, from_time = '00:00:00', to_time = '23:59:59'):\n",
    "    #convert epoch time to datetime\n",
    "    df['dtime'] = pd.to_datetime(df['time'], unit='s')\n",
    "    \n",
    "    #define period you want to look at\n",
    "    start = datetime.strptime(from_time, '%H:%M:%S').time()\n",
    "    end = datetime.strptime(to_time, '%H:%M:%S').time()\n",
    "    df = df[df['dtime'].dt.time.between(start, end)]\n",
    "    \n",
    "    #filter for aircraft which are below 1000m(?) and have a vertical rate > 3 OR < -3\n",
    "    df = df[((df['geo_altitude'] < 1000) & (df['vertical_rate'] > 3)) | ((df['geo_altitude'] < 1000) & (df['vertical_rate'] < -3))]\n",
    "    \n",
    "    #create new column which devides into starting or not\n",
    "    df['starting'] = [True if x > 3 else False for x in df['vertical_rate']]\n",
    "    \n",
    "    #only keep one row per callsign (with the lowest altitude because closest to airport)\n",
    "    df = df.sort_values(by=['geo_altitude'],ascending=True).groupby('callsign',as_index=False).first()\n",
    "    \n",
    "    #create df which shows numbers of passenger starting and landing per county\n",
    "    sum_starting_landing = df.groupby(['country_cc','starting']).agg({'avg_no_seats': 'sum'})\n",
    "    sum_starting_landing = sum_starting_landing.rename(columns = {'avg_no_seats':'total_passenger'})\n",
    "\n",
    "    \n",
    "    \n",
    "    \n",
    "    #devide df into starting and landing to calculate difference between arriving and departing passengers\n",
    "    starting = df[df['starting'] == True].groupby('country_cc').sum('avg_no_seats')\n",
    "    landing = df[df['starting'] == False].groupby('country_cc').sum('avg_no_seats')\n",
    "\n",
    "    #create 2nd df for total number per country\n",
    "    sum_pass = landing.avg_no_seats.sub(starting['avg_no_seats'], fill_value = 0)\n",
    "    \n",
    "\n",
    "    return sum_pass, sum_starting_landing"
   ]
  },
  {
   "cell_type": "code",
   "execution_count": 4,
   "id": "05a17731",
   "metadata": {},
   "outputs": [],
   "source": [
    "sum_pass, sum_starting_landing = get_total_per_country()"
   ]
  },
  {
   "cell_type": "code",
   "execution_count": null,
   "id": "9c3be63b",
   "metadata": {},
   "outputs": [],
   "source": [
    "# find parameters for fitting numbers\n",
    "from_time = '00:00:00' \n",
    "to_time = '23:59:59'\n",
    "df = pd.concat((pd.read_csv(f, index_col=0, header=0) for f in all_files))\n",
    "df['dtime'] = pd.to_datetime(df['time'], unit='s')\n",
    "    \n",
    "#define period you want to look at\n",
    "start = datetime.strptime(from_time, '%H:%M:%S').time()\n",
    "end = datetime.strptime(to_time, '%H:%M:%S').time()\n",
    "df = df[df['dtime'].dt.time.between(start, end)]\n",
    "\n",
    "#filter for aircraft which are below 1000m(?) and have a vertical rate > 3 OR < -3\n",
    "df = df[((df['geo_altitude'] < 3500) & (df['vertical_rate'] > 4)) | ((df['geo_altitude'] < 3000) & (df['vertical_rate'] < -4))]\n",
    "\n",
    "#create new column which devides into starting or not\n",
    "df['starting'] = [True if x > 0 else False for x in df['vertical_rate']]\n",
    "\n",
    "starting = df[df['starting'] == True].sort_values(by=['geo_altitude'],ascending=True).groupby('callsign',as_index=False).first()\n",
    "landing = df[df['starting'] == False].sort_values(by=['geo_altitude'],ascending=True).groupby('callsign',as_index=False).first()\n",
    "print(sum(starting['callsign'].isin(landing['callsign']))/len(starting))\n",
    "\n",
    "starting = starting.groupby('country_cc').sum('avg_no_seats')\n",
    "landing = landing.groupby('country_cc').sum('avg_no_seats')\n",
    "\n",
    "#only keep one row per callsign (with the lowest altitude because closest to airport)\n",
    "#df = df.sort_values(by=['geo_altitude'],ascending=True).groupby('callsign',as_index=False).first()\n",
    "\n",
    "#create df which shows numbers of passenger starting and landing per county\n",
    "\n",
    "\n",
    "\n",
    "#devide df into starting and landing to calculate difference between arriving and departing passengers\n",
    "\n",
    "\n",
    "sum_pass = landing.avg_no_seats.sub(starting['avg_no_seats'], fill_value = 0)\n",
    "print(sum_pass.sum())\n",
    "print(starting.shape, landing.shape)\n"
   ]
  },
  {
   "cell_type": "code",
   "execution_count": null,
   "id": "73a4ab5d",
   "metadata": {},
   "outputs": [],
   "source": []
  },
  {
   "cell_type": "code",
   "execution_count": null,
   "id": "1f643479",
   "metadata": {},
   "outputs": [],
   "source": []
  }
 ],
 "metadata": {
  "kernelspec": {
   "display_name": "Python 3",
   "language": "python",
   "name": "python3"
  },
  "language_info": {
   "codemirror_mode": {
    "name": "ipython",
    "version": 3
   },
   "file_extension": ".py",
   "mimetype": "text/x-python",
   "name": "python",
   "nbconvert_exporter": "python",
   "pygments_lexer": "ipython3",
   "version": "3.8.8"
  },
  "toc": {
   "base_numbering": 1,
   "nav_menu": {},
   "number_sections": true,
   "sideBar": true,
   "skip_h1_title": false,
   "title_cell": "Table of Contents",
   "title_sidebar": "Contents",
   "toc_cell": false,
   "toc_position": {},
   "toc_section_display": true,
   "toc_window_display": false
  }
 },
 "nbformat": 4,
 "nbformat_minor": 5
}
