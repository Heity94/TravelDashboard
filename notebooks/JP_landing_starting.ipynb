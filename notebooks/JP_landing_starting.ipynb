{
 "cells": [
  {
   "cell_type": "code",
   "execution_count": 1,
   "id": "43acafed",
   "metadata": {},
   "outputs": [],
   "source": [
    "import numpy as np\n",
    "import pandas as pd\n",
    "import os\n",
    "import glob\n",
    "from datetime import datetime"
   ]
  },
  {
   "cell_type": "code",
   "execution_count": 222,
   "id": "ecece438",
   "metadata": {},
   "outputs": [],
   "source": [
    "# get path of all .csv files (history from API crawling)\n",
    "all_files = glob.glob(os.path.join(os.path.dirname(os.path.abspath('')),\"raw_data\",\"preproc_data_first_night\", \"*.csv\"))\n",
    "df = pd.concat((pd.read_csv(f, index_col=0, header=0) for f in all_files))"
   ]
  },
  {
   "cell_type": "code",
   "execution_count": 298,
   "id": "ccf336be",
   "metadata": {},
   "outputs": [],
   "source": [
    "def get_total_per_country(df = df, from_time = '00:00:00', to_time = '23:59:59'):\n",
    "    #convert epoch time to datetime\n",
    "    df['dtime'] = pd.to_datetime(df['time'], unit='s')\n",
    "    \n",
    "    #define period you want to look at\n",
    "    start = datetime.strptime(from_time, '%H:%M:%S').time()\n",
    "    end = datetime.strptime(to_time, '%H:%M:%S').time()\n",
    "    df = df[df['dtime'].dt.time.between(start, end)]\n",
    "    \n",
    "    #filter for aircraft which are below 1000m(?) and have a vertical rate > 3 OR < -3\n",
    "    df = df[((df['geo_altitude'] < 1000) & (df['vertical_rate'] > 3)) | ((df['geo_altitude'] < 1000) & (df['vertical_rate'] < -3))]\n",
    "    \n",
    "    #create new column which devides into starting or not\n",
    "    df['starting'] = [True if x > 3 else False for x in df['vertical_rate']]\n",
    "    \n",
    "    #only keep one row per callsign (with the lowest altitude because closest to airport)\n",
    "    df = df.sort_values(by=['geo_altitude'],ascending=True).groupby('callsign',as_index=False).first()\n",
    "    \n",
    "    #create df which shows numbers of passenger starting and landing per county\n",
    "    sum_starting_landing = df.groupby(['country_cc','starting']).agg({'avg_no_seats': 'sum'})\n",
    "    sum_starting_landing = sum_starting_landing.rename(columns = {'avg_no_seats':'total_passenger'})\n",
    "\n",
    "    \n",
    "    \n",
    "    \n",
    "    #devide df into starting and landing to calculate difference between arriving and departing passengers\n",
    "    starting = new[new['starting'] == True].groupby('country_cc').sum('avg_no_seats')\n",
    "    landing = new[new['starting'] == False].groupby('country_cc').sum('avg_no_seats')\n",
    "\n",
    "    #create 2nd df for total number per country\n",
    "    sum_pass = landing.avg_no_seats.sub(starting['avg_no_seats'], fill_value = 0)\n",
    "    \n",
    "\n",
    "    return sum_pass, sum_starting_landing"
   ]
  },
  {
   "cell_type": "code",
   "execution_count": 299,
   "id": "0a151fe3",
   "metadata": {},
   "outputs": [],
   "source": [
    "sum_pass, sum_starting_landing = get_total_per_country(from_time = '06:00:00', to_time = '08:00:00')"
   ]
  },
  {
   "cell_type": "code",
   "execution_count": 300,
   "id": "2c842cde",
   "metadata": {},
   "outputs": [
    {
     "data": {
      "text/plain": [
       "country_cc\n",
       "AD      180.4\n",
       "AE    38964.3\n",
       "AL     1779.0\n",
       "AR    20608.8\n",
       "AT    17434.9\n",
       "       ...   \n",
       "VA      193.6\n",
       "VE     -176.0\n",
       "VN     5156.0\n",
       "XK      714.1\n",
       "ZA      911.0\n",
       "Name: avg_no_seats, Length: 103, dtype: float64"
      ]
     },
     "execution_count": 300,
     "metadata": {},
     "output_type": "execute_result"
    }
   ],
   "source": [
    "sum_pass"
   ]
  },
  {
   "cell_type": "code",
   "execution_count": 301,
   "id": "41d18d42",
   "metadata": {},
   "outputs": [
    {
     "data": {
      "text/html": [
       "<div>\n",
       "<style scoped>\n",
       "    .dataframe tbody tr th:only-of-type {\n",
       "        vertical-align: middle;\n",
       "    }\n",
       "\n",
       "    .dataframe tbody tr th {\n",
       "        vertical-align: top;\n",
       "    }\n",
       "\n",
       "    .dataframe thead th {\n",
       "        text-align: right;\n",
       "    }\n",
       "</style>\n",
       "<table border=\"1\" class=\"dataframe\">\n",
       "  <thead>\n",
       "    <tr style=\"text-align: right;\">\n",
       "      <th></th>\n",
       "      <th></th>\n",
       "      <th>total_passenger</th>\n",
       "    </tr>\n",
       "    <tr>\n",
       "      <th>country_cc</th>\n",
       "      <th>starting</th>\n",
       "      <th></th>\n",
       "    </tr>\n",
       "  </thead>\n",
       "  <tbody>\n",
       "    <tr>\n",
       "      <th rowspan=\"2\" valign=\"top\">AE</th>\n",
       "      <th>False</th>\n",
       "      <td>11292.0</td>\n",
       "    </tr>\n",
       "    <tr>\n",
       "      <th>True</th>\n",
       "      <td>14929.8</td>\n",
       "    </tr>\n",
       "    <tr>\n",
       "      <th rowspan=\"2\" valign=\"top\">AR</th>\n",
       "      <th>False</th>\n",
       "      <td>670.0</td>\n",
       "    </tr>\n",
       "    <tr>\n",
       "      <th>True</th>\n",
       "      <td>176.0</td>\n",
       "    </tr>\n",
       "    <tr>\n",
       "      <th>AT</th>\n",
       "      <th>False</th>\n",
       "      <td>6770.6</td>\n",
       "    </tr>\n",
       "    <tr>\n",
       "      <th>...</th>\n",
       "      <th>...</th>\n",
       "      <td>...</td>\n",
       "    </tr>\n",
       "    <tr>\n",
       "      <th>US</th>\n",
       "      <th>True</th>\n",
       "      <td>33299.8</td>\n",
       "    </tr>\n",
       "    <tr>\n",
       "      <th rowspan=\"2\" valign=\"top\">VN</th>\n",
       "      <th>False</th>\n",
       "      <td>419.1</td>\n",
       "    </tr>\n",
       "    <tr>\n",
       "      <th>True</th>\n",
       "      <td>180.0</td>\n",
       "    </tr>\n",
       "    <tr>\n",
       "      <th rowspan=\"2\" valign=\"top\">ZA</th>\n",
       "      <th>False</th>\n",
       "      <td>783.0</td>\n",
       "    </tr>\n",
       "    <tr>\n",
       "      <th>True</th>\n",
       "      <td>180.0</td>\n",
       "    </tr>\n",
       "  </tbody>\n",
       "</table>\n",
       "<p>123 rows × 1 columns</p>\n",
       "</div>"
      ],
      "text/plain": [
       "                     total_passenger\n",
       "country_cc starting                 \n",
       "AE         False             11292.0\n",
       "           True              14929.8\n",
       "AR         False               670.0\n",
       "           True                176.0\n",
       "AT         False              6770.6\n",
       "...                              ...\n",
       "US         True              33299.8\n",
       "VN         False               419.1\n",
       "           True                180.0\n",
       "ZA         False               783.0\n",
       "           True                180.0\n",
       "\n",
       "[123 rows x 1 columns]"
      ]
     },
     "execution_count": 301,
     "metadata": {},
     "output_type": "execute_result"
    }
   ],
   "source": [
    "sum_starting_landing"
   ]
  },
  {
   "cell_type": "code",
   "execution_count": null,
   "id": "2ccf33e9",
   "metadata": {},
   "outputs": [],
   "source": []
  }
 ],
 "metadata": {
  "kernelspec": {
   "display_name": "Python 3",
   "language": "python",
   "name": "python3"
  },
  "language_info": {
   "codemirror_mode": {
    "name": "ipython",
    "version": 3
   },
   "file_extension": ".py",
   "mimetype": "text/x-python",
   "name": "python",
   "nbconvert_exporter": "python",
   "pygments_lexer": "ipython3",
   "version": "3.8.8"
  },
  "toc": {
   "base_numbering": 1,
   "nav_menu": {},
   "number_sections": true,
   "sideBar": true,
   "skip_h1_title": false,
   "title_cell": "Table of Contents",
   "title_sidebar": "Contents",
   "toc_cell": false,
   "toc_position": {},
   "toc_section_display": true,
   "toc_window_display": false
  }
 },
 "nbformat": 4,
 "nbformat_minor": 5
}
