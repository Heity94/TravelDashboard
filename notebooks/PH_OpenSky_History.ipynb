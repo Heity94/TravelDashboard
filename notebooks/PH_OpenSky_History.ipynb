{
 "cells": [
  {
   "cell_type": "code",
   "execution_count": 1,
   "id": "6d369189",
   "metadata": {},
   "outputs": [],
   "source": [
    "import numpy as np\n",
    "import pandas as pd\n",
    "import os\n",
    "import glob"
   ]
  },
  {
   "cell_type": "markdown",
   "id": "2d470b0e",
   "metadata": {},
   "source": [
    "# Load and create DataFrame"
   ]
  },
  {
   "cell_type": "markdown",
   "id": "d47e7f66",
   "metadata": {},
   "source": [
    "### Load and combine files into one DataFrame"
   ]
  },
  {
   "cell_type": "code",
   "execution_count": 54,
   "id": "1f7fb718",
   "metadata": {},
   "outputs": [],
   "source": [
    "# get path of all .csv files (history from API crawling)\n",
    "all_files = glob.glob(os.path.join(os.path.dirname(os.path.abspath('')),\"raw_data\",\"api_test1\", \"*.csv\"))\n",
    "\n",
    "# Define column names \n",
    "col_names=['icao24','callsign','origin_country','time_position','last_contact','long','lat','baro_altitude','on_ground','velocity',       \n",
    "'true_track','vertical_rate','sensors','geo_altitude','squawk','spi','position_source', \"drop\", \"time\"]\n",
    "\n",
    "# Concatenate to large Dataframe\n",
    "df = pd.concat((pd.read_csv(f, index_col=0, names=col_names, header=0) for f in all_files)) \n",
    "df.drop(columns=[\"drop\"], inplace=True) # drop column where we don't know what i represents (not mentioned in Documentation)\n",
    "df.dropna(subset=['lat', \"long\", \"icao24\"], inplace=True) #drop rows where lat or long or icao24 is NaN\n"
   ]
  },
  {
   "cell_type": "markdown",
   "id": "f17ba899",
   "metadata": {},
   "source": [
    "### Function to Filter for passenger flights "
   ]
  },
  {
   "cell_type": "code",
   "execution_count": 55,
   "id": "de676d8d",
   "metadata": {},
   "outputs": [],
   "source": [
    "# Create function to filter dataframe for passenger carriers based on Wikipedia List\n",
    "\n",
    "def filter_passenger_carriers(flights_df):\n",
    "    \n",
    "    # Create list of carriers and type of transport \n",
    "    wikiurl = \"https://de.wikipedia.org/wiki/Liste_von_Fluggesellschaften\" #URL of lists of carriers from \n",
    "    carriers_df = pd.DataFrame(pd.read_html(wikiurl, keep_default_na=False)[1]) # read table from wikipedia\n",
    "    car_types = [\"B\", \"C\", \"P\", \"P+\", \"U\", \"U+\"] # Labels for passenger carriers\n",
    "    p_carriers = carriers_df[carriers_df[\"Bemerkung\"].isin(car_types)] # Filter wikipedia table for passenger carriers\n",
    "\n",
    "    # merge carrier to df\n",
    "    pflights_df = flights_df[flights_df.callsign.str[:3].isin(p_carriers.ICAO)].copy() # Filter flights only to include passenger flights\n",
    "    pflights_df[\"callsign_carrier\"] = pflights_df[\"callsign\"].str[:3] # extra column (not sure if needed)\n",
    "    pflights_df = pflights_df.merge(p_carriers[[\"Name\", \"ICAO\"]], left_on=\"callsign_carrier\", right_on=\"ICAO\", how=\"left\")\n",
    "    pflights_df.rename(columns = {'Name':'carrier_company', \"ICAO\":\"icao\"}, inplace = True)\n",
    "    pflights_df.drop(columns=[\"icao\"], inplace=True)\n",
    "    \n",
    "    return pflights_df\n",
    "    "
   ]
  },
  {
   "cell_type": "code",
   "execution_count": 56,
   "id": "4673385d",
   "metadata": {},
   "outputs": [],
   "source": [
    "pflights_df = filter_passenger_carriers(df)"
   ]
  },
  {
   "cell_type": "code",
   "execution_count": 57,
   "id": "e499ab5a",
   "metadata": {},
   "outputs": [
    {
     "data": {
      "text/html": [
       "<div>\n",
       "<style scoped>\n",
       "    .dataframe tbody tr th:only-of-type {\n",
       "        vertical-align: middle;\n",
       "    }\n",
       "\n",
       "    .dataframe tbody tr th {\n",
       "        vertical-align: top;\n",
       "    }\n",
       "\n",
       "    .dataframe thead th {\n",
       "        text-align: right;\n",
       "    }\n",
       "</style>\n",
       "<table border=\"1\" class=\"dataframe\">\n",
       "  <thead>\n",
       "    <tr style=\"text-align: right;\">\n",
       "      <th></th>\n",
       "      <th>icao24</th>\n",
       "      <th>callsign</th>\n",
       "      <th>origin_country</th>\n",
       "      <th>time_position</th>\n",
       "      <th>last_contact</th>\n",
       "      <th>long</th>\n",
       "      <th>lat</th>\n",
       "      <th>baro_altitude</th>\n",
       "      <th>on_ground</th>\n",
       "      <th>velocity</th>\n",
       "      <th>true_track</th>\n",
       "      <th>vertical_rate</th>\n",
       "      <th>sensors</th>\n",
       "      <th>geo_altitude</th>\n",
       "      <th>squawk</th>\n",
       "      <th>spi</th>\n",
       "      <th>position_source</th>\n",
       "      <th>time</th>\n",
       "      <th>callsign_carrier</th>\n",
       "      <th>carrier_company</th>\n",
       "    </tr>\n",
       "  </thead>\n",
       "  <tbody>\n",
       "    <tr>\n",
       "      <th>0</th>\n",
       "      <td>a808c4</td>\n",
       "      <td>PDT6104</td>\n",
       "      <td>United States</td>\n",
       "      <td>1652824461.0</td>\n",
       "      <td>1.652824e+09</td>\n",
       "      <td>-72.5089</td>\n",
       "      <td>42.8871</td>\n",
       "      <td>7315.20</td>\n",
       "      <td>0.0</td>\n",
       "      <td>193.95</td>\n",
       "      <td>280.24</td>\n",
       "      <td>-0.33</td>\n",
       "      <td>NaN</td>\n",
       "      <td>7223.76</td>\n",
       "      <td>5354.0</td>\n",
       "      <td>0.0</td>\n",
       "      <td>0</td>\n",
       "      <td>1652824461</td>\n",
       "      <td>PDT</td>\n",
       "      <td>Piedmont Airlines</td>\n",
       "    </tr>\n",
       "    <tr>\n",
       "      <th>1</th>\n",
       "      <td>4b1816</td>\n",
       "      <td>SWR240J</td>\n",
       "      <td>Switzerland</td>\n",
       "      <td>1652824461.0</td>\n",
       "      <td>1.652824e+09</td>\n",
       "      <td>17.6831</td>\n",
       "      <td>58.9641</td>\n",
       "      <td>4221.48</td>\n",
       "      <td>0.0</td>\n",
       "      <td>182.06</td>\n",
       "      <td>24.90</td>\n",
       "      <td>-10.08</td>\n",
       "      <td>NaN</td>\n",
       "      <td>4343.40</td>\n",
       "      <td>3076.0</td>\n",
       "      <td>0.0</td>\n",
       "      <td>0</td>\n",
       "      <td>1652824461</td>\n",
       "      <td>SWR</td>\n",
       "      <td>Swiss</td>\n",
       "    </tr>\n",
       "    <tr>\n",
       "      <th>2</th>\n",
       "      <td>ab1644</td>\n",
       "      <td>UAL1955</td>\n",
       "      <td>United States</td>\n",
       "      <td>1652824461.0</td>\n",
       "      <td>1.652824e+09</td>\n",
       "      <td>-96.2348</td>\n",
       "      <td>29.5126</td>\n",
       "      <td>4427.22</td>\n",
       "      <td>0.0</td>\n",
       "      <td>167.52</td>\n",
       "      <td>42.26</td>\n",
       "      <td>-11.05</td>\n",
       "      <td>NaN</td>\n",
       "      <td>4686.30</td>\n",
       "      <td>NaN</td>\n",
       "      <td>0.0</td>\n",
       "      <td>0</td>\n",
       "      <td>1652824461</td>\n",
       "      <td>UAL</td>\n",
       "      <td>United Airlines</td>\n",
       "    </tr>\n",
       "    <tr>\n",
       "      <th>3</th>\n",
       "      <td>e8027c</td>\n",
       "      <td>LPE2314</td>\n",
       "      <td>Chile</td>\n",
       "      <td>1652824461.0</td>\n",
       "      <td>1.652824e+09</td>\n",
       "      <td>-77.4207</td>\n",
       "      <td>-12.0136</td>\n",
       "      <td>3703.32</td>\n",
       "      <td>0.0</td>\n",
       "      <td>185.91</td>\n",
       "      <td>316.01</td>\n",
       "      <td>20.16</td>\n",
       "      <td>NaN</td>\n",
       "      <td>NaN</td>\n",
       "      <td>NaN</td>\n",
       "      <td>0.0</td>\n",
       "      <td>0</td>\n",
       "      <td>1652824461</td>\n",
       "      <td>LPE</td>\n",
       "      <td>LATAM Airlines Perú</td>\n",
       "    </tr>\n",
       "    <tr>\n",
       "      <th>4</th>\n",
       "      <td>aa56db</td>\n",
       "      <td>UAL2496</td>\n",
       "      <td>United States</td>\n",
       "      <td>1652824455.0</td>\n",
       "      <td>1.652824e+09</td>\n",
       "      <td>-94.8009</td>\n",
       "      <td>29.9033</td>\n",
       "      <td>4008.12</td>\n",
       "      <td>0.0</td>\n",
       "      <td>178.81</td>\n",
       "      <td>95.45</td>\n",
       "      <td>6.83</td>\n",
       "      <td>NaN</td>\n",
       "      <td>4213.86</td>\n",
       "      <td>NaN</td>\n",
       "      <td>0.0</td>\n",
       "      <td>0</td>\n",
       "      <td>1652824461</td>\n",
       "      <td>UAL</td>\n",
       "      <td>United Airlines</td>\n",
       "    </tr>\n",
       "  </tbody>\n",
       "</table>\n",
       "</div>"
      ],
      "text/plain": [
       "   icao24  callsign origin_country time_position  last_contact     long  \\\n",
       "0  a808c4  PDT6104   United States  1652824461.0  1.652824e+09 -72.5089   \n",
       "1  4b1816  SWR240J     Switzerland  1652824461.0  1.652824e+09  17.6831   \n",
       "2  ab1644  UAL1955   United States  1652824461.0  1.652824e+09 -96.2348   \n",
       "3  e8027c  LPE2314           Chile  1652824461.0  1.652824e+09 -77.4207   \n",
       "4  aa56db  UAL2496   United States  1652824455.0  1.652824e+09 -94.8009   \n",
       "\n",
       "       lat  baro_altitude  on_ground  velocity  true_track  vertical_rate  \\\n",
       "0  42.8871        7315.20        0.0    193.95      280.24          -0.33   \n",
       "1  58.9641        4221.48        0.0    182.06       24.90         -10.08   \n",
       "2  29.5126        4427.22        0.0    167.52       42.26         -11.05   \n",
       "3 -12.0136        3703.32        0.0    185.91      316.01          20.16   \n",
       "4  29.9033        4008.12        0.0    178.81       95.45           6.83   \n",
       "\n",
       "   sensors  geo_altitude  squawk  spi  position_source        time  \\\n",
       "0      NaN       7223.76  5354.0  0.0                0  1652824461   \n",
       "1      NaN       4343.40  3076.0  0.0                0  1652824461   \n",
       "2      NaN       4686.30     NaN  0.0                0  1652824461   \n",
       "3      NaN           NaN     NaN  0.0                0  1652824461   \n",
       "4      NaN       4213.86     NaN  0.0                0  1652824461   \n",
       "\n",
       "  callsign_carrier      carrier_company  \n",
       "0              PDT    Piedmont Airlines  \n",
       "1              SWR                Swiss  \n",
       "2              UAL      United Airlines  \n",
       "3              LPE  LATAM Airlines Perú  \n",
       "4              UAL      United Airlines  "
      ]
     },
     "execution_count": 57,
     "metadata": {},
     "output_type": "execute_result"
    }
   ],
   "source": [
    "pflights_df.head()"
   ]
  },
  {
   "cell_type": "markdown",
   "id": "8acffd8b",
   "metadata": {},
   "source": [
    "### Function to merge aircraft data to df"
   ]
  },
  {
   "cell_type": "code",
   "execution_count": 157,
   "id": "8523d0b8",
   "metadata": {},
   "outputs": [],
   "source": [
    "def get_aircraft_data(pflights_df):\n",
    "    # Load Database from OpenSky (I downloaded it from their website, but it gets currently updated)\n",
    "    opensky_DB = pd.read_csv(\"../raw_data/aircraftDatabase.csv\")\n",
    "\n",
    "    # Merge pflights df with openskyDB on \"icao24\"\n",
    "    pflights_df = pflights_df.merge(opensky_DB[['icao24', 'registration', 'manufacturericao', 'manufacturername',\n",
    "           'model', 'typecode', 'serialnumber', 'linenumber', 'icaoaircrafttype',\n",
    "           'operator', 'operatorcallsign', 'operatoricao', 'operatoriata', 'owner']], on=\"icao24\", how=\"left\")\n",
    "    \n",
    "    return pflights_df"
   ]
  },
  {
   "cell_type": "code",
   "execution_count": 58,
   "id": "2e7a6586",
   "metadata": {},
   "outputs": [],
   "source": [
    "pflights_df = get_aircraft_data(pflights_df)"
   ]
  },
  {
   "cell_type": "markdown",
   "id": "25ae73d1",
   "metadata": {},
   "source": [
    "### Function for Reverse Geoencoding"
   ]
  },
  {
   "cell_type": "code",
   "execution_count": 60,
   "id": "62a83d28",
   "metadata": {},
   "outputs": [],
   "source": [
    "# Get location based on lat and long\n",
    "import reverse_geocoder"
   ]
  },
  {
   "cell_type": "code",
   "execution_count": 154,
   "id": "7fd90b53",
   "metadata": {},
   "outputs": [],
   "source": [
    "# Function to map cities based on lat and long\n",
    "def rev_geocode(pflights_df):\n",
    "    \n",
    "    # create coord column with the required format for the reverse_geocoder\n",
    "    pflights_df[\"coord\"]= [(lat, long) for lat, long in zip(pflights_df[\"lat\"], pflights_df[\"long\"])]\n",
    "    \n",
    "    # Get coordinates \n",
    "    coordinates = pflights_df.coord.tolist()\n",
    "    rev_geo = reverse_geocoder.search(coordinates)\n",
    "    \n",
    "    # Create df and filter important rows\n",
    "    rev_geo_df = pd.DataFrame(rev_geo)[[\"name\", \"admin1\", \"admin2\", \"cc\"]]\n",
    "    rev_geo_df.columns = [\"city_name\", \"reg_admin1\", \"reg_admin2\", \"country_cc\"]\n",
    "    \n",
    "    # Concat Geo Data with old dataframe\n",
    "    pflights_df_final = pd.concat([pflights_df, rev_geo_df], axis=1)\n",
    "    \n",
    "    return pflights_df_final"
   ]
  },
  {
   "cell_type": "code",
   "execution_count": 78,
   "id": "01620a0d",
   "metadata": {},
   "outputs": [],
   "source": [
    "# Concat Geo Data with old dataframe\n",
    "pflights_df_f = rev_geocode(pflights_df)"
   ]
  },
  {
   "cell_type": "markdown",
   "id": "6bf6f63d",
   "metadata": {},
   "source": [
    "### Create combined preprocessing function"
   ]
  },
  {
   "cell_type": "code",
   "execution_count": 158,
   "id": "d082d912",
   "metadata": {},
   "outputs": [],
   "source": [
    "def preproc_flight_data(df):\n",
    "    flights_df = filter_passenger_carriers(df)\n",
    "    flights_df = get_aircraft_data(flights_df)\n",
    "    flights_df = rev_geocode(flights_df)\n",
    "    \n",
    "    return flights_df"
   ]
  },
  {
   "cell_type": "code",
   "execution_count": 159,
   "id": "ab7b6830",
   "metadata": {},
   "outputs": [],
   "source": [
    "pflights_df_f=preproc_flight_data(df)"
   ]
  },
  {
   "cell_type": "code",
   "execution_count": 160,
   "id": "d448fc02",
   "metadata": {},
   "outputs": [
    {
     "data": {
      "text/plain": [
       "(159522, 38)"
      ]
     },
     "execution_count": 160,
     "metadata": {},
     "output_type": "execute_result"
    }
   ],
   "source": [
    "pflights_df_f.shape"
   ]
  },
  {
   "cell_type": "markdown",
   "id": "23311989",
   "metadata": {},
   "source": [
    "# Find aircrafts which have been on the ground in two different cities"
   ]
  },
  {
   "cell_type": "code",
   "execution_count": 165,
   "id": "1ce5f07f",
   "metadata": {},
   "outputs": [
    {
     "data": {
      "text/html": [
       "<div>\n",
       "<style scoped>\n",
       "    .dataframe tbody tr th:only-of-type {\n",
       "        vertical-align: middle;\n",
       "    }\n",
       "\n",
       "    .dataframe tbody tr th {\n",
       "        vertical-align: top;\n",
       "    }\n",
       "\n",
       "    .dataframe thead th {\n",
       "        text-align: right;\n",
       "    }\n",
       "</style>\n",
       "<table border=\"1\" class=\"dataframe\">\n",
       "  <thead>\n",
       "    <tr style=\"text-align: right;\">\n",
       "      <th></th>\n",
       "      <th>on_ground</th>\n",
       "      <th>time</th>\n",
       "    </tr>\n",
       "    <tr>\n",
       "      <th>icao24</th>\n",
       "      <th></th>\n",
       "      <th></th>\n",
       "    </tr>\n",
       "  </thead>\n",
       "  <tbody>\n",
       "    <tr>\n",
       "      <th>4075e0</th>\n",
       "      <td>2</td>\n",
       "      <td>44</td>\n",
       "    </tr>\n",
       "    <tr>\n",
       "      <th>4ca92d</th>\n",
       "      <td>2</td>\n",
       "      <td>44</td>\n",
       "    </tr>\n",
       "    <tr>\n",
       "      <th>4074b5</th>\n",
       "      <td>2</td>\n",
       "      <td>44</td>\n",
       "    </tr>\n",
       "    <tr>\n",
       "      <th>4b1808</th>\n",
       "      <td>2</td>\n",
       "      <td>44</td>\n",
       "    </tr>\n",
       "    <tr>\n",
       "      <th>407ac4</th>\n",
       "      <td>2</td>\n",
       "      <td>44</td>\n",
       "    </tr>\n",
       "    <tr>\n",
       "      <th>...</th>\n",
       "      <td>...</td>\n",
       "      <td>...</td>\n",
       "    </tr>\n",
       "    <tr>\n",
       "      <th>45caa6</th>\n",
       "      <td>2</td>\n",
       "      <td>2</td>\n",
       "    </tr>\n",
       "    <tr>\n",
       "      <th>7c6b39</th>\n",
       "      <td>2</td>\n",
       "      <td>2</td>\n",
       "    </tr>\n",
       "    <tr>\n",
       "      <th>71bf72</th>\n",
       "      <td>2</td>\n",
       "      <td>2</td>\n",
       "    </tr>\n",
       "    <tr>\n",
       "      <th>7c806e</th>\n",
       "      <td>2</td>\n",
       "      <td>2</td>\n",
       "    </tr>\n",
       "    <tr>\n",
       "      <th>4b18bb</th>\n",
       "      <td>2</td>\n",
       "      <td>2</td>\n",
       "    </tr>\n",
       "  </tbody>\n",
       "</table>\n",
       "<p>3190 rows × 2 columns</p>\n",
       "</div>"
      ],
      "text/plain": [
       "        on_ground  time\n",
       "icao24                 \n",
       "4075e0          2    44\n",
       "4ca92d          2    44\n",
       "4074b5          2    44\n",
       "4b1808          2    44\n",
       "407ac4          2    44\n",
       "...           ...   ...\n",
       "45caa6          2     2\n",
       "7c6b39          2     2\n",
       "71bf72          2     2\n",
       "7c806e          2     2\n",
       "4b18bb          2     2\n",
       "\n",
       "[3190 rows x 2 columns]"
      ]
     },
     "execution_count": 165,
     "metadata": {},
     "output_type": "execute_result"
    }
   ],
   "source": [
    "# find aircrafts who had the status on ground True AND False\n",
    "groups = pflights_df_f.groupby(\"icao24\")[[\"on_ground\", \"time\"]].nunique()#.sort_values(by=[\"on_ground\"], ascending=False)\n",
    "land_air = groups[groups['on_ground'] == 2].sort_values(by=[\"time\"], ascending=False)\n",
    "land_air"
   ]
  },
  {
   "cell_type": "code",
   "execution_count": 169,
   "id": "7f877a57",
   "metadata": {},
   "outputs": [],
   "source": [
    "#Filter original df for records from airplanes which have been on ground an in the air\n",
    "land_air_df = pflights_df_f[pflights_df_f.icao24.isin(land_air.index)]"
   ]
  },
  {
   "cell_type": "code",
   "execution_count": 172,
   "id": "afe123d5",
   "metadata": {},
   "outputs": [
    {
     "data": {
      "text/html": [
       "<div>\n",
       "<style scoped>\n",
       "    .dataframe tbody tr th:only-of-type {\n",
       "        vertical-align: middle;\n",
       "    }\n",
       "\n",
       "    .dataframe tbody tr th {\n",
       "        vertical-align: top;\n",
       "    }\n",
       "\n",
       "    .dataframe thead th {\n",
       "        text-align: right;\n",
       "    }\n",
       "</style>\n",
       "<table border=\"1\" class=\"dataframe\">\n",
       "  <thead>\n",
       "    <tr style=\"text-align: right;\">\n",
       "      <th></th>\n",
       "      <th>icao24</th>\n",
       "      <th>callsign</th>\n",
       "      <th>origin_country</th>\n",
       "      <th>time_position</th>\n",
       "      <th>last_contact</th>\n",
       "      <th>long</th>\n",
       "      <th>lat</th>\n",
       "      <th>baro_altitude</th>\n",
       "      <th>on_ground</th>\n",
       "      <th>velocity</th>\n",
       "      <th>...</th>\n",
       "      <th>operator</th>\n",
       "      <th>operatorcallsign</th>\n",
       "      <th>operatoricao</th>\n",
       "      <th>operatoriata</th>\n",
       "      <th>owner</th>\n",
       "      <th>coord</th>\n",
       "      <th>city_name</th>\n",
       "      <th>reg_admin1</th>\n",
       "      <th>reg_admin2</th>\n",
       "      <th>country_cc</th>\n",
       "    </tr>\n",
       "  </thead>\n",
       "  <tbody>\n",
       "    <tr>\n",
       "      <th>55622</th>\n",
       "      <td>e8045b</td>\n",
       "      <td>LPE2485</td>\n",
       "      <td>Chile</td>\n",
       "      <td>1652833566.0</td>\n",
       "      <td>1.652834e+09</td>\n",
       "      <td>-8.1964</td>\n",
       "      <td>39.0654</td>\n",
       "      <td>10058.40</td>\n",
       "      <td>0.0</td>\n",
       "      <td>229.87</td>\n",
       "      <td>...</td>\n",
       "      <td>NaN</td>\n",
       "      <td>LAN</td>\n",
       "      <td>LAN</td>\n",
       "      <td>NaN</td>\n",
       "      <td>Latam Airlines</td>\n",
       "      <td>(39.0654, -8.1964)</td>\n",
       "      <td>Santo Andre</td>\n",
       "      <td>Portalegre</td>\n",
       "      <td>Ponte de Sor</td>\n",
       "      <td>PT</td>\n",
       "    </tr>\n",
       "    <tr>\n",
       "      <th>40820</th>\n",
       "      <td>e8045b</td>\n",
       "      <td>LPE2485</td>\n",
       "      <td>Chile</td>\n",
       "      <td>1652832665.0</td>\n",
       "      <td>1.652833e+09</td>\n",
       "      <td>-5.9398</td>\n",
       "      <td>39.7388</td>\n",
       "      <td>8724.90</td>\n",
       "      <td>0.0</td>\n",
       "      <td>243.19</td>\n",
       "      <td>...</td>\n",
       "      <td>NaN</td>\n",
       "      <td>LAN</td>\n",
       "      <td>LAN</td>\n",
       "      <td>NaN</td>\n",
       "      <td>Latam Airlines</td>\n",
       "      <td>(39.7388, -5.9398)</td>\n",
       "      <td>Torrejon el Rubio</td>\n",
       "      <td>Extremadura</td>\n",
       "      <td>Provincia de Caceres</td>\n",
       "      <td>ES</td>\n",
       "    </tr>\n",
       "    <tr>\n",
       "      <th>8766</th>\n",
       "      <td>e8045b</td>\n",
       "      <td>LPE2485</td>\n",
       "      <td>Chile</td>\n",
       "      <td>1652832362.0</td>\n",
       "      <td>1.652832e+09</td>\n",
       "      <td>-5.1853</td>\n",
       "      <td>40.0590</td>\n",
       "      <td>7475.22</td>\n",
       "      <td>0.0</td>\n",
       "      <td>240.10</td>\n",
       "      <td>...</td>\n",
       "      <td>NaN</td>\n",
       "      <td>LAN</td>\n",
       "      <td>LAN</td>\n",
       "      <td>NaN</td>\n",
       "      <td>Latam Airlines</td>\n",
       "      <td>(40.059, -5.1853)</td>\n",
       "      <td>Navalcan</td>\n",
       "      <td>Castille-La Mancha</td>\n",
       "      <td>Province of Toledo</td>\n",
       "      <td>ES</td>\n",
       "    </tr>\n",
       "    <tr>\n",
       "      <th>95599</th>\n",
       "      <td>e8045b</td>\n",
       "      <td>LPE2485</td>\n",
       "      <td>Chile</td>\n",
       "      <td>1652831764.0</td>\n",
       "      <td>1.652832e+09</td>\n",
       "      <td>-3.8129</td>\n",
       "      <td>40.6219</td>\n",
       "      <td>3665.22</td>\n",
       "      <td>0.0</td>\n",
       "      <td>174.22</td>\n",
       "      <td>...</td>\n",
       "      <td>NaN</td>\n",
       "      <td>LAN</td>\n",
       "      <td>LAN</td>\n",
       "      <td>NaN</td>\n",
       "      <td>Latam Airlines</td>\n",
       "      <td>(40.6219, -3.8129)</td>\n",
       "      <td>Colmenar Viejo</td>\n",
       "      <td>Madrid</td>\n",
       "      <td>Provincia de Madrid</td>\n",
       "      <td>ES</td>\n",
       "    </tr>\n",
       "    <tr>\n",
       "      <th>150044</th>\n",
       "      <td>e8045b</td>\n",
       "      <td>LPE2485</td>\n",
       "      <td>Chile</td>\n",
       "      <td>1652831457.0</td>\n",
       "      <td>1.652831e+09</td>\n",
       "      <td>-3.5750</td>\n",
       "      <td>40.5557</td>\n",
       "      <td>891.54</td>\n",
       "      <td>0.0</td>\n",
       "      <td>108.58</td>\n",
       "      <td>...</td>\n",
       "      <td>NaN</td>\n",
       "      <td>LAN</td>\n",
       "      <td>LAN</td>\n",
       "      <td>NaN</td>\n",
       "      <td>Latam Airlines</td>\n",
       "      <td>(40.5557, -3.575)</td>\n",
       "      <td>San Sebastian de los Reyes</td>\n",
       "      <td>Madrid</td>\n",
       "      <td>Provincia de Madrid</td>\n",
       "      <td>ES</td>\n",
       "    </tr>\n",
       "  </tbody>\n",
       "</table>\n",
       "<p>5 rows × 38 columns</p>\n",
       "</div>"
      ],
      "text/plain": [
       "        icao24  callsign origin_country time_position  last_contact    long  \\\n",
       "55622   e8045b  LPE2485           Chile  1652833566.0  1.652834e+09 -8.1964   \n",
       "40820   e8045b  LPE2485           Chile  1652832665.0  1.652833e+09 -5.9398   \n",
       "8766    e8045b  LPE2485           Chile  1652832362.0  1.652832e+09 -5.1853   \n",
       "95599   e8045b  LPE2485           Chile  1652831764.0  1.652832e+09 -3.8129   \n",
       "150044  e8045b  LPE2485           Chile  1652831457.0  1.652831e+09 -3.5750   \n",
       "\n",
       "            lat  baro_altitude  on_ground  velocity  ...  operator  \\\n",
       "55622   39.0654       10058.40        0.0    229.87  ...       NaN   \n",
       "40820   39.7388        8724.90        0.0    243.19  ...       NaN   \n",
       "8766    40.0590        7475.22        0.0    240.10  ...       NaN   \n",
       "95599   40.6219        3665.22        0.0    174.22  ...       NaN   \n",
       "150044  40.5557         891.54        0.0    108.58  ...       NaN   \n",
       "\n",
       "        operatorcallsign  operatoricao  operatoriata           owner  \\\n",
       "55622                LAN           LAN           NaN  Latam Airlines   \n",
       "40820                LAN           LAN           NaN  Latam Airlines   \n",
       "8766                 LAN           LAN           NaN  Latam Airlines   \n",
       "95599                LAN           LAN           NaN  Latam Airlines   \n",
       "150044               LAN           LAN           NaN  Latam Airlines   \n",
       "\n",
       "                     coord                   city_name          reg_admin1  \\\n",
       "55622   (39.0654, -8.1964)                 Santo Andre          Portalegre   \n",
       "40820   (39.7388, -5.9398)           Torrejon el Rubio         Extremadura   \n",
       "8766     (40.059, -5.1853)                    Navalcan  Castille-La Mancha   \n",
       "95599   (40.6219, -3.8129)              Colmenar Viejo              Madrid   \n",
       "150044   (40.5557, -3.575)  San Sebastian de los Reyes              Madrid   \n",
       "\n",
       "                  reg_admin2 country_cc  \n",
       "55622           Ponte de Sor         PT  \n",
       "40820   Provincia de Caceres         ES  \n",
       "8766      Province of Toledo         ES  \n",
       "95599    Provincia de Madrid         ES  \n",
       "150044   Provincia de Madrid         ES  \n",
       "\n",
       "[5 rows x 38 columns]"
      ]
     },
     "execution_count": 172,
     "metadata": {},
     "output_type": "execute_result"
    }
   ],
   "source": [
    "land_air_df.sort_values(by=[\"icao24\",\"time\"], ascending=False).head()"
   ]
  },
  {
   "cell_type": "code",
   "execution_count": 228,
   "id": "a7d1487c",
   "metadata": {},
   "outputs": [],
   "source": [
    "# Find airplanes which have been on the ground in two different cities\n",
    "full_trip = land_air_df.groupby([\"icao24\", \"on_ground\"])[[\"reg_admin1\"]].nunique().query('(on_ground==1)&(reg_admin1>1)')"
   ]
  },
  {
   "cell_type": "code",
   "execution_count": 229,
   "id": "2c4670d4",
   "metadata": {},
   "outputs": [
    {
     "data": {
      "text/plain": [
       "313"
      ]
     },
     "execution_count": 229,
     "metadata": {},
     "output_type": "execute_result"
    }
   ],
   "source": [
    "# Number of airplanes which have been on grund in two different cities\n",
    "full_trip.shape[0]"
   ]
  },
  {
   "cell_type": "code",
   "execution_count": 230,
   "id": "2cdb11e6",
   "metadata": {},
   "outputs": [
    {
     "data": {
      "text/html": [
       "<div>\n",
       "<style scoped>\n",
       "    .dataframe tbody tr th:only-of-type {\n",
       "        vertical-align: middle;\n",
       "    }\n",
       "\n",
       "    .dataframe tbody tr th {\n",
       "        vertical-align: top;\n",
       "    }\n",
       "\n",
       "    .dataframe thead th {\n",
       "        text-align: right;\n",
       "    }\n",
       "</style>\n",
       "<table border=\"1\" class=\"dataframe\">\n",
       "  <thead>\n",
       "    <tr style=\"text-align: right;\">\n",
       "      <th></th>\n",
       "      <th>icao24</th>\n",
       "      <th>callsign</th>\n",
       "      <th>origin_country</th>\n",
       "      <th>time_position</th>\n",
       "      <th>last_contact</th>\n",
       "      <th>long</th>\n",
       "      <th>lat</th>\n",
       "      <th>baro_altitude</th>\n",
       "      <th>on_ground</th>\n",
       "      <th>velocity</th>\n",
       "      <th>...</th>\n",
       "      <th>operator</th>\n",
       "      <th>operatorcallsign</th>\n",
       "      <th>operatoricao</th>\n",
       "      <th>operatoriata</th>\n",
       "      <th>owner</th>\n",
       "      <th>coord</th>\n",
       "      <th>city_name</th>\n",
       "      <th>reg_admin1</th>\n",
       "      <th>reg_admin2</th>\n",
       "      <th>country_cc</th>\n",
       "    </tr>\n",
       "  </thead>\n",
       "  <tbody>\n",
       "    <tr>\n",
       "      <th>36732</th>\n",
       "      <td>c8237a</td>\n",
       "      <td>ANZ827M</td>\n",
       "      <td>New Zealand</td>\n",
       "      <td>1652862078.0</td>\n",
       "      <td>1.652862e+09</td>\n",
       "      <td>175.0014</td>\n",
       "      <td>-40.9377</td>\n",
       "      <td>4145.28</td>\n",
       "      <td>0.0</td>\n",
       "      <td>150.53</td>\n",
       "      <td>...</td>\n",
       "      <td>NaN</td>\n",
       "      <td>NaN</td>\n",
       "      <td>NaN</td>\n",
       "      <td>NaN</td>\n",
       "      <td>Air New Zealand Link</td>\n",
       "      <td>(-40.9377, 175.0014)</td>\n",
       "      <td>Paraparaumu</td>\n",
       "      <td>Wellington</td>\n",
       "      <td>Kapiti Coast District</td>\n",
       "      <td>NZ</td>\n",
       "    </tr>\n",
       "    <tr>\n",
       "      <th>72947</th>\n",
       "      <td>c8237a</td>\n",
       "      <td>ANZ827M</td>\n",
       "      <td>New Zealand</td>\n",
       "      <td>1652859768.0</td>\n",
       "      <td>1.652860e+09</td>\n",
       "      <td>175.3605</td>\n",
       "      <td>-38.1232</td>\n",
       "      <td>2674.62</td>\n",
       "      <td>0.0</td>\n",
       "      <td>104.53</td>\n",
       "      <td>...</td>\n",
       "      <td>NaN</td>\n",
       "      <td>NaN</td>\n",
       "      <td>NaN</td>\n",
       "      <td>NaN</td>\n",
       "      <td>Air New Zealand Link</td>\n",
       "      <td>(-38.1232, 175.3605)</td>\n",
       "      <td>Otorohanga</td>\n",
       "      <td>Waikato</td>\n",
       "      <td>Otorohanga District</td>\n",
       "      <td>NZ</td>\n",
       "    </tr>\n",
       "    <tr>\n",
       "      <th>127468</th>\n",
       "      <td>c8237a</td>\n",
       "      <td>ANZ827M</td>\n",
       "      <td>New Zealand</td>\n",
       "      <td>1652859697.0</td>\n",
       "      <td>1.652860e+09</td>\n",
       "      <td>175.3644</td>\n",
       "      <td>-38.0568</td>\n",
       "      <td>2186.94</td>\n",
       "      <td>0.0</td>\n",
       "      <td>100.42</td>\n",
       "      <td>...</td>\n",
       "      <td>NaN</td>\n",
       "      <td>NaN</td>\n",
       "      <td>NaN</td>\n",
       "      <td>NaN</td>\n",
       "      <td>Air New Zealand Link</td>\n",
       "      <td>(-38.0568, 175.3644)</td>\n",
       "      <td>Cambridge</td>\n",
       "      <td>Waikato</td>\n",
       "      <td>Waipa District</td>\n",
       "      <td>NZ</td>\n",
       "    </tr>\n",
       "    <tr>\n",
       "      <th>54658</th>\n",
       "      <td>c8237a</td>\n",
       "      <td>ANZ785M</td>\n",
       "      <td>New Zealand</td>\n",
       "      <td>1652833567.0</td>\n",
       "      <td>1.652834e+09</td>\n",
       "      <td>175.8965</td>\n",
       "      <td>-39.7474</td>\n",
       "      <td>4876.80</td>\n",
       "      <td>0.0</td>\n",
       "      <td>130.68</td>\n",
       "      <td>...</td>\n",
       "      <td>NaN</td>\n",
       "      <td>NaN</td>\n",
       "      <td>NaN</td>\n",
       "      <td>NaN</td>\n",
       "      <td>Air New Zealand Link</td>\n",
       "      <td>(-39.7474, 175.8965)</td>\n",
       "      <td>Waiouru</td>\n",
       "      <td>Manawatu-Wanganui</td>\n",
       "      <td>Ruapehu District</td>\n",
       "      <td>NZ</td>\n",
       "    </tr>\n",
       "    <tr>\n",
       "      <th>39864</th>\n",
       "      <td>c8237a</td>\n",
       "      <td>ANZ785M</td>\n",
       "      <td>New Zealand</td>\n",
       "      <td>1652832666.0</td>\n",
       "      <td>1.652833e+09</td>\n",
       "      <td>176.2091</td>\n",
       "      <td>-38.7438</td>\n",
       "      <td>4556.76</td>\n",
       "      <td>0.0</td>\n",
       "      <td>105.61</td>\n",
       "      <td>...</td>\n",
       "      <td>NaN</td>\n",
       "      <td>NaN</td>\n",
       "      <td>NaN</td>\n",
       "      <td>NaN</td>\n",
       "      <td>Air New Zealand Link</td>\n",
       "      <td>(-38.7438, 176.2091)</td>\n",
       "      <td>Taupo</td>\n",
       "      <td>Waikato</td>\n",
       "      <td>Taupo District</td>\n",
       "      <td>NZ</td>\n",
       "    </tr>\n",
       "    <tr>\n",
       "      <th>...</th>\n",
       "      <td>...</td>\n",
       "      <td>...</td>\n",
       "      <td>...</td>\n",
       "      <td>...</td>\n",
       "      <td>...</td>\n",
       "      <td>...</td>\n",
       "      <td>...</td>\n",
       "      <td>...</td>\n",
       "      <td>...</td>\n",
       "      <td>...</td>\n",
       "      <td>...</td>\n",
       "      <td>...</td>\n",
       "      <td>...</td>\n",
       "      <td>...</td>\n",
       "      <td>...</td>\n",
       "      <td>...</td>\n",
       "      <td>...</td>\n",
       "      <td>...</td>\n",
       "      <td>...</td>\n",
       "      <td>...</td>\n",
       "      <td>...</td>\n",
       "    </tr>\n",
       "    <tr>\n",
       "      <th>110602</th>\n",
       "      <td>040128</td>\n",
       "      <td>ETH687</td>\n",
       "      <td>Ethiopia</td>\n",
       "      <td>1652821661.0</td>\n",
       "      <td>1.652822e+09</td>\n",
       "      <td>77.0809</td>\n",
       "      <td>28.5649</td>\n",
       "      <td>NaN</td>\n",
       "      <td>1.0</td>\n",
       "      <td>0.00</td>\n",
       "      <td>...</td>\n",
       "      <td>Ethiopian Airlines</td>\n",
       "      <td>ETHIOPIAN</td>\n",
       "      <td>ETH</td>\n",
       "      <td>ET</td>\n",
       "      <td>Ethiopian Airlines</td>\n",
       "      <td>(28.5649, 77.0809)</td>\n",
       "      <td>Nangloi Jat</td>\n",
       "      <td>NCT</td>\n",
       "      <td>West Delhi</td>\n",
       "      <td>IN</td>\n",
       "    </tr>\n",
       "    <tr>\n",
       "      <th>81432</th>\n",
       "      <td>040128</td>\n",
       "      <td>ETH687</td>\n",
       "      <td>Ethiopia</td>\n",
       "      <td>1652821331.0</td>\n",
       "      <td>1.652821e+09</td>\n",
       "      <td>77.0823</td>\n",
       "      <td>28.5631</td>\n",
       "      <td>NaN</td>\n",
       "      <td>1.0</td>\n",
       "      <td>2.31</td>\n",
       "      <td>...</td>\n",
       "      <td>Ethiopian Airlines</td>\n",
       "      <td>ETHIOPIAN</td>\n",
       "      <td>ETH</td>\n",
       "      <td>ET</td>\n",
       "      <td>Ethiopian Airlines</td>\n",
       "      <td>(28.5631, 77.0823)</td>\n",
       "      <td>Nangloi Jat</td>\n",
       "      <td>NCT</td>\n",
       "      <td>West Delhi</td>\n",
       "      <td>IN</td>\n",
       "    </tr>\n",
       "    <tr>\n",
       "      <th>63516</th>\n",
       "      <td>040128</td>\n",
       "      <td>ETH687</td>\n",
       "      <td>Ethiopia</td>\n",
       "      <td>1652821090.0</td>\n",
       "      <td>1.652821e+09</td>\n",
       "      <td>77.0833</td>\n",
       "      <td>28.5618</td>\n",
       "      <td>NaN</td>\n",
       "      <td>1.0</td>\n",
       "      <td>0.90</td>\n",
       "      <td>...</td>\n",
       "      <td>Ethiopian Airlines</td>\n",
       "      <td>ETHIOPIAN</td>\n",
       "      <td>ETH</td>\n",
       "      <td>ET</td>\n",
       "      <td>Ethiopian Airlines</td>\n",
       "      <td>(28.5618, 77.0833)</td>\n",
       "      <td>Gurgaon</td>\n",
       "      <td>Haryana</td>\n",
       "      <td>Gurgaon</td>\n",
       "      <td>IN</td>\n",
       "    </tr>\n",
       "    <tr>\n",
       "      <th>132232</th>\n",
       "      <td>040128</td>\n",
       "      <td>ETH687</td>\n",
       "      <td>Ethiopia</td>\n",
       "      <td>1652821028.0</td>\n",
       "      <td>1.652821e+09</td>\n",
       "      <td>77.0836</td>\n",
       "      <td>28.5614</td>\n",
       "      <td>NaN</td>\n",
       "      <td>1.0</td>\n",
       "      <td>0.26</td>\n",
       "      <td>...</td>\n",
       "      <td>Ethiopian Airlines</td>\n",
       "      <td>ETHIOPIAN</td>\n",
       "      <td>ETH</td>\n",
       "      <td>ET</td>\n",
       "      <td>Ethiopian Airlines</td>\n",
       "      <td>(28.5614, 77.0836)</td>\n",
       "      <td>Gurgaon</td>\n",
       "      <td>Haryana</td>\n",
       "      <td>Gurgaon</td>\n",
       "      <td>IN</td>\n",
       "    </tr>\n",
       "    <tr>\n",
       "      <th>88848</th>\n",
       "      <td>040128</td>\n",
       "      <td>ETH687</td>\n",
       "      <td>Ethiopia</td>\n",
       "      <td>1652820923.0</td>\n",
       "      <td>1.652821e+09</td>\n",
       "      <td>77.0826</td>\n",
       "      <td>28.5611</td>\n",
       "      <td>NaN</td>\n",
       "      <td>1.0</td>\n",
       "      <td>1.03</td>\n",
       "      <td>...</td>\n",
       "      <td>Ethiopian Airlines</td>\n",
       "      <td>ETHIOPIAN</td>\n",
       "      <td>ETH</td>\n",
       "      <td>ET</td>\n",
       "      <td>Ethiopian Airlines</td>\n",
       "      <td>(28.5611, 77.0826)</td>\n",
       "      <td>Gurgaon</td>\n",
       "      <td>Haryana</td>\n",
       "      <td>Gurgaon</td>\n",
       "      <td>IN</td>\n",
       "    </tr>\n",
       "  </tbody>\n",
       "</table>\n",
       "<p>6493 rows × 38 columns</p>\n",
       "</div>"
      ],
      "text/plain": [
       "        icao24  callsign origin_country time_position  last_contact      long  \\\n",
       "36732   c8237a  ANZ827M     New Zealand  1652862078.0  1.652862e+09  175.0014   \n",
       "72947   c8237a  ANZ827M     New Zealand  1652859768.0  1.652860e+09  175.3605   \n",
       "127468  c8237a  ANZ827M     New Zealand  1652859697.0  1.652860e+09  175.3644   \n",
       "54658   c8237a  ANZ785M     New Zealand  1652833567.0  1.652834e+09  175.8965   \n",
       "39864   c8237a  ANZ785M     New Zealand  1652832666.0  1.652833e+09  176.2091   \n",
       "...        ...       ...            ...           ...           ...       ...   \n",
       "110602  040128  ETH687         Ethiopia  1652821661.0  1.652822e+09   77.0809   \n",
       "81432   040128  ETH687         Ethiopia  1652821331.0  1.652821e+09   77.0823   \n",
       "63516   040128  ETH687         Ethiopia  1652821090.0  1.652821e+09   77.0833   \n",
       "132232  040128  ETH687         Ethiopia  1652821028.0  1.652821e+09   77.0836   \n",
       "88848   040128  ETH687         Ethiopia  1652820923.0  1.652821e+09   77.0826   \n",
       "\n",
       "            lat  baro_altitude  on_ground  velocity  ...            operator  \\\n",
       "36732  -40.9377        4145.28        0.0    150.53  ...                 NaN   \n",
       "72947  -38.1232        2674.62        0.0    104.53  ...                 NaN   \n",
       "127468 -38.0568        2186.94        0.0    100.42  ...                 NaN   \n",
       "54658  -39.7474        4876.80        0.0    130.68  ...                 NaN   \n",
       "39864  -38.7438        4556.76        0.0    105.61  ...                 NaN   \n",
       "...         ...            ...        ...       ...  ...                 ...   \n",
       "110602  28.5649            NaN        1.0      0.00  ...  Ethiopian Airlines   \n",
       "81432   28.5631            NaN        1.0      2.31  ...  Ethiopian Airlines   \n",
       "63516   28.5618            NaN        1.0      0.90  ...  Ethiopian Airlines   \n",
       "132232  28.5614            NaN        1.0      0.26  ...  Ethiopian Airlines   \n",
       "88848   28.5611            NaN        1.0      1.03  ...  Ethiopian Airlines   \n",
       "\n",
       "        operatorcallsign  operatoricao  operatoriata                 owner  \\\n",
       "36732                NaN           NaN           NaN  Air New Zealand Link   \n",
       "72947                NaN           NaN           NaN  Air New Zealand Link   \n",
       "127468               NaN           NaN           NaN  Air New Zealand Link   \n",
       "54658                NaN           NaN           NaN  Air New Zealand Link   \n",
       "39864                NaN           NaN           NaN  Air New Zealand Link   \n",
       "...                  ...           ...           ...                   ...   \n",
       "110602         ETHIOPIAN           ETH            ET    Ethiopian Airlines   \n",
       "81432          ETHIOPIAN           ETH            ET    Ethiopian Airlines   \n",
       "63516          ETHIOPIAN           ETH            ET    Ethiopian Airlines   \n",
       "132232         ETHIOPIAN           ETH            ET    Ethiopian Airlines   \n",
       "88848          ETHIOPIAN           ETH            ET    Ethiopian Airlines   \n",
       "\n",
       "                       coord    city_name         reg_admin1  \\\n",
       "36732   (-40.9377, 175.0014)  Paraparaumu         Wellington   \n",
       "72947   (-38.1232, 175.3605)   Otorohanga            Waikato   \n",
       "127468  (-38.0568, 175.3644)    Cambridge            Waikato   \n",
       "54658   (-39.7474, 175.8965)      Waiouru  Manawatu-Wanganui   \n",
       "39864   (-38.7438, 176.2091)        Taupo            Waikato   \n",
       "...                      ...          ...                ...   \n",
       "110602    (28.5649, 77.0809)  Nangloi Jat                NCT   \n",
       "81432     (28.5631, 77.0823)  Nangloi Jat                NCT   \n",
       "63516     (28.5618, 77.0833)      Gurgaon            Haryana   \n",
       "132232    (28.5614, 77.0836)      Gurgaon            Haryana   \n",
       "88848     (28.5611, 77.0826)      Gurgaon            Haryana   \n",
       "\n",
       "                   reg_admin2 country_cc  \n",
       "36732   Kapiti Coast District         NZ  \n",
       "72947     Otorohanga District         NZ  \n",
       "127468         Waipa District         NZ  \n",
       "54658        Ruapehu District         NZ  \n",
       "39864          Taupo District         NZ  \n",
       "...                       ...        ...  \n",
       "110602             West Delhi         IN  \n",
       "81432              West Delhi         IN  \n",
       "63516                 Gurgaon         IN  \n",
       "132232                Gurgaon         IN  \n",
       "88848                 Gurgaon         IN  \n",
       "\n",
       "[6493 rows x 38 columns]"
      ]
     },
     "execution_count": 230,
     "metadata": {},
     "output_type": "execute_result"
    }
   ],
   "source": [
    "#Filter original df for records from airplanes which have been on ground in two different cities\n",
    "full_trip_df= pflights_df_f[pflights_df_f.icao24.isin(full_trip.index.get_level_values(\"icao24\"))].sort_values(by=[\"icao24\",\"time\"], ascending=False)\n",
    "full_trip_df"
   ]
  },
  {
   "cell_type": "markdown",
   "id": "98d44769",
   "metadata": {},
   "source": [
    "### Plot complete route "
   ]
  },
  {
   "cell_type": "code",
   "execution_count": 231,
   "id": "daecb050",
   "metadata": {},
   "outputs": [
    {
     "data": {
      "application/vnd.plotly.v1+json": {
       "config": {
        "plotlyServerURL": "https://plot.ly"
       },
       "data": [
        {
         "customdata": [
          [
           0,
           1652824461
          ],
          [
           0,
           1652823534
          ],
          [
           0,
           1652832362
          ],
          [
           1,
           1652820761
          ],
          [
           0,
           1652825222
          ],
          [
           1,
           1652829949
          ],
          [
           1,
           1652828748
          ],
          [
           1,
           1652829047
          ],
          [
           1,
           1652829655
          ],
          [
           0,
           1652862078
          ],
          [
           0,
           1652832666
          ],
          [
           0,
           1652822273
          ],
          [
           0,
           1652824158
          ],
          [
           0,
           1652821965
          ],
          [
           0,
           1652833568
          ],
          [
           0,
           1652822921
          ],
          [
           0,
           1652821233
          ],
          [
           0,
           1652824770
          ],
          [
           1,
           1652830251
          ],
          [
           0,
           1652859768
          ],
          [
           0,
           1652826579
          ],
          [
           0,
           1652821362
          ],
          [
           0,
           1652831159
          ],
          [
           1,
           1652820928
          ],
          [
           0,
           1652830859
          ],
          [
           0,
           1652831765
          ],
          [
           0,
           1652825076
          ],
          [
           0,
           1652821666
          ],
          [
           1,
           1652830554
          ],
          [
           0,
           1652825429
          ],
          [
           0,
           1652822597
          ],
          [
           0,
           1652859697
          ],
          [
           0,
           1652821066
          ],
          [
           1,
           1652829348
          ],
          [
           1,
           1652827204
          ],
          [
           0,
           1652826287
          ],
          [
           1,
           1652826905
          ],
          [
           0,
           1652831458
          ],
          [
           0,
           1652825808
          ],
          [
           0,
           1652823854
          ]
         ],
         "geo": "geo",
         "hovertemplate": "<b>%{hovertext}</b><br><br>lat=%{lat}<br>long=%{lon}<br>on_ground=%{customdata[0]}<br>time=%{customdata[1]}<br>geo_altitude=%{marker.color}<extra></extra>",
         "hovertext": [
          "aaa5b8",
          "aaa5b8",
          "aaa5b8",
          "aaa5b8",
          "aaa5b8",
          "aaa5b8",
          "aaa5b8",
          "aaa5b8",
          "aaa5b8",
          "aaa5b8",
          "aaa5b8",
          "aaa5b8",
          "aaa5b8",
          "aaa5b8",
          "aaa5b8",
          "aaa5b8",
          "aaa5b8",
          "aaa5b8",
          "aaa5b8",
          "aaa5b8",
          "aaa5b8",
          "aaa5b8",
          "aaa5b8",
          "aaa5b8",
          "aaa5b8",
          "aaa5b8",
          "aaa5b8",
          "aaa5b8",
          "aaa5b8",
          "aaa5b8",
          "aaa5b8",
          "aaa5b8",
          "aaa5b8",
          "aaa5b8",
          "aaa5b8",
          "aaa5b8",
          "aaa5b8",
          "aaa5b8",
          "aaa5b8",
          "aaa5b8"
         ],
         "lat": [
          41.5533,
          43.1825,
          40.3353,
          47.4596,
          39.3717,
          37.7118,
          37.7118,
          37.7118,
          37.7118,
          42.5783,
          40.8799,
          45.7835,
          41.7072,
          46.442,
          42.5933,
          44.3866,
          47.3134,
          40.3584,
          37.7118,
          46.8537,
          37.6743,
          47.3123,
          38.0926,
          47.463,
          37.7398,
          39.2321,
          39.6816,
          47.0739,
          37.7106,
          38.9583,
          45.0863,
          46.9788,
          47.4465,
          37.7118,
          37.7118,
          37.7508,
          37.7118,
          38.6347,
          38.3098,
          42.3766
         ],
         "legendgroup": "",
         "lon": [
          -122.8444,
          -122.9042,
          -121.9899,
          -122.3062,
          -122.6091,
          -122.2138,
          -122.2138,
          -122.2138,
          -122.2137,
          -117.8845,
          -121.9922,
          -123.0775,
          -122.8616,
          -123.1482,
          -122.0005,
          -122.9408,
          -122.3817,
          -122.7134,
          -122.2138,
          -122.0937,
          -122.1736,
          -122.6358,
          -122.2064,
          -122.3062,
          -122.266,
          -121.9846,
          -122.6416,
          -123.2075,
          -122.2139,
          -122.5474,
          -123.0044,
          -122.1503,
          -122.308,
          -122.2138,
          -122.2138,
          -122.0984,
          -122.2138,
          -122.0601,
          -122.4223,
          -122.8808
         ],
         "marker": {
          "color": [
           10363.2,
           10332.72,
           11932.92,
           null,
           8458.2,
           null,
           null,
           null,
           null,
           12793.98,
           11932.92,
           10233.66,
           10363.2,
           10203.18,
           11894.82,
           10287,
           2179.32,
           10386.06,
           null,
           7490.46,
           236.22,
           4358.64,
           4381.5,
           null,
           487.68,
           11346.18,
           9235.44,
           8595.36,
           null,
           7239,
           10256.52,
           6431.28,
           106.68,
           null,
           null,
           1303.02,
           null,
           8397.24,
           3436.62,
           10347.96
          ],
          "coloraxis": "coloraxis",
          "symbol": "circle"
         },
         "mode": "markers",
         "name": "",
         "showlegend": false,
         "type": "scattergeo"
        }
       ],
       "layout": {
        "coloraxis": {
         "colorbar": {
          "title": {
           "text": "geo_altitude"
          }
         },
         "colorscale": [
          [
           0,
           "#0d0887"
          ],
          [
           0.1111111111111111,
           "#46039f"
          ],
          [
           0.2222222222222222,
           "#7201a8"
          ],
          [
           0.3333333333333333,
           "#9c179e"
          ],
          [
           0.4444444444444444,
           "#bd3786"
          ],
          [
           0.5555555555555556,
           "#d8576b"
          ],
          [
           0.6666666666666666,
           "#ed7953"
          ],
          [
           0.7777777777777778,
           "#fb9f3a"
          ],
          [
           0.8888888888888888,
           "#fdca26"
          ],
          [
           1,
           "#f0f921"
          ]
         ]
        },
        "geo": {
         "center": {},
         "domain": {
          "x": [
           0,
           1
          ],
          "y": [
           0,
           1
          ]
         }
        },
        "legend": {
         "tracegroupgap": 0
        },
        "margin": {
         "t": 60
        },
        "template": {
         "data": {
          "bar": [
           {
            "error_x": {
             "color": "#2a3f5f"
            },
            "error_y": {
             "color": "#2a3f5f"
            },
            "marker": {
             "line": {
              "color": "#E5ECF6",
              "width": 0.5
             },
             "pattern": {
              "fillmode": "overlay",
              "size": 10,
              "solidity": 0.2
             }
            },
            "type": "bar"
           }
          ],
          "barpolar": [
           {
            "marker": {
             "line": {
              "color": "#E5ECF6",
              "width": 0.5
             },
             "pattern": {
              "fillmode": "overlay",
              "size": 10,
              "solidity": 0.2
             }
            },
            "type": "barpolar"
           }
          ],
          "carpet": [
           {
            "aaxis": {
             "endlinecolor": "#2a3f5f",
             "gridcolor": "white",
             "linecolor": "white",
             "minorgridcolor": "white",
             "startlinecolor": "#2a3f5f"
            },
            "baxis": {
             "endlinecolor": "#2a3f5f",
             "gridcolor": "white",
             "linecolor": "white",
             "minorgridcolor": "white",
             "startlinecolor": "#2a3f5f"
            },
            "type": "carpet"
           }
          ],
          "choropleth": [
           {
            "colorbar": {
             "outlinewidth": 0,
             "ticks": ""
            },
            "type": "choropleth"
           }
          ],
          "contour": [
           {
            "colorbar": {
             "outlinewidth": 0,
             "ticks": ""
            },
            "colorscale": [
             [
              0,
              "#0d0887"
             ],
             [
              0.1111111111111111,
              "#46039f"
             ],
             [
              0.2222222222222222,
              "#7201a8"
             ],
             [
              0.3333333333333333,
              "#9c179e"
             ],
             [
              0.4444444444444444,
              "#bd3786"
             ],
             [
              0.5555555555555556,
              "#d8576b"
             ],
             [
              0.6666666666666666,
              "#ed7953"
             ],
             [
              0.7777777777777778,
              "#fb9f3a"
             ],
             [
              0.8888888888888888,
              "#fdca26"
             ],
             [
              1,
              "#f0f921"
             ]
            ],
            "type": "contour"
           }
          ],
          "contourcarpet": [
           {
            "colorbar": {
             "outlinewidth": 0,
             "ticks": ""
            },
            "type": "contourcarpet"
           }
          ],
          "heatmap": [
           {
            "colorbar": {
             "outlinewidth": 0,
             "ticks": ""
            },
            "colorscale": [
             [
              0,
              "#0d0887"
             ],
             [
              0.1111111111111111,
              "#46039f"
             ],
             [
              0.2222222222222222,
              "#7201a8"
             ],
             [
              0.3333333333333333,
              "#9c179e"
             ],
             [
              0.4444444444444444,
              "#bd3786"
             ],
             [
              0.5555555555555556,
              "#d8576b"
             ],
             [
              0.6666666666666666,
              "#ed7953"
             ],
             [
              0.7777777777777778,
              "#fb9f3a"
             ],
             [
              0.8888888888888888,
              "#fdca26"
             ],
             [
              1,
              "#f0f921"
             ]
            ],
            "type": "heatmap"
           }
          ],
          "heatmapgl": [
           {
            "colorbar": {
             "outlinewidth": 0,
             "ticks": ""
            },
            "colorscale": [
             [
              0,
              "#0d0887"
             ],
             [
              0.1111111111111111,
              "#46039f"
             ],
             [
              0.2222222222222222,
              "#7201a8"
             ],
             [
              0.3333333333333333,
              "#9c179e"
             ],
             [
              0.4444444444444444,
              "#bd3786"
             ],
             [
              0.5555555555555556,
              "#d8576b"
             ],
             [
              0.6666666666666666,
              "#ed7953"
             ],
             [
              0.7777777777777778,
              "#fb9f3a"
             ],
             [
              0.8888888888888888,
              "#fdca26"
             ],
             [
              1,
              "#f0f921"
             ]
            ],
            "type": "heatmapgl"
           }
          ],
          "histogram": [
           {
            "marker": {
             "pattern": {
              "fillmode": "overlay",
              "size": 10,
              "solidity": 0.2
             }
            },
            "type": "histogram"
           }
          ],
          "histogram2d": [
           {
            "colorbar": {
             "outlinewidth": 0,
             "ticks": ""
            },
            "colorscale": [
             [
              0,
              "#0d0887"
             ],
             [
              0.1111111111111111,
              "#46039f"
             ],
             [
              0.2222222222222222,
              "#7201a8"
             ],
             [
              0.3333333333333333,
              "#9c179e"
             ],
             [
              0.4444444444444444,
              "#bd3786"
             ],
             [
              0.5555555555555556,
              "#d8576b"
             ],
             [
              0.6666666666666666,
              "#ed7953"
             ],
             [
              0.7777777777777778,
              "#fb9f3a"
             ],
             [
              0.8888888888888888,
              "#fdca26"
             ],
             [
              1,
              "#f0f921"
             ]
            ],
            "type": "histogram2d"
           }
          ],
          "histogram2dcontour": [
           {
            "colorbar": {
             "outlinewidth": 0,
             "ticks": ""
            },
            "colorscale": [
             [
              0,
              "#0d0887"
             ],
             [
              0.1111111111111111,
              "#46039f"
             ],
             [
              0.2222222222222222,
              "#7201a8"
             ],
             [
              0.3333333333333333,
              "#9c179e"
             ],
             [
              0.4444444444444444,
              "#bd3786"
             ],
             [
              0.5555555555555556,
              "#d8576b"
             ],
             [
              0.6666666666666666,
              "#ed7953"
             ],
             [
              0.7777777777777778,
              "#fb9f3a"
             ],
             [
              0.8888888888888888,
              "#fdca26"
             ],
             [
              1,
              "#f0f921"
             ]
            ],
            "type": "histogram2dcontour"
           }
          ],
          "mesh3d": [
           {
            "colorbar": {
             "outlinewidth": 0,
             "ticks": ""
            },
            "type": "mesh3d"
           }
          ],
          "parcoords": [
           {
            "line": {
             "colorbar": {
              "outlinewidth": 0,
              "ticks": ""
             }
            },
            "type": "parcoords"
           }
          ],
          "pie": [
           {
            "automargin": true,
            "type": "pie"
           }
          ],
          "scatter": [
           {
            "marker": {
             "colorbar": {
              "outlinewidth": 0,
              "ticks": ""
             }
            },
            "type": "scatter"
           }
          ],
          "scatter3d": [
           {
            "line": {
             "colorbar": {
              "outlinewidth": 0,
              "ticks": ""
             }
            },
            "marker": {
             "colorbar": {
              "outlinewidth": 0,
              "ticks": ""
             }
            },
            "type": "scatter3d"
           }
          ],
          "scattercarpet": [
           {
            "marker": {
             "colorbar": {
              "outlinewidth": 0,
              "ticks": ""
             }
            },
            "type": "scattercarpet"
           }
          ],
          "scattergeo": [
           {
            "marker": {
             "colorbar": {
              "outlinewidth": 0,
              "ticks": ""
             }
            },
            "type": "scattergeo"
           }
          ],
          "scattergl": [
           {
            "marker": {
             "colorbar": {
              "outlinewidth": 0,
              "ticks": ""
             }
            },
            "type": "scattergl"
           }
          ],
          "scattermapbox": [
           {
            "marker": {
             "colorbar": {
              "outlinewidth": 0,
              "ticks": ""
             }
            },
            "type": "scattermapbox"
           }
          ],
          "scatterpolar": [
           {
            "marker": {
             "colorbar": {
              "outlinewidth": 0,
              "ticks": ""
             }
            },
            "type": "scatterpolar"
           }
          ],
          "scatterpolargl": [
           {
            "marker": {
             "colorbar": {
              "outlinewidth": 0,
              "ticks": ""
             }
            },
            "type": "scatterpolargl"
           }
          ],
          "scatterternary": [
           {
            "marker": {
             "colorbar": {
              "outlinewidth": 0,
              "ticks": ""
             }
            },
            "type": "scatterternary"
           }
          ],
          "surface": [
           {
            "colorbar": {
             "outlinewidth": 0,
             "ticks": ""
            },
            "colorscale": [
             [
              0,
              "#0d0887"
             ],
             [
              0.1111111111111111,
              "#46039f"
             ],
             [
              0.2222222222222222,
              "#7201a8"
             ],
             [
              0.3333333333333333,
              "#9c179e"
             ],
             [
              0.4444444444444444,
              "#bd3786"
             ],
             [
              0.5555555555555556,
              "#d8576b"
             ],
             [
              0.6666666666666666,
              "#ed7953"
             ],
             [
              0.7777777777777778,
              "#fb9f3a"
             ],
             [
              0.8888888888888888,
              "#fdca26"
             ],
             [
              1,
              "#f0f921"
             ]
            ],
            "type": "surface"
           }
          ],
          "table": [
           {
            "cells": {
             "fill": {
              "color": "#EBF0F8"
             },
             "line": {
              "color": "white"
             }
            },
            "header": {
             "fill": {
              "color": "#C8D4E3"
             },
             "line": {
              "color": "white"
             }
            },
            "type": "table"
           }
          ]
         },
         "layout": {
          "annotationdefaults": {
           "arrowcolor": "#2a3f5f",
           "arrowhead": 0,
           "arrowwidth": 1
          },
          "autotypenumbers": "strict",
          "coloraxis": {
           "colorbar": {
            "outlinewidth": 0,
            "ticks": ""
           }
          },
          "colorscale": {
           "diverging": [
            [
             0,
             "#8e0152"
            ],
            [
             0.1,
             "#c51b7d"
            ],
            [
             0.2,
             "#de77ae"
            ],
            [
             0.3,
             "#f1b6da"
            ],
            [
             0.4,
             "#fde0ef"
            ],
            [
             0.5,
             "#f7f7f7"
            ],
            [
             0.6,
             "#e6f5d0"
            ],
            [
             0.7,
             "#b8e186"
            ],
            [
             0.8,
             "#7fbc41"
            ],
            [
             0.9,
             "#4d9221"
            ],
            [
             1,
             "#276419"
            ]
           ],
           "sequential": [
            [
             0,
             "#0d0887"
            ],
            [
             0.1111111111111111,
             "#46039f"
            ],
            [
             0.2222222222222222,
             "#7201a8"
            ],
            [
             0.3333333333333333,
             "#9c179e"
            ],
            [
             0.4444444444444444,
             "#bd3786"
            ],
            [
             0.5555555555555556,
             "#d8576b"
            ],
            [
             0.6666666666666666,
             "#ed7953"
            ],
            [
             0.7777777777777778,
             "#fb9f3a"
            ],
            [
             0.8888888888888888,
             "#fdca26"
            ],
            [
             1,
             "#f0f921"
            ]
           ],
           "sequentialminus": [
            [
             0,
             "#0d0887"
            ],
            [
             0.1111111111111111,
             "#46039f"
            ],
            [
             0.2222222222222222,
             "#7201a8"
            ],
            [
             0.3333333333333333,
             "#9c179e"
            ],
            [
             0.4444444444444444,
             "#bd3786"
            ],
            [
             0.5555555555555556,
             "#d8576b"
            ],
            [
             0.6666666666666666,
             "#ed7953"
            ],
            [
             0.7777777777777778,
             "#fb9f3a"
            ],
            [
             0.8888888888888888,
             "#fdca26"
            ],
            [
             1,
             "#f0f921"
            ]
           ]
          },
          "colorway": [
           "#636efa",
           "#EF553B",
           "#00cc96",
           "#ab63fa",
           "#FFA15A",
           "#19d3f3",
           "#FF6692",
           "#B6E880",
           "#FF97FF",
           "#FECB52"
          ],
          "font": {
           "color": "#2a3f5f"
          },
          "geo": {
           "bgcolor": "white",
           "lakecolor": "white",
           "landcolor": "#E5ECF6",
           "showlakes": true,
           "showland": true,
           "subunitcolor": "white"
          },
          "hoverlabel": {
           "align": "left"
          },
          "hovermode": "closest",
          "mapbox": {
           "style": "light"
          },
          "paper_bgcolor": "white",
          "plot_bgcolor": "#E5ECF6",
          "polar": {
           "angularaxis": {
            "gridcolor": "white",
            "linecolor": "white",
            "ticks": ""
           },
           "bgcolor": "#E5ECF6",
           "radialaxis": {
            "gridcolor": "white",
            "linecolor": "white",
            "ticks": ""
           }
          },
          "scene": {
           "xaxis": {
            "backgroundcolor": "#E5ECF6",
            "gridcolor": "white",
            "gridwidth": 2,
            "linecolor": "white",
            "showbackground": true,
            "ticks": "",
            "zerolinecolor": "white"
           },
           "yaxis": {
            "backgroundcolor": "#E5ECF6",
            "gridcolor": "white",
            "gridwidth": 2,
            "linecolor": "white",
            "showbackground": true,
            "ticks": "",
            "zerolinecolor": "white"
           },
           "zaxis": {
            "backgroundcolor": "#E5ECF6",
            "gridcolor": "white",
            "gridwidth": 2,
            "linecolor": "white",
            "showbackground": true,
            "ticks": "",
            "zerolinecolor": "white"
           }
          },
          "shapedefaults": {
           "line": {
            "color": "#2a3f5f"
           }
          },
          "ternary": {
           "aaxis": {
            "gridcolor": "white",
            "linecolor": "white",
            "ticks": ""
           },
           "baxis": {
            "gridcolor": "white",
            "linecolor": "white",
            "ticks": ""
           },
           "bgcolor": "#E5ECF6",
           "caxis": {
            "gridcolor": "white",
            "linecolor": "white",
            "ticks": ""
           }
          },
          "title": {
           "x": 0.05
          },
          "xaxis": {
           "automargin": true,
           "gridcolor": "white",
           "linecolor": "white",
           "ticks": "",
           "title": {
            "standoff": 15
           },
           "zerolinecolor": "white",
           "zerolinewidth": 2
          },
          "yaxis": {
           "automargin": true,
           "gridcolor": "white",
           "linecolor": "white",
           "ticks": "",
           "title": {
            "standoff": 15
           },
           "zerolinecolor": "white",
           "zerolinewidth": 2
          }
         }
        },
        "title": {
         "text": "World map",
         "x": 0.5
        }
       }
      },
      "text/html": [
       "<div>                            <div id=\"af847dc7-c7eb-4679-91b9-2e9e287efaf7\" class=\"plotly-graph-div\" style=\"height:525px; width:100%;\"></div>            <script type=\"text/javascript\">                require([\"plotly\"], function(Plotly) {                    window.PLOTLYENV=window.PLOTLYENV || {};                                    if (document.getElementById(\"af847dc7-c7eb-4679-91b9-2e9e287efaf7\")) {                    Plotly.newPlot(                        \"af847dc7-c7eb-4679-91b9-2e9e287efaf7\",                        [{\"customdata\":[[0.0,1652824461.0],[0.0,1652823534.0],[0.0,1652832362.0],[1.0,1652820761.0],[0.0,1652825222.0],[1.0,1652829949.0],[1.0,1652828748.0],[1.0,1652829047.0],[1.0,1652829655.0],[0.0,1652862078.0],[0.0,1652832666.0],[0.0,1652822273.0],[0.0,1652824158.0],[0.0,1652821965.0],[0.0,1652833568.0],[0.0,1652822921.0],[0.0,1652821233.0],[0.0,1652824770.0],[1.0,1652830251.0],[0.0,1652859768.0],[0.0,1652826579.0],[0.0,1652821362.0],[0.0,1652831159.0],[1.0,1652820928.0],[0.0,1652830859.0],[0.0,1652831765.0],[0.0,1652825076.0],[0.0,1652821666.0],[1.0,1652830554.0],[0.0,1652825429.0],[0.0,1652822597.0],[0.0,1652859697.0],[0.0,1652821066.0],[1.0,1652829348.0],[1.0,1652827204.0],[0.0,1652826287.0],[1.0,1652826905.0],[0.0,1652831458.0],[0.0,1652825808.0],[0.0,1652823854.0]],\"geo\":\"geo\",\"hovertemplate\":\"<b>%{hovertext}</b><br><br>lat=%{lat}<br>long=%{lon}<br>on_ground=%{customdata[0]}<br>time=%{customdata[1]}<br>geo_altitude=%{marker.color}<extra></extra>\",\"hovertext\":[\"aaa5b8\",\"aaa5b8\",\"aaa5b8\",\"aaa5b8\",\"aaa5b8\",\"aaa5b8\",\"aaa5b8\",\"aaa5b8\",\"aaa5b8\",\"aaa5b8\",\"aaa5b8\",\"aaa5b8\",\"aaa5b8\",\"aaa5b8\",\"aaa5b8\",\"aaa5b8\",\"aaa5b8\",\"aaa5b8\",\"aaa5b8\",\"aaa5b8\",\"aaa5b8\",\"aaa5b8\",\"aaa5b8\",\"aaa5b8\",\"aaa5b8\",\"aaa5b8\",\"aaa5b8\",\"aaa5b8\",\"aaa5b8\",\"aaa5b8\",\"aaa5b8\",\"aaa5b8\",\"aaa5b8\",\"aaa5b8\",\"aaa5b8\",\"aaa5b8\",\"aaa5b8\",\"aaa5b8\",\"aaa5b8\",\"aaa5b8\"],\"lat\":[41.5533,43.1825,40.3353,47.4596,39.3717,37.7118,37.7118,37.7118,37.7118,42.5783,40.8799,45.7835,41.7072,46.442,42.5933,44.3866,47.3134,40.3584,37.7118,46.8537,37.6743,47.3123,38.0926,47.463,37.7398,39.2321,39.6816,47.0739,37.7106,38.9583,45.0863,46.9788,47.4465,37.7118,37.7118,37.7508,37.7118,38.6347,38.3098,42.3766],\"legendgroup\":\"\",\"lon\":[-122.8444,-122.9042,-121.9899,-122.3062,-122.6091,-122.2138,-122.2138,-122.2138,-122.2137,-117.8845,-121.9922,-123.0775,-122.8616,-123.1482,-122.0005,-122.9408,-122.3817,-122.7134,-122.2138,-122.0937,-122.1736,-122.6358,-122.2064,-122.3062,-122.266,-121.9846,-122.6416,-123.2075,-122.2139,-122.5474,-123.0044,-122.1503,-122.308,-122.2138,-122.2138,-122.0984,-122.2138,-122.0601,-122.4223,-122.8808],\"marker\":{\"color\":[10363.2,10332.72,11932.92,null,8458.2,null,null,null,null,12793.98,11932.92,10233.66,10363.2,10203.18,11894.82,10287.0,2179.32,10386.06,null,7490.46,236.22,4358.64,4381.5,null,487.68,11346.18,9235.44,8595.36,null,7239.0,10256.52,6431.28,106.68,null,null,1303.02,null,8397.24,3436.62,10347.96],\"coloraxis\":\"coloraxis\",\"symbol\":\"circle\"},\"mode\":\"markers\",\"name\":\"\",\"showlegend\":false,\"type\":\"scattergeo\"}],                        {\"coloraxis\":{\"colorbar\":{\"title\":{\"text\":\"geo_altitude\"}},\"colorscale\":[[0.0,\"#0d0887\"],[0.1111111111111111,\"#46039f\"],[0.2222222222222222,\"#7201a8\"],[0.3333333333333333,\"#9c179e\"],[0.4444444444444444,\"#bd3786\"],[0.5555555555555556,\"#d8576b\"],[0.6666666666666666,\"#ed7953\"],[0.7777777777777778,\"#fb9f3a\"],[0.8888888888888888,\"#fdca26\"],[1.0,\"#f0f921\"]]},\"geo\":{\"center\":{},\"domain\":{\"x\":[0.0,1.0],\"y\":[0.0,1.0]}},\"legend\":{\"tracegroupgap\":0},\"margin\":{\"t\":60},\"template\":{\"data\":{\"bar\":[{\"error_x\":{\"color\":\"#2a3f5f\"},\"error_y\":{\"color\":\"#2a3f5f\"},\"marker\":{\"line\":{\"color\":\"#E5ECF6\",\"width\":0.5},\"pattern\":{\"fillmode\":\"overlay\",\"size\":10,\"solidity\":0.2}},\"type\":\"bar\"}],\"barpolar\":[{\"marker\":{\"line\":{\"color\":\"#E5ECF6\",\"width\":0.5},\"pattern\":{\"fillmode\":\"overlay\",\"size\":10,\"solidity\":0.2}},\"type\":\"barpolar\"}],\"carpet\":[{\"aaxis\":{\"endlinecolor\":\"#2a3f5f\",\"gridcolor\":\"white\",\"linecolor\":\"white\",\"minorgridcolor\":\"white\",\"startlinecolor\":\"#2a3f5f\"},\"baxis\":{\"endlinecolor\":\"#2a3f5f\",\"gridcolor\":\"white\",\"linecolor\":\"white\",\"minorgridcolor\":\"white\",\"startlinecolor\":\"#2a3f5f\"},\"type\":\"carpet\"}],\"choropleth\":[{\"colorbar\":{\"outlinewidth\":0,\"ticks\":\"\"},\"type\":\"choropleth\"}],\"contour\":[{\"colorbar\":{\"outlinewidth\":0,\"ticks\":\"\"},\"colorscale\":[[0.0,\"#0d0887\"],[0.1111111111111111,\"#46039f\"],[0.2222222222222222,\"#7201a8\"],[0.3333333333333333,\"#9c179e\"],[0.4444444444444444,\"#bd3786\"],[0.5555555555555556,\"#d8576b\"],[0.6666666666666666,\"#ed7953\"],[0.7777777777777778,\"#fb9f3a\"],[0.8888888888888888,\"#fdca26\"],[1.0,\"#f0f921\"]],\"type\":\"contour\"}],\"contourcarpet\":[{\"colorbar\":{\"outlinewidth\":0,\"ticks\":\"\"},\"type\":\"contourcarpet\"}],\"heatmap\":[{\"colorbar\":{\"outlinewidth\":0,\"ticks\":\"\"},\"colorscale\":[[0.0,\"#0d0887\"],[0.1111111111111111,\"#46039f\"],[0.2222222222222222,\"#7201a8\"],[0.3333333333333333,\"#9c179e\"],[0.4444444444444444,\"#bd3786\"],[0.5555555555555556,\"#d8576b\"],[0.6666666666666666,\"#ed7953\"],[0.7777777777777778,\"#fb9f3a\"],[0.8888888888888888,\"#fdca26\"],[1.0,\"#f0f921\"]],\"type\":\"heatmap\"}],\"heatmapgl\":[{\"colorbar\":{\"outlinewidth\":0,\"ticks\":\"\"},\"colorscale\":[[0.0,\"#0d0887\"],[0.1111111111111111,\"#46039f\"],[0.2222222222222222,\"#7201a8\"],[0.3333333333333333,\"#9c179e\"],[0.4444444444444444,\"#bd3786\"],[0.5555555555555556,\"#d8576b\"],[0.6666666666666666,\"#ed7953\"],[0.7777777777777778,\"#fb9f3a\"],[0.8888888888888888,\"#fdca26\"],[1.0,\"#f0f921\"]],\"type\":\"heatmapgl\"}],\"histogram\":[{\"marker\":{\"pattern\":{\"fillmode\":\"overlay\",\"size\":10,\"solidity\":0.2}},\"type\":\"histogram\"}],\"histogram2d\":[{\"colorbar\":{\"outlinewidth\":0,\"ticks\":\"\"},\"colorscale\":[[0.0,\"#0d0887\"],[0.1111111111111111,\"#46039f\"],[0.2222222222222222,\"#7201a8\"],[0.3333333333333333,\"#9c179e\"],[0.4444444444444444,\"#bd3786\"],[0.5555555555555556,\"#d8576b\"],[0.6666666666666666,\"#ed7953\"],[0.7777777777777778,\"#fb9f3a\"],[0.8888888888888888,\"#fdca26\"],[1.0,\"#f0f921\"]],\"type\":\"histogram2d\"}],\"histogram2dcontour\":[{\"colorbar\":{\"outlinewidth\":0,\"ticks\":\"\"},\"colorscale\":[[0.0,\"#0d0887\"],[0.1111111111111111,\"#46039f\"],[0.2222222222222222,\"#7201a8\"],[0.3333333333333333,\"#9c179e\"],[0.4444444444444444,\"#bd3786\"],[0.5555555555555556,\"#d8576b\"],[0.6666666666666666,\"#ed7953\"],[0.7777777777777778,\"#fb9f3a\"],[0.8888888888888888,\"#fdca26\"],[1.0,\"#f0f921\"]],\"type\":\"histogram2dcontour\"}],\"mesh3d\":[{\"colorbar\":{\"outlinewidth\":0,\"ticks\":\"\"},\"type\":\"mesh3d\"}],\"parcoords\":[{\"line\":{\"colorbar\":{\"outlinewidth\":0,\"ticks\":\"\"}},\"type\":\"parcoords\"}],\"pie\":[{\"automargin\":true,\"type\":\"pie\"}],\"scatter\":[{\"marker\":{\"colorbar\":{\"outlinewidth\":0,\"ticks\":\"\"}},\"type\":\"scatter\"}],\"scatter3d\":[{\"line\":{\"colorbar\":{\"outlinewidth\":0,\"ticks\":\"\"}},\"marker\":{\"colorbar\":{\"outlinewidth\":0,\"ticks\":\"\"}},\"type\":\"scatter3d\"}],\"scattercarpet\":[{\"marker\":{\"colorbar\":{\"outlinewidth\":0,\"ticks\":\"\"}},\"type\":\"scattercarpet\"}],\"scattergeo\":[{\"marker\":{\"colorbar\":{\"outlinewidth\":0,\"ticks\":\"\"}},\"type\":\"scattergeo\"}],\"scattergl\":[{\"marker\":{\"colorbar\":{\"outlinewidth\":0,\"ticks\":\"\"}},\"type\":\"scattergl\"}],\"scattermapbox\":[{\"marker\":{\"colorbar\":{\"outlinewidth\":0,\"ticks\":\"\"}},\"type\":\"scattermapbox\"}],\"scatterpolar\":[{\"marker\":{\"colorbar\":{\"outlinewidth\":0,\"ticks\":\"\"}},\"type\":\"scatterpolar\"}],\"scatterpolargl\":[{\"marker\":{\"colorbar\":{\"outlinewidth\":0,\"ticks\":\"\"}},\"type\":\"scatterpolargl\"}],\"scatterternary\":[{\"marker\":{\"colorbar\":{\"outlinewidth\":0,\"ticks\":\"\"}},\"type\":\"scatterternary\"}],\"surface\":[{\"colorbar\":{\"outlinewidth\":0,\"ticks\":\"\"},\"colorscale\":[[0.0,\"#0d0887\"],[0.1111111111111111,\"#46039f\"],[0.2222222222222222,\"#7201a8\"],[0.3333333333333333,\"#9c179e\"],[0.4444444444444444,\"#bd3786\"],[0.5555555555555556,\"#d8576b\"],[0.6666666666666666,\"#ed7953\"],[0.7777777777777778,\"#fb9f3a\"],[0.8888888888888888,\"#fdca26\"],[1.0,\"#f0f921\"]],\"type\":\"surface\"}],\"table\":[{\"cells\":{\"fill\":{\"color\":\"#EBF0F8\"},\"line\":{\"color\":\"white\"}},\"header\":{\"fill\":{\"color\":\"#C8D4E3\"},\"line\":{\"color\":\"white\"}},\"type\":\"table\"}]},\"layout\":{\"annotationdefaults\":{\"arrowcolor\":\"#2a3f5f\",\"arrowhead\":0,\"arrowwidth\":1},\"autotypenumbers\":\"strict\",\"coloraxis\":{\"colorbar\":{\"outlinewidth\":0,\"ticks\":\"\"}},\"colorscale\":{\"diverging\":[[0,\"#8e0152\"],[0.1,\"#c51b7d\"],[0.2,\"#de77ae\"],[0.3,\"#f1b6da\"],[0.4,\"#fde0ef\"],[0.5,\"#f7f7f7\"],[0.6,\"#e6f5d0\"],[0.7,\"#b8e186\"],[0.8,\"#7fbc41\"],[0.9,\"#4d9221\"],[1,\"#276419\"]],\"sequential\":[[0.0,\"#0d0887\"],[0.1111111111111111,\"#46039f\"],[0.2222222222222222,\"#7201a8\"],[0.3333333333333333,\"#9c179e\"],[0.4444444444444444,\"#bd3786\"],[0.5555555555555556,\"#d8576b\"],[0.6666666666666666,\"#ed7953\"],[0.7777777777777778,\"#fb9f3a\"],[0.8888888888888888,\"#fdca26\"],[1.0,\"#f0f921\"]],\"sequentialminus\":[[0.0,\"#0d0887\"],[0.1111111111111111,\"#46039f\"],[0.2222222222222222,\"#7201a8\"],[0.3333333333333333,\"#9c179e\"],[0.4444444444444444,\"#bd3786\"],[0.5555555555555556,\"#d8576b\"],[0.6666666666666666,\"#ed7953\"],[0.7777777777777778,\"#fb9f3a\"],[0.8888888888888888,\"#fdca26\"],[1.0,\"#f0f921\"]]},\"colorway\":[\"#636efa\",\"#EF553B\",\"#00cc96\",\"#ab63fa\",\"#FFA15A\",\"#19d3f3\",\"#FF6692\",\"#B6E880\",\"#FF97FF\",\"#FECB52\"],\"font\":{\"color\":\"#2a3f5f\"},\"geo\":{\"bgcolor\":\"white\",\"lakecolor\":\"white\",\"landcolor\":\"#E5ECF6\",\"showlakes\":true,\"showland\":true,\"subunitcolor\":\"white\"},\"hoverlabel\":{\"align\":\"left\"},\"hovermode\":\"closest\",\"mapbox\":{\"style\":\"light\"},\"paper_bgcolor\":\"white\",\"plot_bgcolor\":\"#E5ECF6\",\"polar\":{\"angularaxis\":{\"gridcolor\":\"white\",\"linecolor\":\"white\",\"ticks\":\"\"},\"bgcolor\":\"#E5ECF6\",\"radialaxis\":{\"gridcolor\":\"white\",\"linecolor\":\"white\",\"ticks\":\"\"}},\"scene\":{\"xaxis\":{\"backgroundcolor\":\"#E5ECF6\",\"gridcolor\":\"white\",\"gridwidth\":2,\"linecolor\":\"white\",\"showbackground\":true,\"ticks\":\"\",\"zerolinecolor\":\"white\"},\"yaxis\":{\"backgroundcolor\":\"#E5ECF6\",\"gridcolor\":\"white\",\"gridwidth\":2,\"linecolor\":\"white\",\"showbackground\":true,\"ticks\":\"\",\"zerolinecolor\":\"white\"},\"zaxis\":{\"backgroundcolor\":\"#E5ECF6\",\"gridcolor\":\"white\",\"gridwidth\":2,\"linecolor\":\"white\",\"showbackground\":true,\"ticks\":\"\",\"zerolinecolor\":\"white\"}},\"shapedefaults\":{\"line\":{\"color\":\"#2a3f5f\"}},\"ternary\":{\"aaxis\":{\"gridcolor\":\"white\",\"linecolor\":\"white\",\"ticks\":\"\"},\"baxis\":{\"gridcolor\":\"white\",\"linecolor\":\"white\",\"ticks\":\"\"},\"bgcolor\":\"#E5ECF6\",\"caxis\":{\"gridcolor\":\"white\",\"linecolor\":\"white\",\"ticks\":\"\"}},\"title\":{\"x\":0.05},\"xaxis\":{\"automargin\":true,\"gridcolor\":\"white\",\"linecolor\":\"white\",\"ticks\":\"\",\"title\":{\"standoff\":15},\"zerolinecolor\":\"white\",\"zerolinewidth\":2},\"yaxis\":{\"automargin\":true,\"gridcolor\":\"white\",\"linecolor\":\"white\",\"ticks\":\"\",\"title\":{\"standoff\":15},\"zerolinecolor\":\"white\",\"zerolinewidth\":2}}},\"title\":{\"text\":\"World map\",\"x\":0.5}},                        {\"responsive\": true}                    ).then(function(){\n",
       "                            \n",
       "var gd = document.getElementById('af847dc7-c7eb-4679-91b9-2e9e287efaf7');\n",
       "var x = new MutationObserver(function (mutations, observer) {{\n",
       "        var display = window.getComputedStyle(gd).display;\n",
       "        if (!display || display === 'none') {{\n",
       "            console.log([gd, 'removed!']);\n",
       "            Plotly.purge(gd);\n",
       "            observer.disconnect();\n",
       "        }}\n",
       "}});\n",
       "\n",
       "// Listen for the removal of the full notebook cells\n",
       "var notebookContainer = gd.closest('#notebook-container');\n",
       "if (notebookContainer) {{\n",
       "    x.observe(notebookContainer, {childList: true});\n",
       "}}\n",
       "\n",
       "// Listen for the clearing of the current output cell\n",
       "var outputEl = gd.closest('.output');\n",
       "if (outputEl) {{\n",
       "    x.observe(outputEl, {childList: true});\n",
       "}}\n",
       "\n",
       "                        })                };                });            </script>        </div>"
      ]
     },
     "metadata": {},
     "output_type": "display_data"
    },
    {
     "data": {
      "text/html": [
       "<div>\n",
       "<style scoped>\n",
       "    .dataframe tbody tr th:only-of-type {\n",
       "        vertical-align: middle;\n",
       "    }\n",
       "\n",
       "    .dataframe tbody tr th {\n",
       "        vertical-align: top;\n",
       "    }\n",
       "\n",
       "    .dataframe thead th {\n",
       "        text-align: right;\n",
       "    }\n",
       "</style>\n",
       "<table border=\"1\" class=\"dataframe\">\n",
       "  <thead>\n",
       "    <tr style=\"text-align: right;\">\n",
       "      <th></th>\n",
       "      <th>icao24</th>\n",
       "      <th>time</th>\n",
       "      <th>city_name</th>\n",
       "      <th>reg_admin1</th>\n",
       "      <th>country_cc</th>\n",
       "    </tr>\n",
       "  </thead>\n",
       "  <tbody>\n",
       "    <tr>\n",
       "      <th>0</th>\n",
       "      <td>aaa5b8</td>\n",
       "      <td>1652820761</td>\n",
       "      <td>SeaTac</td>\n",
       "      <td>Washington</td>\n",
       "      <td>US</td>\n",
       "    </tr>\n",
       "    <tr>\n",
       "      <th>10</th>\n",
       "      <td>aaa5b8</td>\n",
       "      <td>1652830554</td>\n",
       "      <td>San Leandro</td>\n",
       "      <td>California</td>\n",
       "      <td>US</td>\n",
       "    </tr>\n",
       "  </tbody>\n",
       "</table>\n",
       "</div>"
      ],
      "text/plain": [
       "    icao24        time    city_name  reg_admin1 country_cc\n",
       "0   aaa5b8  1652820761       SeaTac  Washington         US\n",
       "10  aaa5b8  1652830554  San Leandro  California         US"
      ]
     },
     "execution_count": 231,
     "metadata": {},
     "output_type": "execute_result"
    }
   ],
   "source": [
    "# plot one flight from full_trip_df\n",
    "flight_test = pflights_df_f[pflights_df_f.icao24==\"aaa5b8\"]\n",
    "\n",
    "# Plot flight route\n",
    "import plotly.express as px\n",
    "fig = px.scatter_geo(flight_test, lat='lat',lon='long', hover_name=\"icao24\", color=\"geo_altitude\", hover_data=[\"on_ground\", \"time\"])\n",
    "fig.update_layout(title = 'World map', title_x=0.5)\n",
    "fig.show()\n",
    "\n",
    "flight_test[flight_test.geo_altitude.isnull()].sort_values(by=[\"time\"])\\\n",
    "    .reset_index(drop=True).iloc[[0,-1]]\\\n",
    "    [[\"icao24\", \"time\", \"city_name\", \"reg_admin1\", \"country_cc\"]]"
   ]
  },
  {
   "cell_type": "markdown",
   "id": "e4104678",
   "metadata": {},
   "source": [
    "Flight from SeaTac (Seattle) to Washington"
   ]
  },
  {
   "cell_type": "code",
   "execution_count": 239,
   "id": "ac0ac3b4",
   "metadata": {},
   "outputs": [
    {
     "data": {
      "application/vnd.plotly.v1+json": {
       "config": {
        "plotlyServerURL": "https://plot.ly"
       },
       "data": [
        {
         "customdata": [
          [
           0,
           1652824461
          ],
          [
           0,
           1652824461
          ],
          [
           0,
           1652824461
          ],
          [
           0,
           1652824461
          ],
          [
           0,
           1652824461
          ],
          [
           0,
           1652824461
          ],
          [
           0,
           1652824461
          ],
          [
           1,
           1652824461
          ],
          [
           1,
           1652824461
          ],
          [
           0,
           1652824461
          ],
          [
           0,
           1652823534
          ],
          [
           0,
           1652823534
          ],
          [
           1,
           1652823534
          ],
          [
           0,
           1652823534
          ],
          [
           1,
           1652823534
          ],
          [
           0,
           1652823534
          ],
          [
           0,
           1652823534
          ],
          [
           0,
           1652823534
          ],
          [
           0,
           1652823534
          ],
          [
           0,
           1652823534
          ],
          [
           0,
           1652823534
          ],
          [
           0,
           1652823534
          ],
          [
           0,
           1652832362
          ],
          [
           0,
           1652832362
          ],
          [
           0,
           1652832362
          ],
          [
           0,
           1652832362
          ],
          [
           0,
           1652832362
          ],
          [
           0,
           1652832362
          ],
          [
           0,
           1652832362
          ],
          [
           0,
           1652832362
          ],
          [
           0,
           1652832362
          ],
          [
           1,
           1652832362
          ],
          [
           0,
           1652820761
          ],
          [
           0,
           1652820761
          ],
          [
           0,
           1652820761
          ],
          [
           0,
           1652820761
          ],
          [
           0,
           1652820761
          ],
          [
           0,
           1652820761
          ],
          [
           1,
           1652820761
          ],
          [
           1,
           1652820761
          ],
          [
           1,
           1652820761
          ],
          [
           0,
           1652820761
          ],
          [
           0,
           1652820761
          ],
          [
           1,
           1652820761
          ],
          [
           0,
           1652820761
          ],
          [
           0,
           1652820761
          ],
          [
           0,
           1652820761
          ],
          [
           1,
           1652820761
          ],
          [
           0,
           1652820761
          ],
          [
           1,
           1652820761
          ],
          [
           0,
           1652820761
          ],
          [
           0,
           1652820761
          ],
          [
           0,
           1652820761
          ],
          [
           0,
           1652820761
          ],
          [
           0,
           1652820761
          ],
          [
           1,
           1652825222
          ],
          [
           0,
           1652825222
          ],
          [
           0,
           1652825222
          ],
          [
           0,
           1652825222
          ],
          [
           0,
           1652825222
          ],
          [
           0,
           1652825222
          ],
          [
           0,
           1652825222
          ],
          [
           1,
           1652825222
          ],
          [
           0,
           1652825222
          ],
          [
           0,
           1652829949
          ],
          [
           0,
           1652829949
          ],
          [
           1,
           1652829949
          ],
          [
           0,
           1652829949
          ],
          [
           0,
           1652829949
          ],
          [
           1,
           1652829949
          ],
          [
           0,
           1652829949
          ],
          [
           0,
           1652829949
          ],
          [
           0,
           1652829949
          ],
          [
           0,
           1652829949
          ],
          [
           1,
           1652829949
          ],
          [
           0,
           1652829949
          ],
          [
           1,
           1652829949
          ],
          [
           0,
           1652829949
          ],
          [
           1,
           1652829949
          ],
          [
           0,
           1652829949
          ],
          [
           0,
           1652829949
          ],
          [
           0,
           1652829949
          ],
          [
           0,
           1652827805
          ],
          [
           0,
           1652827805
          ],
          [
           1,
           1652827805
          ],
          [
           0,
           1652827805
          ],
          [
           0,
           1652827805
          ],
          [
           1,
           1652827805
          ],
          [
           1,
           1652827805
          ],
          [
           0,
           1652827805
          ],
          [
           0,
           1652827805
          ],
          [
           0,
           1652827805
          ],
          [
           0,
           1652827805
          ],
          [
           1,
           1652827805
          ],
          [
           0,
           1652827805
          ],
          [
           0,
           1652827805
          ],
          [
           0,
           1652827805
          ],
          [
           0,
           1652827805
          ],
          [
           0,
           1652827805
          ],
          [
           1,
           1652827805
          ],
          [
           0,
           1652828748
          ],
          [
           1,
           1652828748
          ],
          [
           0,
           1652828748
          ],
          [
           0,
           1652828748
          ],
          [
           0,
           1652828748
          ],
          [
           1,
           1652828748
          ],
          [
           0,
           1652828748
          ],
          [
           0,
           1652828748
          ],
          [
           1,
           1652828748
          ],
          [
           0,
           1652828748
          ],
          [
           1,
           1652828748
          ],
          [
           0,
           1652828748
          ],
          [
           0,
           1652828748
          ],
          [
           0,
           1652828748
          ],
          [
           0,
           1652828748
          ],
          [
           0,
           1652828748
          ],
          [
           0,
           1652828748
          ],
          [
           0,
           1652829047
          ],
          [
           1,
           1652829047
          ],
          [
           0,
           1652829047
          ],
          [
           0,
           1652829047
          ],
          [
           1,
           1652829047
          ],
          [
           0,
           1652829047
          ],
          [
           0,
           1652829047
          ],
          [
           0,
           1652829047
          ],
          [
           1,
           1652829047
          ],
          [
           1,
           1652829047
          ],
          [
           0,
           1652829047
          ],
          [
           1,
           1652829047
          ],
          [
           0,
           1652829047
          ],
          [
           0,
           1652829047
          ],
          [
           0,
           1652829047
          ],
          [
           0,
           1652829047
          ],
          [
           0,
           1652829047
          ],
          [
           1,
           1652829655
          ],
          [
           0,
           1652829655
          ],
          [
           0,
           1652829655
          ],
          [
           1,
           1652829655
          ],
          [
           1,
           1652829655
          ],
          [
           0,
           1652829655
          ],
          [
           0,
           1652829655
          ],
          [
           1,
           1652829655
          ],
          [
           0,
           1652829655
          ],
          [
           0,
           1652829655
          ],
          [
           0,
           1652829655
          ],
          [
           1,
           1652829655
          ],
          [
           1,
           1652829655
          ],
          [
           1,
           1652829655
          ],
          [
           0,
           1652829655
          ],
          [
           1,
           1652829655
          ],
          [
           0,
           1652829655
          ],
          [
           0,
           1652829655
          ],
          [
           0,
           1652829655
          ],
          [
           0,
           1652862078
          ],
          [
           0,
           1652862078
          ],
          [
           0,
           1652862078
          ],
          [
           0,
           1652862078
          ],
          [
           1,
           1652862078
          ],
          [
           1,
           1652862078
          ],
          [
           0,
           1652862078
          ],
          [
           1,
           1652862078
          ],
          [
           0,
           1652862078
          ],
          [
           1,
           1652862078
          ],
          [
           0,
           1652862078
          ],
          [
           0,
           1652862078
          ],
          [
           1,
           1652862078
          ],
          [
           0,
           1652862078
          ],
          [
           0,
           1652862078
          ],
          [
           1,
           1652862078
          ],
          [
           0,
           1652862078
          ],
          [
           0,
           1652862078
          ],
          [
           0,
           1652862078
          ],
          [
           1,
           1652862078
          ],
          [
           1,
           1652862078
          ],
          [
           0,
           1652862078
          ],
          [
           0,
           1652862078
          ],
          [
           1,
           1652862078
          ],
          [
           1,
           1652862078
          ],
          [
           0,
           1652862078
          ],
          [
           0,
           1652862078
          ],
          [
           0,
           1652832666
          ],
          [
           0,
           1652832666
          ],
          [
           0,
           1652832666
          ],
          [
           0,
           1652832666
          ],
          [
           0,
           1652832666
          ],
          [
           0,
           1652832666
          ],
          [
           0,
           1652832666
          ],
          [
           0,
           1652832666
          ],
          [
           0,
           1652832666
          ],
          [
           0,
           1652832666
          ],
          [
           1,
           1652822273
          ],
          [
           1,
           1652822273
          ],
          [
           1,
           1652822273
          ],
          [
           0,
           1652822273
          ],
          [
           1,
           1652822273
          ],
          [
           0,
           1652822273
          ],
          [
           0,
           1652822273
          ],
          [
           0,
           1652822273
          ],
          [
           0,
           1652822273
          ],
          [
           1,
           1652822273
          ],
          [
           0,
           1652822273
          ],
          [
           0,
           1652822273
          ],
          [
           0,
           1652822273
          ],
          [
           1,
           1652822273
          ],
          [
           0,
           1652822273
          ],
          [
           1,
           1652822273
          ],
          [
           0,
           1652822273
          ],
          [
           0,
           1652824158
          ],
          [
           0,
           1652824158
          ],
          [
           0,
           1652824158
          ],
          [
           0,
           1652824158
          ],
          [
           0,
           1652824158
          ],
          [
           0,
           1652824158
          ],
          [
           1,
           1652824158
          ],
          [
           1,
           1652824158
          ],
          [
           1,
           1652824158
          ],
          [
           0,
           1652824158
          ],
          [
           0,
           1652821965
          ],
          [
           0,
           1652821965
          ],
          [
           1,
           1652821965
          ],
          [
           0,
           1652821965
          ],
          [
           1,
           1652821965
          ],
          [
           0,
           1652821965
          ],
          [
           0,
           1652821965
          ],
          [
           1,
           1652821965
          ],
          [
           1,
           1652821965
          ],
          [
           0,
           1652821965
          ],
          [
           0,
           1652821965
          ],
          [
           0,
           1652821965
          ],
          [
           1,
           1652821965
          ],
          [
           0,
           1652821965
          ],
          [
           0,
           1652821965
          ],
          [
           1,
           1652821965
          ],
          [
           1,
           1652821965
          ],
          [
           1,
           1652821965
          ],
          [
           0,
           1652821965
          ],
          [
           0,
           1652833568
          ],
          [
           0,
           1652833568
          ],
          [
           1,
           1652833568
          ],
          [
           0,
           1652833568
          ],
          [
           0,
           1652833568
          ],
          [
           0,
           1652833568
          ],
          [
           0,
           1652833568
          ],
          [
           0,
           1652822921
          ],
          [
           1,
           1652822921
          ],
          [
           0,
           1652822921
          ],
          [
           1,
           1652822921
          ],
          [
           0,
           1652822921
          ],
          [
           0,
           1652822921
          ],
          [
           0,
           1652822921
          ],
          [
           0,
           1652822921
          ],
          [
           0,
           1652822921
          ],
          [
           0,
           1652822921
          ],
          [
           0,
           1652822921
          ],
          [
           0,
           1652822921
          ],
          [
           0,
           1652822921
          ],
          [
           0,
           1652821233
          ],
          [
           0,
           1652821233
          ],
          [
           0,
           1652821233
          ],
          [
           0,
           1652821233
          ],
          [
           0,
           1652821233
          ],
          [
           0,
           1652821233
          ],
          [
           1,
           1652821233
          ],
          [
           0,
           1652821233
          ],
          [
           1,
           1652821233
          ],
          [
           0,
           1652821233
          ],
          [
           0,
           1652821233
          ],
          [
           0,
           1652821233
          ],
          [
           1,
           1652821233
          ],
          [
           0,
           1652821233
          ],
          [
           0,
           1652821233
          ],
          [
           0,
           1652821233
          ],
          [
           0,
           1652821233
          ],
          [
           0,
           1652821233
          ],
          [
           0,
           1652824770
          ],
          [
           0,
           1652824770
          ],
          [
           0,
           1652824770
          ],
          [
           0,
           1652824770
          ],
          [
           0,
           1652824770
          ],
          [
           0,
           1652824770
          ],
          [
           1,
           1652824770
          ],
          [
           0,
           1652824770
          ],
          [
           1,
           1652830251
          ],
          [
           0,
           1652830251
          ],
          [
           1,
           1652830251
          ],
          [
           0,
           1652830251
          ],
          [
           0,
           1652830251
          ],
          [
           0,
           1652830251
          ],
          [
           0,
           1652830251
          ],
          [
           0,
           1652830251
          ],
          [
           0,
           1652830251
          ],
          [
           0,
           1652830251
          ],
          [
           0,
           1652830251
          ],
          [
           0,
           1652830251
          ],
          [
           0,
           1652830251
          ],
          [
           1,
           1652830251
          ],
          [
           0,
           1652830251
          ],
          [
           1,
           1652830251
          ],
          [
           0,
           1652830251
          ],
          [
           0,
           1652830251
          ],
          [
           1,
           1652859768
          ],
          [
           0,
           1652859768
          ],
          [
           1,
           1652859768
          ],
          [
           1,
           1652859768
          ],
          [
           1,
           1652859768
          ],
          [
           0,
           1652859768
          ],
          [
           1,
           1652859768
          ],
          [
           0,
           1652859768
          ],
          [
           1,
           1652859768
          ],
          [
           0,
           1652859768
          ],
          [
           0,
           1652859768
          ],
          [
           1,
           1652859768
          ],
          [
           1,
           1652859768
          ],
          [
           1,
           1652859768
          ],
          [
           0,
           1652859768
          ],
          [
           0,
           1652859768
          ],
          [
           0,
           1652859768
          ],
          [
           0,
           1652859768
          ],
          [
           0,
           1652859768
          ],
          [
           1,
           1652859768
          ],
          [
           0,
           1652826579
          ],
          [
           0,
           1652826579
          ],
          [
           0,
           1652826579
          ],
          [
           0,
           1652826579
          ],
          [
           0,
           1652826579
          ],
          [
           1,
           1652826579
          ],
          [
           1,
           1652826579
          ],
          [
           0,
           1652826579
          ],
          [
           0,
           1652826579
          ],
          [
           1,
           1652826579
          ],
          [
           0,
           1652826579
          ],
          [
           0,
           1652826579
          ],
          [
           1,
           1652826579
          ],
          [
           1,
           1652826579
          ],
          [
           0,
           1652821362
          ],
          [
           0,
           1652821362
          ],
          [
           0,
           1652821362
          ],
          [
           0,
           1652821362
          ],
          [
           0,
           1652821362
          ],
          [
           0,
           1652821362
          ],
          [
           1,
           1652821362
          ],
          [
           0,
           1652821362
          ],
          [
           1,
           1652821362
          ],
          [
           0,
           1652821362
          ],
          [
           0,
           1652821362
          ],
          [
           0,
           1652821362
          ],
          [
           1,
           1652821362
          ],
          [
           0,
           1652821362
          ],
          [
           0,
           1652821362
          ],
          [
           0,
           1652821362
          ],
          [
           1,
           1652821362
          ],
          [
           0,
           1652821362
          ],
          [
           0,
           1652831159
          ],
          [
           0,
           1652831159
          ],
          [
           0,
           1652831159
          ],
          [
           0,
           1652831159
          ],
          [
           0,
           1652831159
          ],
          [
           0,
           1652831159
          ],
          [
           0,
           1652831159
          ],
          [
           0,
           1652831159
          ],
          [
           0,
           1652831159
          ],
          [
           0,
           1652831159
          ],
          [
           0,
           1652831159
          ],
          [
           0,
           1652831159
          ],
          [
           1,
           1652831159
          ],
          [
           1,
           1652831159
          ],
          [
           1,
           1652831159
          ],
          [
           0,
           1652820928
          ],
          [
           0,
           1652820928
          ],
          [
           0,
           1652820928
          ],
          [
           0,
           1652820928
          ],
          [
           0,
           1652820928
          ],
          [
           0,
           1652820928
          ],
          [
           1,
           1652820928
          ],
          [
           1,
           1652820928
          ],
          [
           1,
           1652820928
          ],
          [
           1,
           1652820928
          ],
          [
           0,
           1652820928
          ],
          [
           0,
           1652820928
          ],
          [
           1,
           1652820928
          ],
          [
           0,
           1652820928
          ],
          [
           0,
           1652820928
          ],
          [
           0,
           1652820928
          ],
          [
           1,
           1652820928
          ],
          [
           0,
           1652820928
          ],
          [
           0,
           1652820928
          ],
          [
           0,
           1652820928
          ],
          [
           0,
           1652820928
          ],
          [
           0,
           1652820928
          ],
          [
           0,
           1652820928
          ],
          [
           0,
           1652830859
          ],
          [
           0,
           1652830859
          ],
          [
           0,
           1652830859
          ],
          [
           0,
           1652830859
          ],
          [
           1,
           1652830859
          ],
          [
           0,
           1652830859
          ],
          [
           0,
           1652830859
          ],
          [
           0,
           1652830859
          ],
          [
           0,
           1652830859
          ],
          [
           0,
           1652830859
          ],
          [
           0,
           1652830859
          ],
          [
           0,
           1652830859
          ],
          [
           0,
           1652830859
          ],
          [
           1,
           1652830859
          ],
          [
           1,
           1652830859
          ],
          [
           1,
           1652830859
          ],
          [
           1,
           1652830859
          ],
          [
           0,
           1652830859
          ],
          [
           1,
           1652831765
          ],
          [
           0,
           1652831765
          ],
          [
           0,
           1652831765
          ],
          [
           0,
           1652831765
          ],
          [
           0,
           1652831765
          ],
          [
           1,
           1652831765
          ],
          [
           0,
           1652831765
          ],
          [
           0,
           1652831765
          ],
          [
           0,
           1652831765
          ],
          [
           0,
           1652831765
          ],
          [
           0,
           1652831765
          ],
          [
           0,
           1652831765
          ],
          [
           0,
           1652831765
          ],
          [
           0,
           1652831765
          ],
          [
           0,
           1652831765
          ],
          [
           0,
           1652831765
          ],
          [
           1,
           1652831765
          ],
          [
           1,
           1652831765
          ],
          [
           0,
           1652825076
          ],
          [
           0,
           1652825076
          ],
          [
           0,
           1652825076
          ],
          [
           0,
           1652825076
          ],
          [
           0,
           1652825076
          ],
          [
           0,
           1652825076
          ],
          [
           1,
           1652825076
          ],
          [
           0,
           1652825076
          ],
          [
           0,
           1652828432
          ],
          [
           0,
           1652828432
          ],
          [
           0,
           1652828432
          ],
          [
           0,
           1652828432
          ],
          [
           1,
           1652828432
          ],
          [
           1,
           1652828432
          ],
          [
           0,
           1652828432
          ],
          [
           0,
           1652828432
          ],
          [
           1,
           1652828432
          ],
          [
           0,
           1652828432
          ],
          [
           1,
           1652828432
          ],
          [
           0,
           1652828432
          ],
          [
           0,
           1652828432
          ],
          [
           0,
           1652828432
          ],
          [
           0,
           1652828432
          ],
          [
           0,
           1652828432
          ],
          [
           0,
           1652828432
          ],
          [
           0,
           1652827502
          ],
          [
           0,
           1652827502
          ],
          [
           1,
           1652827502
          ],
          [
           0,
           1652827502
          ],
          [
           0,
           1652827502
          ],
          [
           1,
           1652827502
          ],
          [
           1,
           1652827502
          ],
          [
           0,
           1652827502
          ],
          [
           0,
           1652827502
          ],
          [
           0,
           1652827502
          ],
          [
           0,
           1652827502
          ],
          [
           1,
           1652827502
          ],
          [
           0,
           1652827502
          ],
          [
           0,
           1652827502
          ],
          [
           1,
           1652827502
          ],
          [
           0,
           1652827502
          ],
          [
           0,
           1652827502
          ],
          [
           1,
           1652827502
          ],
          [
           0,
           1652821666
          ],
          [
           0,
           1652821666
          ],
          [
           0,
           1652821666
          ],
          [
           0,
           1652821666
          ],
          [
           0,
           1652821666
          ],
          [
           0,
           1652821666
          ],
          [
           1,
           1652821666
          ],
          [
           0,
           1652821666
          ],
          [
           0,
           1652821666
          ],
          [
           0,
           1652821666
          ],
          [
           0,
           1652821666
          ],
          [
           1,
           1652821666
          ],
          [
           0,
           1652821666
          ],
          [
           1,
           1652821666
          ],
          [
           1,
           1652821666
          ],
          [
           1,
           1652821666
          ],
          [
           0,
           1652821666
          ],
          [
           0,
           1652828124
          ],
          [
           0,
           1652828124
          ],
          [
           1,
           1652828124
          ],
          [
           0,
           1652828124
          ],
          [
           0,
           1652828124
          ],
          [
           1,
           1652828124
          ],
          [
           1,
           1652828124
          ],
          [
           0,
           1652828124
          ],
          [
           0,
           1652828124
          ],
          [
           0,
           1652828124
          ],
          [
           1,
           1652828124
          ],
          [
           0,
           1652828124
          ],
          [
           0,
           1652828124
          ],
          [
           0,
           1652828124
          ],
          [
           0,
           1652828124
          ],
          [
           0,
           1652828124
          ],
          [
           0,
           1652828124
          ],
          [
           0,
           1652828124
          ],
          [
           1,
           1652830554
          ],
          [
           0,
           1652830554
          ],
          [
           1,
           1652830554
          ],
          [
           0,
           1652830554
          ],
          [
           0,
           1652830554
          ],
          [
           1,
           1652830554
          ],
          [
           0,
           1652830554
          ],
          [
           0,
           1652830554
          ],
          [
           0,
           1652830554
          ],
          [
           0,
           1652830554
          ],
          [
           0,
           1652830554
          ],
          [
           0,
           1652830554
          ],
          [
           0,
           1652830554
          ],
          [
           1,
           1652830554
          ],
          [
           1,
           1652830554
          ],
          [
           1,
           1652830554
          ],
          [
           0,
           1652830554
          ],
          [
           1,
           1652830554
          ],
          [
           0,
           1652830554
          ],
          [
           1,
           1652825429
          ],
          [
           0,
           1652825429
          ],
          [
           0,
           1652825429
          ],
          [
           0,
           1652825429
          ],
          [
           0,
           1652825429
          ],
          [
           0,
           1652825429
          ],
          [
           0,
           1652825429
          ],
          [
           1,
           1652825429
          ],
          [
           0,
           1652825429
          ],
          [
           1,
           1652822597
          ],
          [
           0,
           1652822597
          ],
          [
           1,
           1652822597
          ],
          [
           0,
           1652822597
          ],
          [
           0,
           1652822597
          ],
          [
           0,
           1652822597
          ],
          [
           0,
           1652822597
          ],
          [
           0,
           1652822597
          ],
          [
           0,
           1652822597
          ],
          [
           0,
           1652822597
          ],
          [
           0,
           1652822597
          ],
          [
           0,
           1652822597
          ],
          [
           0,
           1652822597
          ],
          [
           1,
           1652822597
          ],
          [
           0,
           1652822597
          ],
          [
           1,
           1652859697
          ],
          [
           0,
           1652859697
          ],
          [
           1,
           1652859697
          ],
          [
           1,
           1652859697
          ],
          [
           1,
           1652859697
          ],
          [
           0,
           1652859697
          ],
          [
           1,
           1652859697
          ],
          [
           1,
           1652859697
          ],
          [
           1,
           1652859697
          ],
          [
           0,
           1652859697
          ],
          [
           0,
           1652859697
          ],
          [
           0,
           1652859697
          ],
          [
           0,
           1652859697
          ],
          [
           1,
           1652859697
          ],
          [
           0,
           1652859697
          ],
          [
           0,
           1652859697
          ],
          [
           0,
           1652859697
          ],
          [
           0,
           1652859697
          ],
          [
           0,
           1652859697
          ],
          [
           1,
           1652859697
          ],
          [
           0,
           1652821066
          ],
          [
           0,
           1652821066
          ],
          [
           0,
           1652821066
          ],
          [
           0,
           1652821066
          ],
          [
           0,
           1652821066
          ],
          [
           0,
           1652821066
          ],
          [
           1,
           1652821066
          ],
          [
           1,
           1652821066
          ],
          [
           1,
           1652821066
          ],
          [
           1,
           1652821066
          ],
          [
           0,
           1652821066
          ],
          [
           0,
           1652821066
          ],
          [
           1,
           1652821066
          ],
          [
           0,
           1652821066
          ],
          [
           0,
           1652821066
          ],
          [
           0,
           1652821066
          ],
          [
           1,
           1652821066
          ],
          [
           0,
           1652821066
          ],
          [
           0,
           1652821066
          ],
          [
           0,
           1652821066
          ],
          [
           0,
           1652821066
          ],
          [
           0,
           1652821066
          ],
          [
           0,
           1652821066
          ],
          [
           1,
           1652829348
          ],
          [
           0,
           1652829348
          ],
          [
           0,
           1652829348
          ],
          [
           1,
           1652829348
          ],
          [
           0,
           1652829348
          ],
          [
           0,
           1652829348
          ],
          [
           0,
           1652829348
          ],
          [
           0,
           1652829348
          ],
          [
           0,
           1652829348
          ],
          [
           1,
           1652829348
          ],
          [
           0,
           1652829348
          ],
          [
           0,
           1652829348
          ],
          [
           0,
           1652829348
          ],
          [
           0,
           1652829348
          ],
          [
           0,
           1652827204
          ],
          [
           0,
           1652827204
          ],
          [
           0,
           1652827204
          ],
          [
           0,
           1652827204
          ],
          [
           0,
           1652827204
          ],
          [
           1,
           1652827204
          ],
          [
           1,
           1652827204
          ],
          [
           0,
           1652827204
          ],
          [
           0,
           1652827204
          ],
          [
           0,
           1652827204
          ],
          [
           0,
           1652827204
          ],
          [
           0,
           1652827204
          ],
          [
           0,
           1652827204
          ],
          [
           1,
           1652827204
          ],
          [
           1,
           1652827204
          ],
          [
           0,
           1652826287
          ],
          [
           0,
           1652826287
          ],
          [
           0,
           1652826287
          ],
          [
           0,
           1652826287
          ],
          [
           0,
           1652826287
          ],
          [
           0,
           1652826287
          ],
          [
           0,
           1652826287
          ],
          [
           1,
           1652826287
          ],
          [
           1,
           1652826287
          ],
          [
           1,
           1652826287
          ],
          [
           0,
           1652826287
          ],
          [
           1,
           1652826287
          ],
          [
           1,
           1652826287
          ],
          [
           0,
           1652826905
          ],
          [
           0,
           1652826905
          ],
          [
           0,
           1652826905
          ],
          [
           0,
           1652826905
          ],
          [
           0,
           1652826905
          ],
          [
           1,
           1652826905
          ],
          [
           1,
           1652826905
          ],
          [
           0,
           1652826905
          ],
          [
           1,
           1652826905
          ],
          [
           0,
           1652826905
          ],
          [
           0,
           1652826905
          ],
          [
           1,
           1652826905
          ],
          [
           1,
           1652826905
          ],
          [
           1,
           1652826905
          ],
          [
           0,
           1652831458
          ],
          [
           0,
           1652831458
          ],
          [
           0,
           1652831458
          ],
          [
           0,
           1652831458
          ],
          [
           0,
           1652831458
          ],
          [
           1,
           1652831458
          ],
          [
           0,
           1652831458
          ],
          [
           0,
           1652831458
          ],
          [
           0,
           1652831458
          ],
          [
           0,
           1652831458
          ],
          [
           0,
           1652831458
          ],
          [
           0,
           1652831458
          ],
          [
           0,
           1652831458
          ],
          [
           0,
           1652831458
          ],
          [
           1,
           1652831458
          ],
          [
           1,
           1652831458
          ],
          [
           1,
           1652825808
          ],
          [
           0,
           1652825808
          ],
          [
           0,
           1652825808
          ],
          [
           0,
           1652825808
          ],
          [
           0,
           1652825808
          ],
          [
           0,
           1652825808
          ],
          [
           0,
           1652825808
          ],
          [
           1,
           1652825808
          ],
          [
           1,
           1652825808
          ],
          [
           0,
           1652825808
          ],
          [
           0,
           1652823854
          ],
          [
           0,
           1652823854
          ],
          [
           0,
           1652823854
          ],
          [
           1,
           1652823854
          ],
          [
           0,
           1652823854
          ],
          [
           0,
           1652823854
          ],
          [
           0,
           1652823854
          ],
          [
           1,
           1652823854
          ],
          [
           1,
           1652823854
          ],
          [
           0,
           1652823854
          ],
          [
           0,
           1652823854
          ]
         ],
         "geo": "geo",
         "hovertemplate": "<b>%{hovertext}</b><br><br>lat=%{lat}<br>long=%{lon}<br>on_ground=%{customdata[0]}<br>time=%{customdata[1]}<br>geo_altitude=%{marker.color}<extra></extra>",
         "hovertext": [
          "3430cc",
          "3c656e",
          "344197",
          "345645",
          "345204",
          "040128",
          "06a053",
          "3420ca",
          "3420ca",
          "3c66a3",
          "3430cc",
          "3c656e",
          "3c64a6",
          "344197",
          "345043",
          "345204",
          "040128",
          "06a053",
          "3420ca",
          "3420ca",
          "06a098",
          "3c66a3",
          "06a374",
          "06a03e",
          "06a053",
          "06a07c",
          "06a1df",
          "06a13c",
          "06a0a6",
          "06a0b5",
          "06a0ac",
          "06a0e9",
          "3c6672",
          "3c64a6",
          "3c64aa",
          "344548",
          "345645",
          "345043",
          "34510a",
          "34510a",
          "345204",
          "346185",
          "34620d",
          "06a041",
          "3420ca",
          "3420ca",
          "06a07b",
          "06a07c",
          "06a1c0",
          "06a1bb",
          "06a1df",
          "342059",
          "342059",
          "06a13c",
          "3c66a3",
          "3c5eea",
          "3430cc",
          "3c656e",
          "344197",
          "345645",
          "345204",
          "040128",
          "06a053",
          "3c66a3",
          "344197",
          "345645",
          "06a2b8",
          "06a041",
          "06a068",
          "06a062",
          "06a072",
          "06a07b",
          "06a07c",
          "06a09a",
          "06a1c0",
          "06a1bb",
          "06a1df",
          "06a105",
          "06a0a8",
          "06a0a5",
          "06a0b6",
          "06a0eb",
          "3c5ee5",
          "3c5eea",
          "3430cc",
          "344197",
          "345645",
          "34510a",
          "34510a",
          "040128",
          "06a373",
          "06a2e7",
          "06a087",
          "3c66a3",
          "06a105",
          "06a0a8",
          "06a0a5",
          "06a0b6",
          "06a0bf",
          "06a0eb",
          "3c5ee5",
          "3c5eea",
          "344197",
          "345645",
          "06a373",
          "06a374",
          "06a2e7",
          "06a068",
          "06a072",
          "06a07b",
          "06a09a",
          "06a105",
          "06a0a8",
          "06a0a5",
          "06a0b6",
          "06a0bf",
          "06a0eb",
          "3c5ee5",
          "3c5eea",
          "344197",
          "345645",
          "06a374",
          "06a2e7",
          "06a041",
          "06a068",
          "06a062",
          "06a072",
          "06a07b",
          "06a09a",
          "06a105",
          "06a0a8",
          "06a0a5",
          "06a0bf",
          "06a0eb",
          "3c5ee5",
          "344197",
          "345645",
          "06a374",
          "06a2b8",
          "06a041",
          "06a068",
          "06a062",
          "06a072",
          "06a07b",
          "06a09a",
          "06a1c0",
          "06a1bb",
          "06a1df",
          "06a105",
          "06a0a8",
          "06a0a5",
          "06a0b6",
          "06a0eb",
          "3c6672",
          "3c5ee5",
          "3c5eea",
          "3430cc",
          "3c656e",
          "3c64a6",
          "3c64a3",
          "3c64aa",
          "344548",
          "3c6444",
          "344197",
          "345645",
          "345043",
          "34510a",
          "34510a",
          "34620d",
          "06a2e7",
          "06a2b8",
          "06a041",
          "3420ca",
          "3420ca",
          "06a072",
          "06a1bb",
          "342059",
          "3c66a3",
          "06a0a6",
          "06a0bf",
          "06a374",
          "06a03e",
          "06a053",
          "06a062",
          "06a1df",
          "06a13c",
          "06a0a6",
          "06a0b5",
          "06a0ac",
          "06a0e9",
          "3c6672",
          "3430cc",
          "3c656e",
          "3c64a6",
          "3c64aa",
          "344548",
          "344197",
          "345043",
          "345204",
          "040128",
          "06a053",
          "3420ca",
          "3420ca",
          "06a07b",
          "06a098",
          "06a1df",
          "3c66a3",
          "3430cc",
          "3c656e",
          "344197",
          "345204",
          "040128",
          "06a053",
          "3420ca",
          "3420ca",
          "06a098",
          "3c66a3",
          "3c6672",
          "3c64a6",
          "3c64aa",
          "344548",
          "344197",
          "345043",
          "345204",
          "040128",
          "346185",
          "06a053",
          "3420ca",
          "3420ca",
          "06a07b",
          "06a098",
          "06a1df",
          "342059",
          "342059",
          "06a13c",
          "3c66a3",
          "06a03e",
          "06a053",
          "06a098",
          "06a0a6",
          "06a0b5",
          "06a0ac",
          "06a0e9",
          "3430cc",
          "3c656e",
          "3c64a6",
          "344548",
          "344197",
          "345043",
          "345204",
          "040128",
          "06a053",
          "3420ca",
          "3420ca",
          "06a098",
          "3c66a3",
          "3c6672",
          "3c64a6",
          "3c64aa",
          "344548",
          "345043",
          "345204",
          "040128",
          "346185",
          "34620d",
          "3420ca",
          "3420ca",
          "06a07b",
          "06a1c0",
          "06a1df",
          "342059",
          "342059",
          "06a13c",
          "3c66a3",
          "3430cc",
          "3c656e",
          "344197",
          "345645",
          "345204",
          "040128",
          "06a053",
          "3c66a3",
          "344197",
          "345645",
          "06a374",
          "06a2b8",
          "06a041",
          "06a068",
          "06a062",
          "06a072",
          "06a07b",
          "06a07c",
          "06a09a",
          "06a1c0",
          "06a1bb",
          "06a1df",
          "06a0a5",
          "06a0b5",
          "06a0b6",
          "06a0eb",
          "3c6672",
          "3c5ee5",
          "3c5eea",
          "3c64a6",
          "3c64a3",
          "3c64aa",
          "344548",
          "3c6444",
          "345645",
          "34510a",
          "34510a",
          "345204",
          "346185",
          "34620d",
          "06a2e7",
          "06a07c",
          "06a098",
          "3c66a3",
          "06a0a6",
          "06a0bf",
          "3c5ee5",
          "3c5eea",
          "3430cc",
          "344197",
          "345645",
          "34510a",
          "34510a",
          "040128",
          "06a373",
          "06a2e7",
          "06a087",
          "3c66a3",
          "06a105",
          "06a0b6",
          "3c6672",
          "3c64a6",
          "3c64aa",
          "344548",
          "345043",
          "345204",
          "040128",
          "346185",
          "34620d",
          "3420ca",
          "3420ca",
          "06a07b",
          "06a1c0",
          "06a1df",
          "342059",
          "342059",
          "06a13c",
          "3c66a3",
          "345645",
          "06a374",
          "06a2b8",
          "06a041",
          "06a03e",
          "06a062",
          "06a072",
          "06a07c",
          "06a09a",
          "06a1c0",
          "06a1bb",
          "06a1df",
          "06a13c",
          "06a0b5",
          "06a0ac",
          "3c6672",
          "3c64a6",
          "3c64aa",
          "344548",
          "345645",
          "345043",
          "34510a",
          "34510a",
          "345204",
          "040128",
          "346185",
          "34620d",
          "06a041",
          "3420ca",
          "3420ca",
          "06a07b",
          "06a07c",
          "06a1c0",
          "06a1df",
          "342059",
          "342059",
          "06a13c",
          "3c66a3",
          "345645",
          "06a374",
          "06a2b8",
          "06a041",
          "06a03e",
          "06a068",
          "06a062",
          "06a072",
          "06a07c",
          "06a09a",
          "06a1c0",
          "06a1bb",
          "06a1df",
          "06a13c",
          "06a0a6",
          "06a0b5",
          "06a0ac",
          "06a0eb",
          "345645",
          "06a374",
          "06a2b8",
          "06a041",
          "06a03e",
          "06a053",
          "06a062",
          "06a072",
          "06a07c",
          "06a09a",
          "06a1c0",
          "06a1bb",
          "06a1df",
          "06a13c",
          "06a0a6",
          "06a0b5",
          "06a0ac",
          "06a0e9",
          "3430cc",
          "3c656e",
          "344197",
          "345645",
          "345204",
          "040128",
          "06a053",
          "3c66a3",
          "3c5ee5",
          "3c5eea",
          "344197",
          "345645",
          "34510a",
          "34510a",
          "06a373",
          "06a2e7",
          "06a068",
          "06a087",
          "06a07b",
          "06a105",
          "06a0a8",
          "06a0a5",
          "06a0b6",
          "06a0bf",
          "06a0eb",
          "3c5ee5",
          "3c5eea",
          "3430cc",
          "344197",
          "345645",
          "34510a",
          "34510a",
          "040128",
          "06a373",
          "06a2e7",
          "06a087",
          "3c66a3",
          "06a105",
          "06a0a8",
          "06a0a5",
          "06a0b6",
          "06a0bf",
          "06a0eb",
          "3c6672",
          "3c64a6",
          "3c64aa",
          "344548",
          "345043",
          "345204",
          "040128",
          "346185",
          "3420ca",
          "3420ca",
          "06a07b",
          "06a1c0",
          "06a1df",
          "342059",
          "342059",
          "06a13c",
          "3c66a3",
          "3c5ee5",
          "3c5eea",
          "3430cc",
          "344197",
          "345645",
          "34510a",
          "34510a",
          "040128",
          "06a373",
          "06a2e7",
          "06a068",
          "06a087",
          "06a105",
          "06a0a8",
          "06a0a5",
          "06a0b6",
          "06a0bf",
          "06a0eb",
          "344197",
          "345645",
          "06a374",
          "06a2b8",
          "06a041",
          "06a03e",
          "06a068",
          "06a062",
          "06a072",
          "06a07c",
          "06a09a",
          "06a1c0",
          "06a1bb",
          "06a1df",
          "06a13c",
          "06a0a6",
          "06a0a5",
          "06a0b5",
          "06a0eb",
          "3c5eea",
          "3430cc",
          "3c656e",
          "344197",
          "345645",
          "345204",
          "040128",
          "06a373",
          "3c66a3",
          "3c6672",
          "3430cc",
          "3c656e",
          "3c64a6",
          "344548",
          "344197",
          "345043",
          "345204",
          "040128",
          "06a053",
          "3420ca",
          "3420ca",
          "06a098",
          "06a1df",
          "3c66a3",
          "3c6672",
          "3c5ee5",
          "3c5eea",
          "3c64a6",
          "3c64a3",
          "3c64aa",
          "344548",
          "3c6444",
          "345645",
          "34510a",
          "34510a",
          "345204",
          "346185",
          "34620d",
          "06a2e7",
          "06a07c",
          "06a098",
          "3c66a3",
          "06a0a6",
          "06a0bf",
          "3c6672",
          "3c64a6",
          "3c64aa",
          "344548",
          "345645",
          "345043",
          "34510a",
          "34510a",
          "345204",
          "040128",
          "346185",
          "34620d",
          "06a041",
          "3420ca",
          "3420ca",
          "06a07b",
          "06a07c",
          "06a1c0",
          "06a1df",
          "342059",
          "342059",
          "06a13c",
          "3c66a3",
          "3c5ee5",
          "344197",
          "345645",
          "06a374",
          "06a2e7",
          "06a041",
          "06a068",
          "06a07b",
          "06a09a",
          "06a1df",
          "06a105",
          "06a0a8",
          "06a0a5",
          "06a0eb",
          "3c5ee5",
          "3c5eea",
          "3430cc",
          "344197",
          "345645",
          "34510a",
          "34510a",
          "06a373",
          "06a2e7",
          "06a087",
          "3c66a3",
          "06a105",
          "06a0a8",
          "06a0a5",
          "06a0bf",
          "3c5ee5",
          "3c5eea",
          "3430cc",
          "3c656e",
          "344197",
          "345645",
          "040128",
          "06a373",
          "06a2e7",
          "06a087",
          "3c66a3",
          "06a105",
          "06a0b6",
          "3c5ee5",
          "3c5eea",
          "3430cc",
          "344197",
          "345645",
          "34510a",
          "34510a",
          "06a373",
          "06a2e7",
          "06a087",
          "3c66a3",
          "06a0a5",
          "06a0b6",
          "06a0bf",
          "345645",
          "06a374",
          "06a2b8",
          "06a041",
          "06a03e",
          "06a053",
          "06a062",
          "06a072",
          "06a07c",
          "06a09a",
          "06a1c0",
          "06a1bb",
          "06a1df",
          "06a0a6",
          "06a0b5",
          "06a0ac",
          "3c5ee5",
          "3c5eea",
          "3430cc",
          "3c656e",
          "344197",
          "345645",
          "040128",
          "06a373",
          "06a087",
          "3c66a3",
          "3430cc",
          "3c656e",
          "344197",
          "345043",
          "345204",
          "040128",
          "06a053",
          "3420ca",
          "3420ca",
          "06a098",
          "3c66a3"
         ],
         "lat": [
          45.6078,
          25.9018,
          45.3325,
          51.136,
          44.8947,
          25.6835,
          25.0965,
          40.4941,
          40.4941,
          57.1816,
          47.4717,
          25.3611,
          60.194,
          45.379,
          41.3023,
          46.6354,
          27.3615,
          25.2747,
          40.4041,
          40.4041,
          25.0323,
          55.892,
          24.4958,
          26.3169,
          25.0939,
          25.0868,
          24.519,
          26.5155,
          26.3093,
          24.9886,
          25.2343,
          25.256,
          58.4229,
          56.0045,
          33.4199,
          42.8973,
          51.1784,
          42.9624,
          9.9974,
          9.9974,
          48.7312,
          40.6379,
          41.4821,
          25.2728,
          44.707,
          44.707,
          26.0805,
          25.2735,
          25.0331,
          25.2694,
          26.3101,
          41.329,
          41.329,
          24.9435,
          51.6003,
          52.3686,
          44.0684,
          26.5545,
          45.1672,
          50.1999,
          43.7551,
          23.9127,
          25.2688,
          58.2156,
          41.2427,
          42.9826,
          25.2563,
          24.8112,
          26.5971,
          25.2578,
          25.1444,
          26.93,
          25.299,
          26.2157,
          25.256,
          25.3173,
          25.2735,
          28.4551,
          25.2649,
          25.0749,
          24.5468,
          24.1922,
          50.8921,
          49.3017,
          41.2932,
          43.2846,
          46.2237,
          9.9968,
          9.9968,
          18.9844,
          24.574,
          26.1882,
          27.2896,
          60.3218,
          28.7561,
          24.4234,
          25.3777,
          25.3026,
          25.8428,
          25.267,
          52.1973,
          48.6898,
          42.1617,
          44.7994,
          23.952,
          25.2728,
          26.7586,
          25.5029,
          25.2694,
          25.2608,
          25.2721,
          28.559,
          24.9224,
          24.8749,
          25.2193,
          27.2412,
          24.9938,
          52.3487,
          48.6898,
          41.7894,
          44.3426,
          25.2728,
          26.751,
          25.3584,
          25.9745,
          25.2725,
          25.2641,
          25.5265,
          25.2662,
          28.5248,
          25.0378,
          24.8156,
          27.7546,
          24.8303,
          52.3679,
          41.1377,
          43.3964,
          25.2729,
          25.2603,
          24.9657,
          26.4005,
          25.2692,
          25.2926,
          26.435,
          25.7231,
          25.2591,
          25.256,
          25.2778,
          28.4551,
          25.2745,
          25.0533,
          24.8259,
          24.479,
          48.3624,
          43.2693,
          40.5528,
          40.6011,
          50.0472,
          50.0503,
          46.3439,
          48.3437,
          41.3138,
          47.7853,
          51.7719,
          40.6422,
          45.6248,
          40.1622,
          40.1622,
          48.7315,
          41.0661,
          -33.4049,
          24.443,
          48.7281,
          48.7281,
          33.5997,
          48.6324,
          40.4891,
          52.3176,
          25.258,
          40.6125,
          24.2084,
          26.3296,
          24.8763,
          24.7429,
          24.372,
          26.8699,
          26.3251,
          24.8168,
          25.0517,
          25.1771,
          60.2907,
          48.997,
          25.2488,
          58.9203,
          32.0021,
          41.1066,
          44.8395,
          41.3664,
          48.5223,
          28.5662,
          25.0667,
          41.8076,
          41.8076,
          25.2583,
          25.5877,
          25.2763,
          54.0484,
          46.2227,
          25.7049,
          45.3549,
          45.473,
          26.1369,
          24.9791,
          40.4937,
          40.4937,
          25.2787,
          56.7669,
          60.2115,
          58.3042,
          32.002,
          41.3346,
          44.8211,
          41.7241,
          48.7523,
          28.5653,
          41.2936,
          24.8811,
          42.4182,
          42.4182,
          25.2735,
          25.6544,
          25.163,
          41.2902,
          41.2902,
          25.2613,
          53.5667,
          26.6652,
          24.2627,
          25.2641,
          26.9598,
          24.1542,
          25.0034,
          23.4246,
          48.667,
          25.2348,
          59.8762,
          41.3039,
          45.1069,
          40.9324,
          47.7361,
          28.2431,
          25.3564,
          40.7318,
          40.7318,
          25.235,
          55.0209,
          59.2495,
          56.9004,
          32.4537,
          42.2751,
          42.4235,
          48.7386,
          28.5618,
          41.1102,
          41.298,
          43.8069,
          43.8069,
          25.2956,
          25.2733,
          25.5734,
          41.1801,
          41.1801,
          25.25,
          52.3895,
          44.9812,
          26.1834,
          45.3027,
          50.8565,
          44.3186,
          24.9706,
          25.2731,
          57.6054,
          41.3024,
          42.5981,
          25.2745,
          25.3717,
          24.6388,
          26.7537,
          25.3155,
          25.0015,
          27.4327,
          25.2904,
          26.7237,
          25.5079,
          25.6537,
          25.2725,
          24.9348,
          25.2606,
          24.5468,
          23.9025,
          50.0359,
          46.0703,
          37.0182,
          50.0503,
          50.032,
          46.5007,
          40.4886,
          50.014,
          41.2917,
          39.9299,
          39.9299,
          40.4872,
          52.3173,
          48.7315,
          40.8609,
          14.9925,
          25.1675,
          50.2905,
          25.2731,
          41.2918,
          48.8849,
          51.2299,
          41.6612,
          44.432,
          48.0734,
          9.9962,
          9.9962,
          21.1578,
          25.3479,
          25.2731,
          25.4204,
          59.7825,
          28.5604,
          25.2737,
          59.455,
          57.1427,
          32.2791,
          42.0629,
          42.2624,
          48.7554,
          28.5631,
          41.0584,
          41.2902,
          43.6441,
          43.6441,
          25.1231,
          25.2736,
          25.3839,
          41.2688,
          41.2688,
          25.2726,
          52.5997,
          41.8788,
          25.3794,
          23.7901,
          23.9133,
          25.3672,
          25.2722,
          25.0351,
          24.7813,
          28.1483,
          26.3656,
          27.0669,
          25.2132,
          25.265,
          25.2721,
          25.2655,
          58.7308,
          56.3256,
          32.9362,
          42.676,
          51.162,
          42.7748,
          9.9982,
          9.9982,
          48.7244,
          28.5611,
          40.8709,
          41.3706,
          25.2651,
          44.6692,
          44.6692,
          25.7802,
          25.2651,
          25.1526,
          26.076,
          41.1368,
          41.1368,
          25.0561,
          51.883,
          42.1028,
          25.2997,
          24.4175,
          24.1771,
          25.2646,
          26.7489,
          25.2691,
          24.8762,
          24.9392,
          27.8575,
          26.2088,
          26.5793,
          25.3672,
          25.2724,
          25.2649,
          25.2617,
          25.2593,
          23.4592,
          41.8017,
          24.8537,
          22.4559,
          23.4553,
          25.7599,
          25.265,
          25.2403,
          25.0591,
          25.071,
          28.8993,
          26.7509,
          27.6144,
          24.8481,
          25.5713,
          25.6293,
          25.3467,
          25.2642,
          25.2736,
          44.3634,
          26.4475,
          45.2396,
          50.4303,
          43.8887,
          24.2267,
          25.2688,
          58.02,
          51.8446,
          48.7138,
          42.5473,
          45.2818,
          9.9968,
          9.9968,
          24.041,
          26.577,
          25.2568,
          28.1059,
          25.2585,
          28.6331,
          24.7609,
          25.04,
          25.2778,
          26.7279,
          25.2986,
          50.3825,
          49.747,
          41.3044,
          43.6323,
          46.6732,
          9.9968,
          9.9968,
          19.5261,
          24.756,
          25.898,
          26.8572,
          60.3305,
          28.7819,
          24.114,
          25.2663,
          25.384,
          25.4286,
          25.2687,
          59.8887,
          57.7195,
          32.0719,
          41.6293,
          41.9191,
          48.8209,
          28.5649,
          41.2895,
          42.9759,
          42.9759,
          25.147,
          25.2628,
          25.0015,
          41.2962,
          41.2962,
          25.2623,
          53.09,
          51.4122,
          48.9128,
          41.2913,
          42.9113,
          45.746,
          9.9968,
          9.9968,
          18.9616,
          24.3585,
          26.3647,
          25.2655,
          27.6746,
          28.6994,
          24.5912,
          25.2066,
          25.2683,
          26.2297,
          25.3383,
          41.3024,
          42.3072,
          25.2611,
          25.035,
          24.4804,
          25.2675,
          26.757,
          25.3466,
          24.8286,
          25.1111,
          27.3155,
          25.9559,
          26.1179,
          25.2613,
          25.2653,
          25.2732,
          24.9108,
          25.2614,
          23.82,
          52.3692,
          43.6458,
          26.7052,
          45.0629,
          49.8501,
          43.8838,
          23.4677,
          25.2649,
          58.491,
          60.2892,
          48.9986,
          25.2371,
          59.4385,
          41.223,
          44.9534,
          41.1161,
          48.2634,
          28.5488,
          25.4364,
          41.2135,
          41.2135,
          25.4044,
          25.2778,
          54.5487,
          50.0386,
          46.1546,
          37.0183,
          50.0503,
          50.0337,
          46.4154,
          40.4886,
          50.032,
          41.2928,
          39.9648,
          39.9648,
          40.4626,
          52.3193,
          48.7315,
          40.7917,
          15.0844,
          25.1963,
          50.1961,
          25.269,
          41.2918,
          58.9704,
          56.5855,
          32.8484,
          42.4914,
          51.162,
          42.6204,
          9.9982,
          9.9982,
          48.7201,
          28.5614,
          41.0473,
          41.3255,
          25.2651,
          44.3783,
          44.3783,
          25.5419,
          25.2651,
          25.2265,
          25.8427,
          41.1243,
          41.1243,
          25.1569,
          52.1132,
          52.3688,
          41.4289,
          43.8773,
          25.2728,
          26.7438,
          25.1801,
          26.2233,
          25.9818,
          25.334,
          25.2779,
          28.5226,
          25.1674,
          24.996,
          24.6557,
          49.8717,
          50.2282,
          41.1765,
          43.9706,
          47.1115,
          9.9968,
          9.9968,
          24.9368,
          25.451,
          26.4071,
          60.2182,
          28.6032,
          23.8048,
          25.2686,
          25.2581,
          48.6914,
          51.6975,
          42.0807,
          27.6102,
          44.5982,
          48.5207,
          21.6706,
          25.2642,
          25.2729,
          25.256,
          59.5084,
          28.5627,
          25.2759,
          49.3626,
          50.7071,
          41.2094,
          44.2414,
          47.5686,
          9.9968,
          9.9968,
          25.1815,
          25.2559,
          25.9671,
          60.0362,
          25.2681,
          25.2571,
          25.2598,
          41.8513,
          25.0865,
          23.0691,
          23.7914,
          25.539,
          25.2697,
          25.2583,
          25.1775,
          24.924,
          28.8993,
          26.5737,
          27.4192,
          25.0365,
          25.4382,
          25.2647,
          25.2735,
          48.6898,
          52.3354,
          42.8728,
          27.1469,
          44.8621,
          49.2649,
          22.6571,
          25.2674,
          25.278,
          58.9858,
          46.8349,
          25.5198,
          45.3704,
          41.292,
          46.0434,
          26.7382,
          25.1119,
          40.4911,
          40.4911,
          25.2332,
          56.3467
         ],
         "legendgroup": "",
         "lon": [
          2.7579,
          53.0399,
          14.868,
          -0.2886,
          9.7221,
          75.4838,
          51.6907,
          -3.5686,
          -3.5686,
          17.5736,
          2.7106,
          54.8654,
          11.1136,
          17.5705,
          2.0845,
          8.1155,
          76.4087,
          50.3774,
          -3.4656,
          -3.4656,
          51.6541,
          15.354,
          54.5838,
          53.5468,
          52.329,
          56.528,
          54.2368,
          52.1836,
          53.2264,
          52.5509,
          52.1455,
          51.6051,
          5.8467,
          10.2804,
          33.2085,
          4.807,
          0.0177,
          -1.7655,
          -84.1999,
          -84.1999,
          2.358,
          1.457,
          2.1969,
          51.6191,
          -3.8845,
          -3.8845,
          51.3908,
          51.6128,
          51.7245,
          51.6156,
          51.1846,
          1.5397,
          1.5397,
          51.6655,
          9.8138,
          13.5069,
          2.7951,
          51.4078,
          12.6613,
          0.1154,
          10.8669,
          74.698,
          51.6151,
          19.5256,
          2.0646,
          10.1969,
          51.6075,
          53.2481,
          49.3831,
          51.6064,
          52.3847,
          50.4187,
          51.6068,
          52.039,
          51.6052,
          51.567,
          51.5995,
          71.7654,
          51.6195,
          56.5744,
          45.9824,
          55.3219,
          11.6367,
          10.0851,
          2.0818,
          5.919,
          5.6229,
          -84.2012,
          -84.2012,
          71.5491,
          54.2313,
          50.8262,
          50.0937,
          24.9681,
          76.0188,
          54.3665,
          51.7098,
          50.7892,
          51.3552,
          51.6186,
          13.0699,
          9.1977,
          3.7651,
          7.667,
          55.8765,
          51.6137,
          48.725,
          51.418,
          51.6157,
          51.603,
          51.6089,
          73.8496,
          52.3348,
          53.5307,
          48.8185,
          49.9502,
          52.531,
          13.4049,
          9.1977,
          3.1328,
          8.2933,
          51.6137,
          48.1671,
          51.6354,
          51.2936,
          51.6145,
          51.6199,
          51.4461,
          51.619,
          73.1468,
          51.8806,
          54.242,
          49.4961,
          53.1695,
          13.5081,
          2.1768,
          9.5471,
          51.614,
          51.6063,
          52.628,
          50.0501,
          51.6014,
          51.8968,
          50.8849,
          51.7959,
          51.6069,
          51.6069,
          51.5977,
          71.7654,
          51.6166,
          55.7978,
          46.6208,
          54.635,
          11.7628,
          0.43,
          -6.3312,
          4.1862,
          8.5725,
          8.5754,
          6.6016,
          11.7894,
          0.981,
          13.0069,
          -0.7046,
          6.7938,
          8.7188,
          -3.5845,
          -3.5845,
          2.3609,
          3.5224,
          19.1879,
          54.2797,
          2.3558,
          2.3558,
          135.9842,
          5.9586,
          -3.589,
          4.7745,
          52.6379,
          6.831,
          55.2934,
          54.2673,
          52.9836,
          46.4299,
          54.5897,
          52.2424,
          53.9756,
          53.2255,
          52.7805,
          51.4539,
          5.2228,
          2.5582,
          55.365,
          11.0145,
          34.8786,
          2.1818,
          20.2628,
          1.4742,
          5.1909,
          77.0835,
          47.1223,
          -4.1382,
          -4.1382,
          51.6096,
          49.5502,
          51.5982,
          12.653,
          2.743,
          53.6761,
          15.7568,
          9.2102,
          75.7308,
          51.424,
          -3.5701,
          -3.5701,
          51.5984,
          16.8353,
          5.245,
          10.9555,
          34.887,
          2.6727,
          20.2958,
          1.0183,
          4.2195,
          77.0817,
          2.0839,
          46.7215,
          -4.0733,
          -4.0733,
          51.5995,
          48.8706,
          51.6461,
          2.0689,
          2.0689,
          51.6114,
          12.0621,
          56.0453,
          55.2019,
          51.6199,
          56.1168,
          55.4059,
          55.0331,
          51.4549,
          2.6374,
          55.3944,
          11.0162,
          2.089,
          19.1616,
          1.9235,
          6.9337,
          77.1908,
          49.0336,
          -3.9329,
          -3.9329,
          50.765,
          13.9704,
          5.576,
          10.5542,
          34.2248,
          3.8517,
          -0.6675,
          2.4684,
          77.0833,
          1.8846,
          2.0828,
          -3.9935,
          -3.9935,
          51.5089,
          51.6188,
          51.4714,
          2.0356,
          2.0356,
          51.6078,
          10.6865,
          2.7734,
          52.3849,
          13.9644,
          -0.5212,
          10.2202,
          75.1045,
          51.6189,
          18.3535,
          2.0845,
          10.9207,
          51.6164,
          51.4568,
          53.9389,
          48.7508,
          51.5691,
          52.9988,
          49.9721,
          51.953,
          52.2344,
          51.4164,
          51.3826,
          51.6101,
          57.3042,
          51.6091,
          45.9824,
          55.9796,
          8.5336,
          5.3928,
          -7.9681,
          8.5753,
          8.5608,
          15.3273,
          -3.5648,
          98.5261,
          2.085,
          -7.131,
          -7.131,
          -3.5503,
          4.7702,
          2.3609,
          -3.213,
          121.3964,
          52.1895,
          8.6212,
          57.5783,
          2.0966,
          9.6224,
          12.0775,
          2.1877,
          8.916,
          2.9312,
          -84.1995,
          -84.1995,
          73.3731,
          51.5903,
          51.5996,
          51.5158,
          23.3258,
          77.0939,
          51.5994,
          5.5066,
          10.6304,
          34.4084,
          3.6725,
          -0.347,
          2.6884,
          77.0823,
          1.9756,
          2.0827,
          -3.9984,
          -3.9984,
          51.5647,
          51.6103,
          51.4973,
          2.0762,
          2.0762,
          51.5999,
          10.9253,
          12.2477,
          51.8851,
          51.4534,
          55.9572,
          51.5773,
          49.9132,
          55.2027,
          53.7854,
          52.3231,
          50.1469,
          50.289,
          52.1602,
          51.6206,
          51.609,
          51.6041,
          5.7474,
          10.3771,
          33.7131,
          4.4634,
          -0.1029,
          -1.3787,
          -84.2005,
          -84.2005,
          2.3563,
          77.0826,
          1.5851,
          2.2934,
          51.6194,
          -3.8949,
          -3.8949,
          51.4424,
          51.6182,
          51.6721,
          51.3965,
          1.6264,
          1.6264,
          51.6929,
          10.1221,
          12.0628,
          51.6072,
          51.4182,
          55.3525,
          51.6197,
          47.756,
          50.5756,
          54.4554,
          53.1514,
          52.3044,
          50.7763,
          50.7493,
          51.6499,
          51.6098,
          51.6196,
          51.6088,
          51.6081,
          56.8972,
          12.2546,
          53.0753,
          51.9437,
          56.9056,
          52.4681,
          51.6195,
          49.0221,
          56.6603,
          55.3948,
          52.433,
          48.7623,
          49.8109,
          53.3071,
          51.6929,
          52.2279,
          51.5957,
          51.6198,
          51.5996,
          2.7881,
          51.7294,
          13.0749,
          -0.0992,
          10.7016,
          74.8166,
          51.6151,
          19.1435,
          12.6702,
          9.3484,
          4.4875,
          6.9892,
          -84.2012,
          -84.2012,
          55.6896,
          49.4635,
          51.6057,
          49.3723,
          51.6097,
          74.5996,
          52.9592,
          52.8333,
          49.4743,
          50.4589,
          51.9987,
          11.106,
          10.5282,
          2.0898,
          6.619,
          4.9468,
          -84.2012,
          -84.2012,
          71.9976,
          53.471,
          51.3365,
          50.4879,
          24.9434,
          76.6333,
          54.9863,
          51.6189,
          51.3332,
          51.4988,
          51.6037,
          5.3573,
          10.816,
          34.7555,
          3.2104,
          0.4143,
          3.3643,
          77.0809,
          2.0856,
          -4.0186,
          -4.0186,
          51.6532,
          51.6119,
          51.6191,
          2.0813,
          2.0813,
          51.6105,
          11.4937,
          12.1932,
          9.7061,
          2.079,
          5.1857,
          6.3235,
          -84.2012,
          -84.2012,
          71.5303,
          55.0086,
          50.1497,
          51.6095,
          49.7584,
          75.3097,
          53.6455,
          52.2183,
          50.1307,
          50.9074,
          51.5976,
          2.0845,
          11.6045,
          51.6223,
          51.3139,
          54.6312,
          51.6184,
          48.3856,
          51.1523,
          53.6967,
          52.4982,
          52.2698,
          51.3099,
          51.1781,
          51.6222,
          51.6042,
          51.6119,
          57.4277,
          51.6087,
          56.1516,
          13.5094,
          2.805,
          50.9508,
          12.0827,
          0.4756,
          10.7077,
          74.5347,
          51.6083,
          20.0754,
          5.2257,
          2.8669,
          55.3892,
          11.0649,
          2.0553,
          19.8067,
          1.8814,
          6.23,
          77.1643,
          47.9785,
          -4.1986,
          -4.1986,
          50.1724,
          51.5984,
          13.2855,
          8.5437,
          5.5616,
          -7.9684,
          8.5753,
          98.5717,
          15.4673,
          -3.5757,
          8.526,
          2.0843,
          -7.3343,
          -7.3343,
          -3.525,
          4.8245,
          2.3609,
          -3.3164,
          121.3978,
          52.2913,
          8.6275,
          57.7441,
          2.0966,
          5.6689,
          10.4563,
          33.8067,
          4.1803,
          -0.1029,
          -1.0639,
          -84.2005,
          -84.2005,
          2.3581,
          77.0836,
          1.6828,
          2.1614,
          51.6194,
          -3.9734,
          -3.9734,
          51.4752,
          51.6182,
          51.6396,
          51.4343,
          1.845,
          1.845,
          51.6488,
          10.3767,
          13.5077,
          2.6003,
          8.917,
          51.6137,
          47.9209,
          52.0758,
          50.7408,
          51.3,
          51.6029,
          51.5987,
          73.1004,
          51.6655,
          54.994,
          53.8705,
          10.5871,
          11.0181,
          2.0342,
          7.3166,
          4.2699,
          -84.2012,
          -84.2012,
          52.7349,
          51.495,
          50.9115,
          24.696,
          77.0272,
          55.5923,
          51.6178,
          51.6074,
          9.2301,
          12.5919,
          2.4078,
          49.8154,
          9.7024,
          2.3097,
          73.7934,
          51.6199,
          51.6002,
          51.6052,
          22.4959,
          77.0843,
          51.5984,
          10.0834,
          11.5176,
          2.1452,
          8.0492,
          3.6231,
          -84.2012,
          -84.2012,
          52.1341,
          51.6064,
          51.3108,
          24.1214,
          51.6168,
          51.6065,
          51.6066,
          12.2593,
          52.3781,
          51.5586,
          56.2113,
          51.9416,
          51.6174,
          49.2248,
          55.9518,
          54.6273,
          52.433,
          49.4766,
          49.9841,
          52.7285,
          51.7073,
          51.6196,
          51.6127,
          9.1977,
          13.3363,
          2.8225,
          50.219,
          11.0183,
          1.3,
          74.2401,
          51.6043,
          51.5975,
          21.0974,
          2.7271,
          54.3192,
          16.6466,
          2.0845,
          8.6925,
          76.0617,
          50.9966,
          -3.5614,
          -3.5614,
          51.6152,
          16.1121
         ],
         "marker": {
          "color": [
           10462.26,
           8907.78,
           11917.68,
           1043.94,
           10218.42,
           12252.96,
           800.1,
           null,
           null,
           11323.32,
           10431.78,
           3215.64,
           null,
           11864.34,
           null,
           11681.46,
           9166.86,
           6766.56,
           1165.86,
           1165.86,
           861.06,
           11391.9,
           11323.32,
           7734.3,
           5303.52,
           10683.24,
           3604.26,
           6134.1,
           7383.78,
           6697.98,
           4831.08,
           null,
           10035.54,
           10866.12,
           10546.08,
           11750.04,
           906.78,
           9349.74,
           null,
           null,
           null,
           5707.38,
           1524,
           null,
           11041.38,
           11041.38,
           6598.92,
           null,
           960.12,
           null,
           6804.66,
           3368.04,
           3368.04,
           1158.24,
           9852.66,
           null,
           10492.74,
           12268.2,
           11955.78,
           8336.28,
           1600.2,
           12260.58,
           null,
           11277.6,
           350.52,
           12199.62,
           null,
           8686.8,
           9685.02,
           null,
           4290.06,
           10340.34,
           411.48,
           6141.72,
           null,
           624.84,
           null,
           12824.46,
           null,
           11993.88,
           12915.9,
           12176.76,
           11292.84,
           4678.68,
           null,
           12031.98,
           12313.92,
           null,
           null,
           12275.82,
           11323.32,
           7239,
           10340.34,
           null,
           6880.86,
           12908.28,
           1836.42,
           5539.74,
           4564.38,
           null,
           1318.26,
           null,
           9182.1,
           12329.16,
           11330.94,
           null,
           11628.12,
           2377.44,
           null,
           -15.24,
           null,
           12047.22,
           4556.76,
           8176.26,
           10873.74,
           10988.04,
           6096,
           411.48,
           null,
           6644.64,
           12313.92,
           null,
           11628.12,
           914.4,
           4716.78,
           null,
           null,
           2232.66,
           null,
           12824.46,
           1927.86,
           9578.34,
           12854.94,
           8031.48,
           null,
           784.86,
           12321.54,
           null,
           null,
           6705.6,
           9372.6,
           null,
           2125.98,
           7962.9,
           4632.96,
           null,
           null,
           null,
           12824.46,
           null,
           11978.64,
           12923.52,
           10850.88,
           533.4,
           11087.1,
           11971.02,
           12047.22,
           null,
           null,
           11056.62,
           null,
           6720.84,
           null,
           2004.06,
           12054.84,
           null,
           2057.4,
           2057.4,
           null,
           12656.82,
           5692.14,
           12291.06,
           null,
           null,
           11696.7,
           11033.76,
           null,
           null,
           4000.5,
           12633.96,
           11323.32,
           9311.64,
           7818.12,
           9738.36,
           1577.34,
           6682.74,
           9509.76,
           8740.14,
           7879.08,
           3284.22,
           null,
           null,
           null,
           7711.44,
           null,
           2430.78,
           1074.42,
           4747.26,
           9959.34,
           null,
           11971.02,
           10187.94,
           10187.94,
           null,
           7482.84,
           null,
           11490.96,
           10462.26,
           7520.94,
           11894.82,
           11696.7,
           12054.84,
           1844.04,
           null,
           null,
           null,
           11346.18,
           541.02,
           10797.54,
           null,
           4572,
           null,
           6507.48,
           7399.02,
           null,
           null,
           11978.64,
           11117.58,
           11117.58,
           null,
           9083.04,
           579.12,
           null,
           null,
           null,
           11513.82,
           12298.68,
           10027.92,
           null,
           13167.36,
           13220.7,
           11963.4,
           11056.62,
           6080.76,
           null,
           1897.38,
           null,
           9319.26,
           1943.1,
           11673.84,
           3604.26,
           8214.36,
           5570.22,
           5570.22,
           4305.3,
           11430,
           5364.48,
           10843.26,
           3695.7,
           8831.58,
           9601.2,
           1211.58,
           null,
           2339.34,
           null,
           11079.48,
           11079.48,
           2956.56,
           null,
           3413.76,
           685.8,
           685.8,
           45.72,
           11567.16,
           10485.12,
           10523.22,
           11932.92,
           4815.84,
           7589.52,
           12260.58,
           null,
           11300.46,
           null,
           7818.12,
           null,
           1295.4,
           10386.06,
           9685.02,
           624.84,
           6431.28,
           10340.34,
           2788.92,
           6652.26,
           1958.34,
           2910.84,
           null,
           12039.6,
           null,
           12923.52,
           12603.48,
           null,
           11049,
           null,
           null,
           null,
           11239.5,
           null,
           236.22,
           null,
           11399.52,
           11399.52,
           null,
           null,
           null,
           4381.5,
           3985.26,
           2827.02,
           3299.46,
           12915.9,
           null,
           4884.42,
           10850.88,
           4114.8,
           12001.5,
           12260.58,
           null,
           null,
           12268.2,
           655.32,
           null,
           1828.8,
           4732.02,
           null,
           null,
           4114.8,
           10843.26,
           2324.1,
           8641.08,
           9608.82,
           2430.78,
           null,
           1546.86,
           null,
           11079.48,
           11079.48,
           1912.62,
           null,
           2720.34,
           190.5,
           190.5,
           null,
           11559.54,
           274.32,
           3230.88,
           9395.46,
           12595.86,
           815.34,
           7444.74,
           10668,
           9075.42,
           8092.44,
           8458.2,
           10340.34,
           5859.78,
           null,
           null,
           null,
           8305.8,
           10866.12,
           7711.44,
           11125.2,
           449.58,
           9585.96,
           null,
           null,
           null,
           null,
           4213.86,
           800.1,
           null,
           11049,
           11049,
           4983.48,
           null,
           647.7,
           5852.16,
           2255.52,
           2255.52,
           982.98,
           10744.2,
           1844.04,
           449.58,
           7840.98,
           12588.24,
           null,
           9685.02,
           5394.96,
           10629.9,
           7421.88,
           8084.82,
           6842.76,
           8511.54,
           1737.36,
           null,
           null,
           null,
           null,
           12611.1,
           null,
           9227.82,
           10690.86,
           12595.86,
           5234.94,
           null,
           9075.42,
           10675.62,
           10675.62,
           5943.6,
           9707.88,
           10340.34,
           8046.72,
           2400.3,
           4556.76,
           678.18,
           null,
           null,
           10492.74,
           11971.02,
           11948.16,
           6705.6,
           3063.24,
           12260.58,
           null,
           11292.84,
           3710.94,
           853.44,
           11414.76,
           12313.92,
           null,
           null,
           11330.94,
           11109.96,
           null,
           10340.34,
           null,
           10629.9,
           7459.98,
           6560.82,
           8938.26,
           8732.52,
           3528.06,
           12176.76,
           7574.28,
           null,
           12024.36,
           12283.44,
           null,
           null,
           12275.82,
           10622.28,
           4701.54,
           9852.66,
           null,
           3840.48,
           12915.9,
           null,
           2865.12,
           1783.08,
           null,
           1874.52,
           10820.4,
           746.76,
           7277.1,
           8115.3,
           3733.8,
           null,
           83.82,
           11102.34,
           11102.34,
           685.8,
           null,
           1082.04,
           null,
           null,
           null,
           11536.68,
           6926.58,
           2110.74,
           null,
           12039.6,
           12306.3,
           null,
           null,
           12275.82,
           11323.32,
           9364.98,
           null,
           10340.34,
           9029.7,
           11216.64,
           4297.68,
           7757.16,
           6918.96,
           586.74,
           null,
           3589.02,
           null,
           4610.1,
           11833.86,
           null,
           9685.02,
           2735.58,
           8511.54,
           5006.34,
           8084.82,
           4472.94,
           5806.44,
           null,
           null,
           null,
           12313.92,
           null,
           12603.48,
           null,
           10507.98,
           12268.2,
           11963.4,
           10043.16,
           2987.04,
           12268.2,
           null,
           11269.98,
           null,
           2156.46,
           null,
           4884.42,
           480.06,
           6019.8,
           2804.16,
           11430,
           678.18,
           11734.8,
           7536.18,
           7536.18,
           6812.28,
           null,
           11475.72,
           null,
           11049,
           null,
           null,
           null,
           11262.36,
           null,
           null,
           null,
           11391.9,
           11391.9,
           708.66,
           160.02,
           null,
           3634.74,
           4213.86,
           3253.74,
           2186.94,
           12900.66,
           null,
           6865.62,
           10858.5,
           6995.16,
           10081.26,
           449.58,
           9593.58,
           null,
           null,
           null,
           null,
           3078.48,
           350.52,
           null,
           11064.24,
           11064.24,
           3733.8,
           null,
           175.26,
           4914.9,
           1325.88,
           1325.88,
           617.22,
           11323.32,
           null,
           4366.26,
           12329.16,
           null,
           11628.12,
           3886.2,
           7330.44,
           5036.82,
           701.04,
           null,
           12824.46,
           548.64,
           11231.88,
           9547.86,
           10858.5,
           9791.7,
           777.24,
           12016.74,
           12298.68,
           null,
           null,
           7924.8,
           1882.14,
           8039.1,
           723.9,
           876.3,
           12908.28,
           null,
           null,
           533.4,
           8648.7,
           5394.96,
           12260.58,
           11986.26,
           12237.72,
           12268.2,
           null,
           null,
           null,
           8549.64,
           null,
           null,
           9060.18,
           10934.7,
           2209.8,
           12016.74,
           12275.82,
           null,
           null,
           4381.5,
           null,
           5768.34,
           2080.26,
           null,
           null,
           null,
           106.68,
           6316.98,
           10690.86,
           12595.86,
           3314.7,
           null,
           9060.18,
           10675.62,
           10683.24,
           5943.6,
           9509.76,
           10340.34,
           8100.06,
           2118.36,
           null,
           null,
           null,
           1706.88,
           9151.62,
           12268.2,
           11971.02,
           11628.12,
           12268.2,
           null,
           null,
           11254.74,
           10454.64,
           5501.64,
           11871.96,
           null,
           11689.08,
           10683.24,
           3710.94,
           null,
           null,
           137.16,
           11369.04
          ],
          "coloraxis": "coloraxis",
          "symbol": "circle"
         },
         "mode": "markers",
         "name": "",
         "showlegend": false,
         "type": "scattergeo"
        }
       ],
       "layout": {
        "coloraxis": {
         "colorbar": {
          "title": {
           "text": "geo_altitude"
          }
         },
         "colorscale": [
          [
           0,
           "#0d0887"
          ],
          [
           0.1111111111111111,
           "#46039f"
          ],
          [
           0.2222222222222222,
           "#7201a8"
          ],
          [
           0.3333333333333333,
           "#9c179e"
          ],
          [
           0.4444444444444444,
           "#bd3786"
          ],
          [
           0.5555555555555556,
           "#d8576b"
          ],
          [
           0.6666666666666666,
           "#ed7953"
          ],
          [
           0.7777777777777778,
           "#fb9f3a"
          ],
          [
           0.8888888888888888,
           "#fdca26"
          ],
          [
           1,
           "#f0f921"
          ]
         ]
        },
        "geo": {
         "center": {},
         "domain": {
          "x": [
           0,
           1
          ],
          "y": [
           0,
           1
          ]
         }
        },
        "legend": {
         "tracegroupgap": 0
        },
        "margin": {
         "t": 60
        },
        "template": {
         "data": {
          "bar": [
           {
            "error_x": {
             "color": "#2a3f5f"
            },
            "error_y": {
             "color": "#2a3f5f"
            },
            "marker": {
             "line": {
              "color": "#E5ECF6",
              "width": 0.5
             },
             "pattern": {
              "fillmode": "overlay",
              "size": 10,
              "solidity": 0.2
             }
            },
            "type": "bar"
           }
          ],
          "barpolar": [
           {
            "marker": {
             "line": {
              "color": "#E5ECF6",
              "width": 0.5
             },
             "pattern": {
              "fillmode": "overlay",
              "size": 10,
              "solidity": 0.2
             }
            },
            "type": "barpolar"
           }
          ],
          "carpet": [
           {
            "aaxis": {
             "endlinecolor": "#2a3f5f",
             "gridcolor": "white",
             "linecolor": "white",
             "minorgridcolor": "white",
             "startlinecolor": "#2a3f5f"
            },
            "baxis": {
             "endlinecolor": "#2a3f5f",
             "gridcolor": "white",
             "linecolor": "white",
             "minorgridcolor": "white",
             "startlinecolor": "#2a3f5f"
            },
            "type": "carpet"
           }
          ],
          "choropleth": [
           {
            "colorbar": {
             "outlinewidth": 0,
             "ticks": ""
            },
            "type": "choropleth"
           }
          ],
          "contour": [
           {
            "colorbar": {
             "outlinewidth": 0,
             "ticks": ""
            },
            "colorscale": [
             [
              0,
              "#0d0887"
             ],
             [
              0.1111111111111111,
              "#46039f"
             ],
             [
              0.2222222222222222,
              "#7201a8"
             ],
             [
              0.3333333333333333,
              "#9c179e"
             ],
             [
              0.4444444444444444,
              "#bd3786"
             ],
             [
              0.5555555555555556,
              "#d8576b"
             ],
             [
              0.6666666666666666,
              "#ed7953"
             ],
             [
              0.7777777777777778,
              "#fb9f3a"
             ],
             [
              0.8888888888888888,
              "#fdca26"
             ],
             [
              1,
              "#f0f921"
             ]
            ],
            "type": "contour"
           }
          ],
          "contourcarpet": [
           {
            "colorbar": {
             "outlinewidth": 0,
             "ticks": ""
            },
            "type": "contourcarpet"
           }
          ],
          "heatmap": [
           {
            "colorbar": {
             "outlinewidth": 0,
             "ticks": ""
            },
            "colorscale": [
             [
              0,
              "#0d0887"
             ],
             [
              0.1111111111111111,
              "#46039f"
             ],
             [
              0.2222222222222222,
              "#7201a8"
             ],
             [
              0.3333333333333333,
              "#9c179e"
             ],
             [
              0.4444444444444444,
              "#bd3786"
             ],
             [
              0.5555555555555556,
              "#d8576b"
             ],
             [
              0.6666666666666666,
              "#ed7953"
             ],
             [
              0.7777777777777778,
              "#fb9f3a"
             ],
             [
              0.8888888888888888,
              "#fdca26"
             ],
             [
              1,
              "#f0f921"
             ]
            ],
            "type": "heatmap"
           }
          ],
          "heatmapgl": [
           {
            "colorbar": {
             "outlinewidth": 0,
             "ticks": ""
            },
            "colorscale": [
             [
              0,
              "#0d0887"
             ],
             [
              0.1111111111111111,
              "#46039f"
             ],
             [
              0.2222222222222222,
              "#7201a8"
             ],
             [
              0.3333333333333333,
              "#9c179e"
             ],
             [
              0.4444444444444444,
              "#bd3786"
             ],
             [
              0.5555555555555556,
              "#d8576b"
             ],
             [
              0.6666666666666666,
              "#ed7953"
             ],
             [
              0.7777777777777778,
              "#fb9f3a"
             ],
             [
              0.8888888888888888,
              "#fdca26"
             ],
             [
              1,
              "#f0f921"
             ]
            ],
            "type": "heatmapgl"
           }
          ],
          "histogram": [
           {
            "marker": {
             "pattern": {
              "fillmode": "overlay",
              "size": 10,
              "solidity": 0.2
             }
            },
            "type": "histogram"
           }
          ],
          "histogram2d": [
           {
            "colorbar": {
             "outlinewidth": 0,
             "ticks": ""
            },
            "colorscale": [
             [
              0,
              "#0d0887"
             ],
             [
              0.1111111111111111,
              "#46039f"
             ],
             [
              0.2222222222222222,
              "#7201a8"
             ],
             [
              0.3333333333333333,
              "#9c179e"
             ],
             [
              0.4444444444444444,
              "#bd3786"
             ],
             [
              0.5555555555555556,
              "#d8576b"
             ],
             [
              0.6666666666666666,
              "#ed7953"
             ],
             [
              0.7777777777777778,
              "#fb9f3a"
             ],
             [
              0.8888888888888888,
              "#fdca26"
             ],
             [
              1,
              "#f0f921"
             ]
            ],
            "type": "histogram2d"
           }
          ],
          "histogram2dcontour": [
           {
            "colorbar": {
             "outlinewidth": 0,
             "ticks": ""
            },
            "colorscale": [
             [
              0,
              "#0d0887"
             ],
             [
              0.1111111111111111,
              "#46039f"
             ],
             [
              0.2222222222222222,
              "#7201a8"
             ],
             [
              0.3333333333333333,
              "#9c179e"
             ],
             [
              0.4444444444444444,
              "#bd3786"
             ],
             [
              0.5555555555555556,
              "#d8576b"
             ],
             [
              0.6666666666666666,
              "#ed7953"
             ],
             [
              0.7777777777777778,
              "#fb9f3a"
             ],
             [
              0.8888888888888888,
              "#fdca26"
             ],
             [
              1,
              "#f0f921"
             ]
            ],
            "type": "histogram2dcontour"
           }
          ],
          "mesh3d": [
           {
            "colorbar": {
             "outlinewidth": 0,
             "ticks": ""
            },
            "type": "mesh3d"
           }
          ],
          "parcoords": [
           {
            "line": {
             "colorbar": {
              "outlinewidth": 0,
              "ticks": ""
             }
            },
            "type": "parcoords"
           }
          ],
          "pie": [
           {
            "automargin": true,
            "type": "pie"
           }
          ],
          "scatter": [
           {
            "marker": {
             "colorbar": {
              "outlinewidth": 0,
              "ticks": ""
             }
            },
            "type": "scatter"
           }
          ],
          "scatter3d": [
           {
            "line": {
             "colorbar": {
              "outlinewidth": 0,
              "ticks": ""
             }
            },
            "marker": {
             "colorbar": {
              "outlinewidth": 0,
              "ticks": ""
             }
            },
            "type": "scatter3d"
           }
          ],
          "scattercarpet": [
           {
            "marker": {
             "colorbar": {
              "outlinewidth": 0,
              "ticks": ""
             }
            },
            "type": "scattercarpet"
           }
          ],
          "scattergeo": [
           {
            "marker": {
             "colorbar": {
              "outlinewidth": 0,
              "ticks": ""
             }
            },
            "type": "scattergeo"
           }
          ],
          "scattergl": [
           {
            "marker": {
             "colorbar": {
              "outlinewidth": 0,
              "ticks": ""
             }
            },
            "type": "scattergl"
           }
          ],
          "scattermapbox": [
           {
            "marker": {
             "colorbar": {
              "outlinewidth": 0,
              "ticks": ""
             }
            },
            "type": "scattermapbox"
           }
          ],
          "scatterpolar": [
           {
            "marker": {
             "colorbar": {
              "outlinewidth": 0,
              "ticks": ""
             }
            },
            "type": "scatterpolar"
           }
          ],
          "scatterpolargl": [
           {
            "marker": {
             "colorbar": {
              "outlinewidth": 0,
              "ticks": ""
             }
            },
            "type": "scatterpolargl"
           }
          ],
          "scatterternary": [
           {
            "marker": {
             "colorbar": {
              "outlinewidth": 0,
              "ticks": ""
             }
            },
            "type": "scatterternary"
           }
          ],
          "surface": [
           {
            "colorbar": {
             "outlinewidth": 0,
             "ticks": ""
            },
            "colorscale": [
             [
              0,
              "#0d0887"
             ],
             [
              0.1111111111111111,
              "#46039f"
             ],
             [
              0.2222222222222222,
              "#7201a8"
             ],
             [
              0.3333333333333333,
              "#9c179e"
             ],
             [
              0.4444444444444444,
              "#bd3786"
             ],
             [
              0.5555555555555556,
              "#d8576b"
             ],
             [
              0.6666666666666666,
              "#ed7953"
             ],
             [
              0.7777777777777778,
              "#fb9f3a"
             ],
             [
              0.8888888888888888,
              "#fdca26"
             ],
             [
              1,
              "#f0f921"
             ]
            ],
            "type": "surface"
           }
          ],
          "table": [
           {
            "cells": {
             "fill": {
              "color": "#EBF0F8"
             },
             "line": {
              "color": "white"
             }
            },
            "header": {
             "fill": {
              "color": "#C8D4E3"
             },
             "line": {
              "color": "white"
             }
            },
            "type": "table"
           }
          ]
         },
         "layout": {
          "annotationdefaults": {
           "arrowcolor": "#2a3f5f",
           "arrowhead": 0,
           "arrowwidth": 1
          },
          "autotypenumbers": "strict",
          "coloraxis": {
           "colorbar": {
            "outlinewidth": 0,
            "ticks": ""
           }
          },
          "colorscale": {
           "diverging": [
            [
             0,
             "#8e0152"
            ],
            [
             0.1,
             "#c51b7d"
            ],
            [
             0.2,
             "#de77ae"
            ],
            [
             0.3,
             "#f1b6da"
            ],
            [
             0.4,
             "#fde0ef"
            ],
            [
             0.5,
             "#f7f7f7"
            ],
            [
             0.6,
             "#e6f5d0"
            ],
            [
             0.7,
             "#b8e186"
            ],
            [
             0.8,
             "#7fbc41"
            ],
            [
             0.9,
             "#4d9221"
            ],
            [
             1,
             "#276419"
            ]
           ],
           "sequential": [
            [
             0,
             "#0d0887"
            ],
            [
             0.1111111111111111,
             "#46039f"
            ],
            [
             0.2222222222222222,
             "#7201a8"
            ],
            [
             0.3333333333333333,
             "#9c179e"
            ],
            [
             0.4444444444444444,
             "#bd3786"
            ],
            [
             0.5555555555555556,
             "#d8576b"
            ],
            [
             0.6666666666666666,
             "#ed7953"
            ],
            [
             0.7777777777777778,
             "#fb9f3a"
            ],
            [
             0.8888888888888888,
             "#fdca26"
            ],
            [
             1,
             "#f0f921"
            ]
           ],
           "sequentialminus": [
            [
             0,
             "#0d0887"
            ],
            [
             0.1111111111111111,
             "#46039f"
            ],
            [
             0.2222222222222222,
             "#7201a8"
            ],
            [
             0.3333333333333333,
             "#9c179e"
            ],
            [
             0.4444444444444444,
             "#bd3786"
            ],
            [
             0.5555555555555556,
             "#d8576b"
            ],
            [
             0.6666666666666666,
             "#ed7953"
            ],
            [
             0.7777777777777778,
             "#fb9f3a"
            ],
            [
             0.8888888888888888,
             "#fdca26"
            ],
            [
             1,
             "#f0f921"
            ]
           ]
          },
          "colorway": [
           "#636efa",
           "#EF553B",
           "#00cc96",
           "#ab63fa",
           "#FFA15A",
           "#19d3f3",
           "#FF6692",
           "#B6E880",
           "#FF97FF",
           "#FECB52"
          ],
          "font": {
           "color": "#2a3f5f"
          },
          "geo": {
           "bgcolor": "white",
           "lakecolor": "white",
           "landcolor": "#E5ECF6",
           "showlakes": true,
           "showland": true,
           "subunitcolor": "white"
          },
          "hoverlabel": {
           "align": "left"
          },
          "hovermode": "closest",
          "mapbox": {
           "style": "light"
          },
          "paper_bgcolor": "white",
          "plot_bgcolor": "#E5ECF6",
          "polar": {
           "angularaxis": {
            "gridcolor": "white",
            "linecolor": "white",
            "ticks": ""
           },
           "bgcolor": "#E5ECF6",
           "radialaxis": {
            "gridcolor": "white",
            "linecolor": "white",
            "ticks": ""
           }
          },
          "scene": {
           "xaxis": {
            "backgroundcolor": "#E5ECF6",
            "gridcolor": "white",
            "gridwidth": 2,
            "linecolor": "white",
            "showbackground": true,
            "ticks": "",
            "zerolinecolor": "white"
           },
           "yaxis": {
            "backgroundcolor": "#E5ECF6",
            "gridcolor": "white",
            "gridwidth": 2,
            "linecolor": "white",
            "showbackground": true,
            "ticks": "",
            "zerolinecolor": "white"
           },
           "zaxis": {
            "backgroundcolor": "#E5ECF6",
            "gridcolor": "white",
            "gridwidth": 2,
            "linecolor": "white",
            "showbackground": true,
            "ticks": "",
            "zerolinecolor": "white"
           }
          },
          "shapedefaults": {
           "line": {
            "color": "#2a3f5f"
           }
          },
          "ternary": {
           "aaxis": {
            "gridcolor": "white",
            "linecolor": "white",
            "ticks": ""
           },
           "baxis": {
            "gridcolor": "white",
            "linecolor": "white",
            "ticks": ""
           },
           "bgcolor": "#E5ECF6",
           "caxis": {
            "gridcolor": "white",
            "linecolor": "white",
            "ticks": ""
           }
          },
          "title": {
           "x": 0.05
          },
          "xaxis": {
           "automargin": true,
           "gridcolor": "white",
           "linecolor": "white",
           "ticks": "",
           "title": {
            "standoff": 15
           },
           "zerolinecolor": "white",
           "zerolinewidth": 2
          },
          "yaxis": {
           "automargin": true,
           "gridcolor": "white",
           "linecolor": "white",
           "ticks": "",
           "title": {
            "standoff": 15
           },
           "zerolinecolor": "white",
           "zerolinewidth": 2
          }
         }
        },
        "title": {
         "text": "World map",
         "x": 0.5
        }
       }
      },
      "text/html": [
       "<div>                            <div id=\"e59d92c2-f5cb-453e-b06c-cb4c650d4012\" class=\"plotly-graph-div\" style=\"height:525px; width:100%;\"></div>            <script type=\"text/javascript\">                require([\"plotly\"], function(Plotly) {                    window.PLOTLYENV=window.PLOTLYENV || {};                                    if (document.getElementById(\"e59d92c2-f5cb-453e-b06c-cb4c650d4012\")) {                    Plotly.newPlot(                        \"e59d92c2-f5cb-453e-b06c-cb4c650d4012\",                        [{\"customdata\":[[0.0,1652824461.0],[0.0,1652824461.0],[0.0,1652824461.0],[0.0,1652824461.0],[0.0,1652824461.0],[0.0,1652824461.0],[0.0,1652824461.0],[1.0,1652824461.0],[1.0,1652824461.0],[0.0,1652824461.0],[0.0,1652823534.0],[0.0,1652823534.0],[1.0,1652823534.0],[0.0,1652823534.0],[1.0,1652823534.0],[0.0,1652823534.0],[0.0,1652823534.0],[0.0,1652823534.0],[0.0,1652823534.0],[0.0,1652823534.0],[0.0,1652823534.0],[0.0,1652823534.0],[0.0,1652832362.0],[0.0,1652832362.0],[0.0,1652832362.0],[0.0,1652832362.0],[0.0,1652832362.0],[0.0,1652832362.0],[0.0,1652832362.0],[0.0,1652832362.0],[0.0,1652832362.0],[1.0,1652832362.0],[0.0,1652820761.0],[0.0,1652820761.0],[0.0,1652820761.0],[0.0,1652820761.0],[0.0,1652820761.0],[0.0,1652820761.0],[1.0,1652820761.0],[1.0,1652820761.0],[1.0,1652820761.0],[0.0,1652820761.0],[0.0,1652820761.0],[1.0,1652820761.0],[0.0,1652820761.0],[0.0,1652820761.0],[0.0,1652820761.0],[1.0,1652820761.0],[0.0,1652820761.0],[1.0,1652820761.0],[0.0,1652820761.0],[0.0,1652820761.0],[0.0,1652820761.0],[0.0,1652820761.0],[0.0,1652820761.0],[1.0,1652825222.0],[0.0,1652825222.0],[0.0,1652825222.0],[0.0,1652825222.0],[0.0,1652825222.0],[0.0,1652825222.0],[0.0,1652825222.0],[1.0,1652825222.0],[0.0,1652825222.0],[0.0,1652829949.0],[0.0,1652829949.0],[1.0,1652829949.0],[0.0,1652829949.0],[0.0,1652829949.0],[1.0,1652829949.0],[0.0,1652829949.0],[0.0,1652829949.0],[0.0,1652829949.0],[0.0,1652829949.0],[1.0,1652829949.0],[0.0,1652829949.0],[1.0,1652829949.0],[0.0,1652829949.0],[1.0,1652829949.0],[0.0,1652829949.0],[0.0,1652829949.0],[0.0,1652829949.0],[0.0,1652827805.0],[0.0,1652827805.0],[1.0,1652827805.0],[0.0,1652827805.0],[0.0,1652827805.0],[1.0,1652827805.0],[1.0,1652827805.0],[0.0,1652827805.0],[0.0,1652827805.0],[0.0,1652827805.0],[0.0,1652827805.0],[1.0,1652827805.0],[0.0,1652827805.0],[0.0,1652827805.0],[0.0,1652827805.0],[0.0,1652827805.0],[0.0,1652827805.0],[1.0,1652827805.0],[0.0,1652828748.0],[1.0,1652828748.0],[0.0,1652828748.0],[0.0,1652828748.0],[0.0,1652828748.0],[1.0,1652828748.0],[0.0,1652828748.0],[0.0,1652828748.0],[1.0,1652828748.0],[0.0,1652828748.0],[1.0,1652828748.0],[0.0,1652828748.0],[0.0,1652828748.0],[0.0,1652828748.0],[0.0,1652828748.0],[0.0,1652828748.0],[0.0,1652828748.0],[0.0,1652829047.0],[1.0,1652829047.0],[0.0,1652829047.0],[0.0,1652829047.0],[1.0,1652829047.0],[0.0,1652829047.0],[0.0,1652829047.0],[0.0,1652829047.0],[1.0,1652829047.0],[1.0,1652829047.0],[0.0,1652829047.0],[1.0,1652829047.0],[0.0,1652829047.0],[0.0,1652829047.0],[0.0,1652829047.0],[0.0,1652829047.0],[0.0,1652829047.0],[1.0,1652829655.0],[0.0,1652829655.0],[0.0,1652829655.0],[1.0,1652829655.0],[1.0,1652829655.0],[0.0,1652829655.0],[0.0,1652829655.0],[1.0,1652829655.0],[0.0,1652829655.0],[0.0,1652829655.0],[0.0,1652829655.0],[1.0,1652829655.0],[1.0,1652829655.0],[1.0,1652829655.0],[0.0,1652829655.0],[1.0,1652829655.0],[0.0,1652829655.0],[0.0,1652829655.0],[0.0,1652829655.0],[0.0,1652862078.0],[0.0,1652862078.0],[0.0,1652862078.0],[0.0,1652862078.0],[1.0,1652862078.0],[1.0,1652862078.0],[0.0,1652862078.0],[1.0,1652862078.0],[0.0,1652862078.0],[1.0,1652862078.0],[0.0,1652862078.0],[0.0,1652862078.0],[1.0,1652862078.0],[0.0,1652862078.0],[0.0,1652862078.0],[1.0,1652862078.0],[0.0,1652862078.0],[0.0,1652862078.0],[0.0,1652862078.0],[1.0,1652862078.0],[1.0,1652862078.0],[0.0,1652862078.0],[0.0,1652862078.0],[1.0,1652862078.0],[1.0,1652862078.0],[0.0,1652862078.0],[0.0,1652862078.0],[0.0,1652832666.0],[0.0,1652832666.0],[0.0,1652832666.0],[0.0,1652832666.0],[0.0,1652832666.0],[0.0,1652832666.0],[0.0,1652832666.0],[0.0,1652832666.0],[0.0,1652832666.0],[0.0,1652832666.0],[1.0,1652822273.0],[1.0,1652822273.0],[1.0,1652822273.0],[0.0,1652822273.0],[1.0,1652822273.0],[0.0,1652822273.0],[0.0,1652822273.0],[0.0,1652822273.0],[0.0,1652822273.0],[1.0,1652822273.0],[0.0,1652822273.0],[0.0,1652822273.0],[0.0,1652822273.0],[1.0,1652822273.0],[0.0,1652822273.0],[1.0,1652822273.0],[0.0,1652822273.0],[0.0,1652824158.0],[0.0,1652824158.0],[0.0,1652824158.0],[0.0,1652824158.0],[0.0,1652824158.0],[0.0,1652824158.0],[1.0,1652824158.0],[1.0,1652824158.0],[1.0,1652824158.0],[0.0,1652824158.0],[0.0,1652821965.0],[0.0,1652821965.0],[1.0,1652821965.0],[0.0,1652821965.0],[1.0,1652821965.0],[0.0,1652821965.0],[0.0,1652821965.0],[1.0,1652821965.0],[1.0,1652821965.0],[0.0,1652821965.0],[0.0,1652821965.0],[0.0,1652821965.0],[1.0,1652821965.0],[0.0,1652821965.0],[0.0,1652821965.0],[1.0,1652821965.0],[1.0,1652821965.0],[1.0,1652821965.0],[0.0,1652821965.0],[0.0,1652833568.0],[0.0,1652833568.0],[1.0,1652833568.0],[0.0,1652833568.0],[0.0,1652833568.0],[0.0,1652833568.0],[0.0,1652833568.0],[0.0,1652822921.0],[1.0,1652822921.0],[0.0,1652822921.0],[1.0,1652822921.0],[0.0,1652822921.0],[0.0,1652822921.0],[0.0,1652822921.0],[0.0,1652822921.0],[0.0,1652822921.0],[0.0,1652822921.0],[0.0,1652822921.0],[0.0,1652822921.0],[0.0,1652822921.0],[0.0,1652821233.0],[0.0,1652821233.0],[0.0,1652821233.0],[0.0,1652821233.0],[0.0,1652821233.0],[0.0,1652821233.0],[1.0,1652821233.0],[0.0,1652821233.0],[1.0,1652821233.0],[0.0,1652821233.0],[0.0,1652821233.0],[0.0,1652821233.0],[1.0,1652821233.0],[0.0,1652821233.0],[0.0,1652821233.0],[0.0,1652821233.0],[0.0,1652821233.0],[0.0,1652821233.0],[0.0,1652824770.0],[0.0,1652824770.0],[0.0,1652824770.0],[0.0,1652824770.0],[0.0,1652824770.0],[0.0,1652824770.0],[1.0,1652824770.0],[0.0,1652824770.0],[1.0,1652830251.0],[0.0,1652830251.0],[1.0,1652830251.0],[0.0,1652830251.0],[0.0,1652830251.0],[0.0,1652830251.0],[0.0,1652830251.0],[0.0,1652830251.0],[0.0,1652830251.0],[0.0,1652830251.0],[0.0,1652830251.0],[0.0,1652830251.0],[0.0,1652830251.0],[1.0,1652830251.0],[0.0,1652830251.0],[1.0,1652830251.0],[0.0,1652830251.0],[0.0,1652830251.0],[1.0,1652859768.0],[0.0,1652859768.0],[1.0,1652859768.0],[1.0,1652859768.0],[1.0,1652859768.0],[0.0,1652859768.0],[1.0,1652859768.0],[0.0,1652859768.0],[1.0,1652859768.0],[0.0,1652859768.0],[0.0,1652859768.0],[1.0,1652859768.0],[1.0,1652859768.0],[1.0,1652859768.0],[0.0,1652859768.0],[0.0,1652859768.0],[0.0,1652859768.0],[0.0,1652859768.0],[0.0,1652859768.0],[1.0,1652859768.0],[0.0,1652826579.0],[0.0,1652826579.0],[0.0,1652826579.0],[0.0,1652826579.0],[0.0,1652826579.0],[1.0,1652826579.0],[1.0,1652826579.0],[0.0,1652826579.0],[0.0,1652826579.0],[1.0,1652826579.0],[0.0,1652826579.0],[0.0,1652826579.0],[1.0,1652826579.0],[1.0,1652826579.0],[0.0,1652821362.0],[0.0,1652821362.0],[0.0,1652821362.0],[0.0,1652821362.0],[0.0,1652821362.0],[0.0,1652821362.0],[1.0,1652821362.0],[0.0,1652821362.0],[1.0,1652821362.0],[0.0,1652821362.0],[0.0,1652821362.0],[0.0,1652821362.0],[1.0,1652821362.0],[0.0,1652821362.0],[0.0,1652821362.0],[0.0,1652821362.0],[1.0,1652821362.0],[0.0,1652821362.0],[0.0,1652831159.0],[0.0,1652831159.0],[0.0,1652831159.0],[0.0,1652831159.0],[0.0,1652831159.0],[0.0,1652831159.0],[0.0,1652831159.0],[0.0,1652831159.0],[0.0,1652831159.0],[0.0,1652831159.0],[0.0,1652831159.0],[0.0,1652831159.0],[1.0,1652831159.0],[1.0,1652831159.0],[1.0,1652831159.0],[0.0,1652820928.0],[0.0,1652820928.0],[0.0,1652820928.0],[0.0,1652820928.0],[0.0,1652820928.0],[0.0,1652820928.0],[1.0,1652820928.0],[1.0,1652820928.0],[1.0,1652820928.0],[1.0,1652820928.0],[0.0,1652820928.0],[0.0,1652820928.0],[1.0,1652820928.0],[0.0,1652820928.0],[0.0,1652820928.0],[0.0,1652820928.0],[1.0,1652820928.0],[0.0,1652820928.0],[0.0,1652820928.0],[0.0,1652820928.0],[0.0,1652820928.0],[0.0,1652820928.0],[0.0,1652820928.0],[0.0,1652830859.0],[0.0,1652830859.0],[0.0,1652830859.0],[0.0,1652830859.0],[1.0,1652830859.0],[0.0,1652830859.0],[0.0,1652830859.0],[0.0,1652830859.0],[0.0,1652830859.0],[0.0,1652830859.0],[0.0,1652830859.0],[0.0,1652830859.0],[0.0,1652830859.0],[1.0,1652830859.0],[1.0,1652830859.0],[1.0,1652830859.0],[1.0,1652830859.0],[0.0,1652830859.0],[1.0,1652831765.0],[0.0,1652831765.0],[0.0,1652831765.0],[0.0,1652831765.0],[0.0,1652831765.0],[1.0,1652831765.0],[0.0,1652831765.0],[0.0,1652831765.0],[0.0,1652831765.0],[0.0,1652831765.0],[0.0,1652831765.0],[0.0,1652831765.0],[0.0,1652831765.0],[0.0,1652831765.0],[0.0,1652831765.0],[0.0,1652831765.0],[1.0,1652831765.0],[1.0,1652831765.0],[0.0,1652825076.0],[0.0,1652825076.0],[0.0,1652825076.0],[0.0,1652825076.0],[0.0,1652825076.0],[0.0,1652825076.0],[1.0,1652825076.0],[0.0,1652825076.0],[0.0,1652828432.0],[0.0,1652828432.0],[0.0,1652828432.0],[0.0,1652828432.0],[1.0,1652828432.0],[1.0,1652828432.0],[0.0,1652828432.0],[0.0,1652828432.0],[1.0,1652828432.0],[0.0,1652828432.0],[1.0,1652828432.0],[0.0,1652828432.0],[0.0,1652828432.0],[0.0,1652828432.0],[0.0,1652828432.0],[0.0,1652828432.0],[0.0,1652828432.0],[0.0,1652827502.0],[0.0,1652827502.0],[1.0,1652827502.0],[0.0,1652827502.0],[0.0,1652827502.0],[1.0,1652827502.0],[1.0,1652827502.0],[0.0,1652827502.0],[0.0,1652827502.0],[0.0,1652827502.0],[0.0,1652827502.0],[1.0,1652827502.0],[0.0,1652827502.0],[0.0,1652827502.0],[1.0,1652827502.0],[0.0,1652827502.0],[0.0,1652827502.0],[1.0,1652827502.0],[0.0,1652821666.0],[0.0,1652821666.0],[0.0,1652821666.0],[0.0,1652821666.0],[0.0,1652821666.0],[0.0,1652821666.0],[1.0,1652821666.0],[0.0,1652821666.0],[0.0,1652821666.0],[0.0,1652821666.0],[0.0,1652821666.0],[1.0,1652821666.0],[0.0,1652821666.0],[1.0,1652821666.0],[1.0,1652821666.0],[1.0,1652821666.0],[0.0,1652821666.0],[0.0,1652828124.0],[0.0,1652828124.0],[1.0,1652828124.0],[0.0,1652828124.0],[0.0,1652828124.0],[1.0,1652828124.0],[1.0,1652828124.0],[0.0,1652828124.0],[0.0,1652828124.0],[0.0,1652828124.0],[1.0,1652828124.0],[0.0,1652828124.0],[0.0,1652828124.0],[0.0,1652828124.0],[0.0,1652828124.0],[0.0,1652828124.0],[0.0,1652828124.0],[0.0,1652828124.0],[1.0,1652830554.0],[0.0,1652830554.0],[1.0,1652830554.0],[0.0,1652830554.0],[0.0,1652830554.0],[1.0,1652830554.0],[0.0,1652830554.0],[0.0,1652830554.0],[0.0,1652830554.0],[0.0,1652830554.0],[0.0,1652830554.0],[0.0,1652830554.0],[0.0,1652830554.0],[1.0,1652830554.0],[1.0,1652830554.0],[1.0,1652830554.0],[0.0,1652830554.0],[1.0,1652830554.0],[0.0,1652830554.0],[1.0,1652825429.0],[0.0,1652825429.0],[0.0,1652825429.0],[0.0,1652825429.0],[0.0,1652825429.0],[0.0,1652825429.0],[0.0,1652825429.0],[1.0,1652825429.0],[0.0,1652825429.0],[1.0,1652822597.0],[0.0,1652822597.0],[1.0,1652822597.0],[0.0,1652822597.0],[0.0,1652822597.0],[0.0,1652822597.0],[0.0,1652822597.0],[0.0,1652822597.0],[0.0,1652822597.0],[0.0,1652822597.0],[0.0,1652822597.0],[0.0,1652822597.0],[0.0,1652822597.0],[1.0,1652822597.0],[0.0,1652822597.0],[1.0,1652859697.0],[0.0,1652859697.0],[1.0,1652859697.0],[1.0,1652859697.0],[1.0,1652859697.0],[0.0,1652859697.0],[1.0,1652859697.0],[1.0,1652859697.0],[1.0,1652859697.0],[0.0,1652859697.0],[0.0,1652859697.0],[0.0,1652859697.0],[0.0,1652859697.0],[1.0,1652859697.0],[0.0,1652859697.0],[0.0,1652859697.0],[0.0,1652859697.0],[0.0,1652859697.0],[0.0,1652859697.0],[1.0,1652859697.0],[0.0,1652821066.0],[0.0,1652821066.0],[0.0,1652821066.0],[0.0,1652821066.0],[0.0,1652821066.0],[0.0,1652821066.0],[1.0,1652821066.0],[1.0,1652821066.0],[1.0,1652821066.0],[1.0,1652821066.0],[0.0,1652821066.0],[0.0,1652821066.0],[1.0,1652821066.0],[0.0,1652821066.0],[0.0,1652821066.0],[0.0,1652821066.0],[1.0,1652821066.0],[0.0,1652821066.0],[0.0,1652821066.0],[0.0,1652821066.0],[0.0,1652821066.0],[0.0,1652821066.0],[0.0,1652821066.0],[1.0,1652829348.0],[0.0,1652829348.0],[0.0,1652829348.0],[1.0,1652829348.0],[0.0,1652829348.0],[0.0,1652829348.0],[0.0,1652829348.0],[0.0,1652829348.0],[0.0,1652829348.0],[1.0,1652829348.0],[0.0,1652829348.0],[0.0,1652829348.0],[0.0,1652829348.0],[0.0,1652829348.0],[0.0,1652827204.0],[0.0,1652827204.0],[0.0,1652827204.0],[0.0,1652827204.0],[0.0,1652827204.0],[1.0,1652827204.0],[1.0,1652827204.0],[0.0,1652827204.0],[0.0,1652827204.0],[0.0,1652827204.0],[0.0,1652827204.0],[0.0,1652827204.0],[0.0,1652827204.0],[1.0,1652827204.0],[1.0,1652827204.0],[0.0,1652826287.0],[0.0,1652826287.0],[0.0,1652826287.0],[0.0,1652826287.0],[0.0,1652826287.0],[0.0,1652826287.0],[0.0,1652826287.0],[1.0,1652826287.0],[1.0,1652826287.0],[1.0,1652826287.0],[0.0,1652826287.0],[1.0,1652826287.0],[1.0,1652826287.0],[0.0,1652826905.0],[0.0,1652826905.0],[0.0,1652826905.0],[0.0,1652826905.0],[0.0,1652826905.0],[1.0,1652826905.0],[1.0,1652826905.0],[0.0,1652826905.0],[1.0,1652826905.0],[0.0,1652826905.0],[0.0,1652826905.0],[1.0,1652826905.0],[1.0,1652826905.0],[1.0,1652826905.0],[0.0,1652831458.0],[0.0,1652831458.0],[0.0,1652831458.0],[0.0,1652831458.0],[0.0,1652831458.0],[1.0,1652831458.0],[0.0,1652831458.0],[0.0,1652831458.0],[0.0,1652831458.0],[0.0,1652831458.0],[0.0,1652831458.0],[0.0,1652831458.0],[0.0,1652831458.0],[0.0,1652831458.0],[1.0,1652831458.0],[1.0,1652831458.0],[1.0,1652825808.0],[0.0,1652825808.0],[0.0,1652825808.0],[0.0,1652825808.0],[0.0,1652825808.0],[0.0,1652825808.0],[0.0,1652825808.0],[1.0,1652825808.0],[1.0,1652825808.0],[0.0,1652825808.0],[0.0,1652823854.0],[0.0,1652823854.0],[0.0,1652823854.0],[1.0,1652823854.0],[0.0,1652823854.0],[0.0,1652823854.0],[0.0,1652823854.0],[1.0,1652823854.0],[1.0,1652823854.0],[0.0,1652823854.0],[0.0,1652823854.0]],\"geo\":\"geo\",\"hovertemplate\":\"<b>%{hovertext}</b><br><br>lat=%{lat}<br>long=%{lon}<br>on_ground=%{customdata[0]}<br>time=%{customdata[1]}<br>geo_altitude=%{marker.color}<extra></extra>\",\"hovertext\":[\"3430cc\",\"3c656e\",\"344197\",\"345645\",\"345204\",\"040128\",\"06a053\",\"3420ca\",\"3420ca\",\"3c66a3\",\"3430cc\",\"3c656e\",\"3c64a6\",\"344197\",\"345043\",\"345204\",\"040128\",\"06a053\",\"3420ca\",\"3420ca\",\"06a098\",\"3c66a3\",\"06a374\",\"06a03e\",\"06a053\",\"06a07c\",\"06a1df\",\"06a13c\",\"06a0a6\",\"06a0b5\",\"06a0ac\",\"06a0e9\",\"3c6672\",\"3c64a6\",\"3c64aa\",\"344548\",\"345645\",\"345043\",\"34510a\",\"34510a\",\"345204\",\"346185\",\"34620d\",\"06a041\",\"3420ca\",\"3420ca\",\"06a07b\",\"06a07c\",\"06a1c0\",\"06a1bb\",\"06a1df\",\"342059\",\"342059\",\"06a13c\",\"3c66a3\",\"3c5eea\",\"3430cc\",\"3c656e\",\"344197\",\"345645\",\"345204\",\"040128\",\"06a053\",\"3c66a3\",\"344197\",\"345645\",\"06a2b8\",\"06a041\",\"06a068\",\"06a062\",\"06a072\",\"06a07b\",\"06a07c\",\"06a09a\",\"06a1c0\",\"06a1bb\",\"06a1df\",\"06a105\",\"06a0a8\",\"06a0a5\",\"06a0b6\",\"06a0eb\",\"3c5ee5\",\"3c5eea\",\"3430cc\",\"344197\",\"345645\",\"34510a\",\"34510a\",\"040128\",\"06a373\",\"06a2e7\",\"06a087\",\"3c66a3\",\"06a105\",\"06a0a8\",\"06a0a5\",\"06a0b6\",\"06a0bf\",\"06a0eb\",\"3c5ee5\",\"3c5eea\",\"344197\",\"345645\",\"06a373\",\"06a374\",\"06a2e7\",\"06a068\",\"06a072\",\"06a07b\",\"06a09a\",\"06a105\",\"06a0a8\",\"06a0a5\",\"06a0b6\",\"06a0bf\",\"06a0eb\",\"3c5ee5\",\"3c5eea\",\"344197\",\"345645\",\"06a374\",\"06a2e7\",\"06a041\",\"06a068\",\"06a062\",\"06a072\",\"06a07b\",\"06a09a\",\"06a105\",\"06a0a8\",\"06a0a5\",\"06a0bf\",\"06a0eb\",\"3c5ee5\",\"344197\",\"345645\",\"06a374\",\"06a2b8\",\"06a041\",\"06a068\",\"06a062\",\"06a072\",\"06a07b\",\"06a09a\",\"06a1c0\",\"06a1bb\",\"06a1df\",\"06a105\",\"06a0a8\",\"06a0a5\",\"06a0b6\",\"06a0eb\",\"3c6672\",\"3c5ee5\",\"3c5eea\",\"3430cc\",\"3c656e\",\"3c64a6\",\"3c64a3\",\"3c64aa\",\"344548\",\"3c6444\",\"344197\",\"345645\",\"345043\",\"34510a\",\"34510a\",\"34620d\",\"06a2e7\",\"06a2b8\",\"06a041\",\"3420ca\",\"3420ca\",\"06a072\",\"06a1bb\",\"342059\",\"3c66a3\",\"06a0a6\",\"06a0bf\",\"06a374\",\"06a03e\",\"06a053\",\"06a062\",\"06a1df\",\"06a13c\",\"06a0a6\",\"06a0b5\",\"06a0ac\",\"06a0e9\",\"3c6672\",\"3430cc\",\"3c656e\",\"3c64a6\",\"3c64aa\",\"344548\",\"344197\",\"345043\",\"345204\",\"040128\",\"06a053\",\"3420ca\",\"3420ca\",\"06a07b\",\"06a098\",\"06a1df\",\"3c66a3\",\"3430cc\",\"3c656e\",\"344197\",\"345204\",\"040128\",\"06a053\",\"3420ca\",\"3420ca\",\"06a098\",\"3c66a3\",\"3c6672\",\"3c64a6\",\"3c64aa\",\"344548\",\"344197\",\"345043\",\"345204\",\"040128\",\"346185\",\"06a053\",\"3420ca\",\"3420ca\",\"06a07b\",\"06a098\",\"06a1df\",\"342059\",\"342059\",\"06a13c\",\"3c66a3\",\"06a03e\",\"06a053\",\"06a098\",\"06a0a6\",\"06a0b5\",\"06a0ac\",\"06a0e9\",\"3430cc\",\"3c656e\",\"3c64a6\",\"344548\",\"344197\",\"345043\",\"345204\",\"040128\",\"06a053\",\"3420ca\",\"3420ca\",\"06a098\",\"3c66a3\",\"3c6672\",\"3c64a6\",\"3c64aa\",\"344548\",\"345043\",\"345204\",\"040128\",\"346185\",\"34620d\",\"3420ca\",\"3420ca\",\"06a07b\",\"06a1c0\",\"06a1df\",\"342059\",\"342059\",\"06a13c\",\"3c66a3\",\"3430cc\",\"3c656e\",\"344197\",\"345645\",\"345204\",\"040128\",\"06a053\",\"3c66a3\",\"344197\",\"345645\",\"06a374\",\"06a2b8\",\"06a041\",\"06a068\",\"06a062\",\"06a072\",\"06a07b\",\"06a07c\",\"06a09a\",\"06a1c0\",\"06a1bb\",\"06a1df\",\"06a0a5\",\"06a0b5\",\"06a0b6\",\"06a0eb\",\"3c6672\",\"3c5ee5\",\"3c5eea\",\"3c64a6\",\"3c64a3\",\"3c64aa\",\"344548\",\"3c6444\",\"345645\",\"34510a\",\"34510a\",\"345204\",\"346185\",\"34620d\",\"06a2e7\",\"06a07c\",\"06a098\",\"3c66a3\",\"06a0a6\",\"06a0bf\",\"3c5ee5\",\"3c5eea\",\"3430cc\",\"344197\",\"345645\",\"34510a\",\"34510a\",\"040128\",\"06a373\",\"06a2e7\",\"06a087\",\"3c66a3\",\"06a105\",\"06a0b6\",\"3c6672\",\"3c64a6\",\"3c64aa\",\"344548\",\"345043\",\"345204\",\"040128\",\"346185\",\"34620d\",\"3420ca\",\"3420ca\",\"06a07b\",\"06a1c0\",\"06a1df\",\"342059\",\"342059\",\"06a13c\",\"3c66a3\",\"345645\",\"06a374\",\"06a2b8\",\"06a041\",\"06a03e\",\"06a062\",\"06a072\",\"06a07c\",\"06a09a\",\"06a1c0\",\"06a1bb\",\"06a1df\",\"06a13c\",\"06a0b5\",\"06a0ac\",\"3c6672\",\"3c64a6\",\"3c64aa\",\"344548\",\"345645\",\"345043\",\"34510a\",\"34510a\",\"345204\",\"040128\",\"346185\",\"34620d\",\"06a041\",\"3420ca\",\"3420ca\",\"06a07b\",\"06a07c\",\"06a1c0\",\"06a1df\",\"342059\",\"342059\",\"06a13c\",\"3c66a3\",\"345645\",\"06a374\",\"06a2b8\",\"06a041\",\"06a03e\",\"06a068\",\"06a062\",\"06a072\",\"06a07c\",\"06a09a\",\"06a1c0\",\"06a1bb\",\"06a1df\",\"06a13c\",\"06a0a6\",\"06a0b5\",\"06a0ac\",\"06a0eb\",\"345645\",\"06a374\",\"06a2b8\",\"06a041\",\"06a03e\",\"06a053\",\"06a062\",\"06a072\",\"06a07c\",\"06a09a\",\"06a1c0\",\"06a1bb\",\"06a1df\",\"06a13c\",\"06a0a6\",\"06a0b5\",\"06a0ac\",\"06a0e9\",\"3430cc\",\"3c656e\",\"344197\",\"345645\",\"345204\",\"040128\",\"06a053\",\"3c66a3\",\"3c5ee5\",\"3c5eea\",\"344197\",\"345645\",\"34510a\",\"34510a\",\"06a373\",\"06a2e7\",\"06a068\",\"06a087\",\"06a07b\",\"06a105\",\"06a0a8\",\"06a0a5\",\"06a0b6\",\"06a0bf\",\"06a0eb\",\"3c5ee5\",\"3c5eea\",\"3430cc\",\"344197\",\"345645\",\"34510a\",\"34510a\",\"040128\",\"06a373\",\"06a2e7\",\"06a087\",\"3c66a3\",\"06a105\",\"06a0a8\",\"06a0a5\",\"06a0b6\",\"06a0bf\",\"06a0eb\",\"3c6672\",\"3c64a6\",\"3c64aa\",\"344548\",\"345043\",\"345204\",\"040128\",\"346185\",\"3420ca\",\"3420ca\",\"06a07b\",\"06a1c0\",\"06a1df\",\"342059\",\"342059\",\"06a13c\",\"3c66a3\",\"3c5ee5\",\"3c5eea\",\"3430cc\",\"344197\",\"345645\",\"34510a\",\"34510a\",\"040128\",\"06a373\",\"06a2e7\",\"06a068\",\"06a087\",\"06a105\",\"06a0a8\",\"06a0a5\",\"06a0b6\",\"06a0bf\",\"06a0eb\",\"344197\",\"345645\",\"06a374\",\"06a2b8\",\"06a041\",\"06a03e\",\"06a068\",\"06a062\",\"06a072\",\"06a07c\",\"06a09a\",\"06a1c0\",\"06a1bb\",\"06a1df\",\"06a13c\",\"06a0a6\",\"06a0a5\",\"06a0b5\",\"06a0eb\",\"3c5eea\",\"3430cc\",\"3c656e\",\"344197\",\"345645\",\"345204\",\"040128\",\"06a373\",\"3c66a3\",\"3c6672\",\"3430cc\",\"3c656e\",\"3c64a6\",\"344548\",\"344197\",\"345043\",\"345204\",\"040128\",\"06a053\",\"3420ca\",\"3420ca\",\"06a098\",\"06a1df\",\"3c66a3\",\"3c6672\",\"3c5ee5\",\"3c5eea\",\"3c64a6\",\"3c64a3\",\"3c64aa\",\"344548\",\"3c6444\",\"345645\",\"34510a\",\"34510a\",\"345204\",\"346185\",\"34620d\",\"06a2e7\",\"06a07c\",\"06a098\",\"3c66a3\",\"06a0a6\",\"06a0bf\",\"3c6672\",\"3c64a6\",\"3c64aa\",\"344548\",\"345645\",\"345043\",\"34510a\",\"34510a\",\"345204\",\"040128\",\"346185\",\"34620d\",\"06a041\",\"3420ca\",\"3420ca\",\"06a07b\",\"06a07c\",\"06a1c0\",\"06a1df\",\"342059\",\"342059\",\"06a13c\",\"3c66a3\",\"3c5ee5\",\"344197\",\"345645\",\"06a374\",\"06a2e7\",\"06a041\",\"06a068\",\"06a07b\",\"06a09a\",\"06a1df\",\"06a105\",\"06a0a8\",\"06a0a5\",\"06a0eb\",\"3c5ee5\",\"3c5eea\",\"3430cc\",\"344197\",\"345645\",\"34510a\",\"34510a\",\"06a373\",\"06a2e7\",\"06a087\",\"3c66a3\",\"06a105\",\"06a0a8\",\"06a0a5\",\"06a0bf\",\"3c5ee5\",\"3c5eea\",\"3430cc\",\"3c656e\",\"344197\",\"345645\",\"040128\",\"06a373\",\"06a2e7\",\"06a087\",\"3c66a3\",\"06a105\",\"06a0b6\",\"3c5ee5\",\"3c5eea\",\"3430cc\",\"344197\",\"345645\",\"34510a\",\"34510a\",\"06a373\",\"06a2e7\",\"06a087\",\"3c66a3\",\"06a0a5\",\"06a0b6\",\"06a0bf\",\"345645\",\"06a374\",\"06a2b8\",\"06a041\",\"06a03e\",\"06a053\",\"06a062\",\"06a072\",\"06a07c\",\"06a09a\",\"06a1c0\",\"06a1bb\",\"06a1df\",\"06a0a6\",\"06a0b5\",\"06a0ac\",\"3c5ee5\",\"3c5eea\",\"3430cc\",\"3c656e\",\"344197\",\"345645\",\"040128\",\"06a373\",\"06a087\",\"3c66a3\",\"3430cc\",\"3c656e\",\"344197\",\"345043\",\"345204\",\"040128\",\"06a053\",\"3420ca\",\"3420ca\",\"06a098\",\"3c66a3\"],\"lat\":[45.6078,25.9018,45.3325,51.136,44.8947,25.6835,25.0965,40.4941,40.4941,57.1816,47.4717,25.3611,60.194,45.379,41.3023,46.6354,27.3615,25.2747,40.4041,40.4041,25.0323,55.892,24.4958,26.3169,25.0939,25.0868,24.519,26.5155,26.3093,24.9886,25.2343,25.256,58.4229,56.0045,33.4199,42.8973,51.1784,42.9624,9.9974,9.9974,48.7312,40.6379,41.4821,25.2728,44.707,44.707,26.0805,25.2735,25.0331,25.2694,26.3101,41.329,41.329,24.9435,51.6003,52.3686,44.0684,26.5545,45.1672,50.1999,43.7551,23.9127,25.2688,58.2156,41.2427,42.9826,25.2563,24.8112,26.5971,25.2578,25.1444,26.93,25.299,26.2157,25.256,25.3173,25.2735,28.4551,25.2649,25.0749,24.5468,24.1922,50.8921,49.3017,41.2932,43.2846,46.2237,9.9968,9.9968,18.9844,24.574,26.1882,27.2896,60.3218,28.7561,24.4234,25.3777,25.3026,25.8428,25.267,52.1973,48.6898,42.1617,44.7994,23.952,25.2728,26.7586,25.5029,25.2694,25.2608,25.2721,28.559,24.9224,24.8749,25.2193,27.2412,24.9938,52.3487,48.6898,41.7894,44.3426,25.2728,26.751,25.3584,25.9745,25.2725,25.2641,25.5265,25.2662,28.5248,25.0378,24.8156,27.7546,24.8303,52.3679,41.1377,43.3964,25.2729,25.2603,24.9657,26.4005,25.2692,25.2926,26.435,25.7231,25.2591,25.256,25.2778,28.4551,25.2745,25.0533,24.8259,24.479,48.3624,43.2693,40.5528,40.6011,50.0472,50.0503,46.3439,48.3437,41.3138,47.7853,51.7719,40.6422,45.6248,40.1622,40.1622,48.7315,41.0661,-33.4049,24.443,48.7281,48.7281,33.5997,48.6324,40.4891,52.3176,25.258,40.6125,24.2084,26.3296,24.8763,24.7429,24.372,26.8699,26.3251,24.8168,25.0517,25.1771,60.2907,48.997,25.2488,58.9203,32.0021,41.1066,44.8395,41.3664,48.5223,28.5662,25.0667,41.8076,41.8076,25.2583,25.5877,25.2763,54.0484,46.2227,25.7049,45.3549,45.473,26.1369,24.9791,40.4937,40.4937,25.2787,56.7669,60.2115,58.3042,32.002,41.3346,44.8211,41.7241,48.7523,28.5653,41.2936,24.8811,42.4182,42.4182,25.2735,25.6544,25.163,41.2902,41.2902,25.2613,53.5667,26.6652,24.2627,25.2641,26.9598,24.1542,25.0034,23.4246,48.667,25.2348,59.8762,41.3039,45.1069,40.9324,47.7361,28.2431,25.3564,40.7318,40.7318,25.235,55.0209,59.2495,56.9004,32.4537,42.2751,42.4235,48.7386,28.5618,41.1102,41.298,43.8069,43.8069,25.2956,25.2733,25.5734,41.1801,41.1801,25.25,52.3895,44.9812,26.1834,45.3027,50.8565,44.3186,24.9706,25.2731,57.6054,41.3024,42.5981,25.2745,25.3717,24.6388,26.7537,25.3155,25.0015,27.4327,25.2904,26.7237,25.5079,25.6537,25.2725,24.9348,25.2606,24.5468,23.9025,50.0359,46.0703,37.0182,50.0503,50.032,46.5007,40.4886,50.014,41.2917,39.9299,39.9299,40.4872,52.3173,48.7315,40.8609,14.9925,25.1675,50.2905,25.2731,41.2918,48.8849,51.2299,41.6612,44.432,48.0734,9.9962,9.9962,21.1578,25.3479,25.2731,25.4204,59.7825,28.5604,25.2737,59.455,57.1427,32.2791,42.0629,42.2624,48.7554,28.5631,41.0584,41.2902,43.6441,43.6441,25.1231,25.2736,25.3839,41.2688,41.2688,25.2726,52.5997,41.8788,25.3794,23.7901,23.9133,25.3672,25.2722,25.0351,24.7813,28.1483,26.3656,27.0669,25.2132,25.265,25.2721,25.2655,58.7308,56.3256,32.9362,42.676,51.162,42.7748,9.9982,9.9982,48.7244,28.5611,40.8709,41.3706,25.2651,44.6692,44.6692,25.7802,25.2651,25.1526,26.076,41.1368,41.1368,25.0561,51.883,42.1028,25.2997,24.4175,24.1771,25.2646,26.7489,25.2691,24.8762,24.9392,27.8575,26.2088,26.5793,25.3672,25.2724,25.2649,25.2617,25.2593,23.4592,41.8017,24.8537,22.4559,23.4553,25.7599,25.265,25.2403,25.0591,25.071,28.8993,26.7509,27.6144,24.8481,25.5713,25.6293,25.3467,25.2642,25.2736,44.3634,26.4475,45.2396,50.4303,43.8887,24.2267,25.2688,58.02,51.8446,48.7138,42.5473,45.2818,9.9968,9.9968,24.041,26.577,25.2568,28.1059,25.2585,28.6331,24.7609,25.04,25.2778,26.7279,25.2986,50.3825,49.747,41.3044,43.6323,46.6732,9.9968,9.9968,19.5261,24.756,25.898,26.8572,60.3305,28.7819,24.114,25.2663,25.384,25.4286,25.2687,59.8887,57.7195,32.0719,41.6293,41.9191,48.8209,28.5649,41.2895,42.9759,42.9759,25.147,25.2628,25.0015,41.2962,41.2962,25.2623,53.09,51.4122,48.9128,41.2913,42.9113,45.746,9.9968,9.9968,18.9616,24.3585,26.3647,25.2655,27.6746,28.6994,24.5912,25.2066,25.2683,26.2297,25.3383,41.3024,42.3072,25.2611,25.035,24.4804,25.2675,26.757,25.3466,24.8286,25.1111,27.3155,25.9559,26.1179,25.2613,25.2653,25.2732,24.9108,25.2614,23.82,52.3692,43.6458,26.7052,45.0629,49.8501,43.8838,23.4677,25.2649,58.491,60.2892,48.9986,25.2371,59.4385,41.223,44.9534,41.1161,48.2634,28.5488,25.4364,41.2135,41.2135,25.4044,25.2778,54.5487,50.0386,46.1546,37.0183,50.0503,50.0337,46.4154,40.4886,50.032,41.2928,39.9648,39.9648,40.4626,52.3193,48.7315,40.7917,15.0844,25.1963,50.1961,25.269,41.2918,58.9704,56.5855,32.8484,42.4914,51.162,42.6204,9.9982,9.9982,48.7201,28.5614,41.0473,41.3255,25.2651,44.3783,44.3783,25.5419,25.2651,25.2265,25.8427,41.1243,41.1243,25.1569,52.1132,52.3688,41.4289,43.8773,25.2728,26.7438,25.1801,26.2233,25.9818,25.334,25.2779,28.5226,25.1674,24.996,24.6557,49.8717,50.2282,41.1765,43.9706,47.1115,9.9968,9.9968,24.9368,25.451,26.4071,60.2182,28.6032,23.8048,25.2686,25.2581,48.6914,51.6975,42.0807,27.6102,44.5982,48.5207,21.6706,25.2642,25.2729,25.256,59.5084,28.5627,25.2759,49.3626,50.7071,41.2094,44.2414,47.5686,9.9968,9.9968,25.1815,25.2559,25.9671,60.0362,25.2681,25.2571,25.2598,41.8513,25.0865,23.0691,23.7914,25.539,25.2697,25.2583,25.1775,24.924,28.8993,26.5737,27.4192,25.0365,25.4382,25.2647,25.2735,48.6898,52.3354,42.8728,27.1469,44.8621,49.2649,22.6571,25.2674,25.278,58.9858,46.8349,25.5198,45.3704,41.292,46.0434,26.7382,25.1119,40.4911,40.4911,25.2332,56.3467],\"legendgroup\":\"\",\"lon\":[2.7579,53.0399,14.868,-0.2886,9.7221,75.4838,51.6907,-3.5686,-3.5686,17.5736,2.7106,54.8654,11.1136,17.5705,2.0845,8.1155,76.4087,50.3774,-3.4656,-3.4656,51.6541,15.354,54.5838,53.5468,52.329,56.528,54.2368,52.1836,53.2264,52.5509,52.1455,51.6051,5.8467,10.2804,33.2085,4.807,0.0177,-1.7655,-84.1999,-84.1999,2.358,1.457,2.1969,51.6191,-3.8845,-3.8845,51.3908,51.6128,51.7245,51.6156,51.1846,1.5397,1.5397,51.6655,9.8138,13.5069,2.7951,51.4078,12.6613,0.1154,10.8669,74.698,51.6151,19.5256,2.0646,10.1969,51.6075,53.2481,49.3831,51.6064,52.3847,50.4187,51.6068,52.039,51.6052,51.567,51.5995,71.7654,51.6195,56.5744,45.9824,55.3219,11.6367,10.0851,2.0818,5.919,5.6229,-84.2012,-84.2012,71.5491,54.2313,50.8262,50.0937,24.9681,76.0188,54.3665,51.7098,50.7892,51.3552,51.6186,13.0699,9.1977,3.7651,7.667,55.8765,51.6137,48.725,51.418,51.6157,51.603,51.6089,73.8496,52.3348,53.5307,48.8185,49.9502,52.531,13.4049,9.1977,3.1328,8.2933,51.6137,48.1671,51.6354,51.2936,51.6145,51.6199,51.4461,51.619,73.1468,51.8806,54.242,49.4961,53.1695,13.5081,2.1768,9.5471,51.614,51.6063,52.628,50.0501,51.6014,51.8968,50.8849,51.7959,51.6069,51.6069,51.5977,71.7654,51.6166,55.7978,46.6208,54.635,11.7628,0.43,-6.3312,4.1862,8.5725,8.5754,6.6016,11.7894,0.981,13.0069,-0.7046,6.7938,8.7188,-3.5845,-3.5845,2.3609,3.5224,19.1879,54.2797,2.3558,2.3558,135.9842,5.9586,-3.589,4.7745,52.6379,6.831,55.2934,54.2673,52.9836,46.4299,54.5897,52.2424,53.9756,53.2255,52.7805,51.4539,5.2228,2.5582,55.365,11.0145,34.8786,2.1818,20.2628,1.4742,5.1909,77.0835,47.1223,-4.1382,-4.1382,51.6096,49.5502,51.5982,12.653,2.743,53.6761,15.7568,9.2102,75.7308,51.424,-3.5701,-3.5701,51.5984,16.8353,5.245,10.9555,34.887,2.6727,20.2958,1.0183,4.2195,77.0817,2.0839,46.7215,-4.0733,-4.0733,51.5995,48.8706,51.6461,2.0689,2.0689,51.6114,12.0621,56.0453,55.2019,51.6199,56.1168,55.4059,55.0331,51.4549,2.6374,55.3944,11.0162,2.089,19.1616,1.9235,6.9337,77.1908,49.0336,-3.9329,-3.9329,50.765,13.9704,5.576,10.5542,34.2248,3.8517,-0.6675,2.4684,77.0833,1.8846,2.0828,-3.9935,-3.9935,51.5089,51.6188,51.4714,2.0356,2.0356,51.6078,10.6865,2.7734,52.3849,13.9644,-0.5212,10.2202,75.1045,51.6189,18.3535,2.0845,10.9207,51.6164,51.4568,53.9389,48.7508,51.5691,52.9988,49.9721,51.953,52.2344,51.4164,51.3826,51.6101,57.3042,51.6091,45.9824,55.9796,8.5336,5.3928,-7.9681,8.5753,8.5608,15.3273,-3.5648,98.5261,2.085,-7.131,-7.131,-3.5503,4.7702,2.3609,-3.213,121.3964,52.1895,8.6212,57.5783,2.0966,9.6224,12.0775,2.1877,8.916,2.9312,-84.1995,-84.1995,73.3731,51.5903,51.5996,51.5158,23.3258,77.0939,51.5994,5.5066,10.6304,34.4084,3.6725,-0.347,2.6884,77.0823,1.9756,2.0827,-3.9984,-3.9984,51.5647,51.6103,51.4973,2.0762,2.0762,51.5999,10.9253,12.2477,51.8851,51.4534,55.9572,51.5773,49.9132,55.2027,53.7854,52.3231,50.1469,50.289,52.1602,51.6206,51.609,51.6041,5.7474,10.3771,33.7131,4.4634,-0.1029,-1.3787,-84.2005,-84.2005,2.3563,77.0826,1.5851,2.2934,51.6194,-3.8949,-3.8949,51.4424,51.6182,51.6721,51.3965,1.6264,1.6264,51.6929,10.1221,12.0628,51.6072,51.4182,55.3525,51.6197,47.756,50.5756,54.4554,53.1514,52.3044,50.7763,50.7493,51.6499,51.6098,51.6196,51.6088,51.6081,56.8972,12.2546,53.0753,51.9437,56.9056,52.4681,51.6195,49.0221,56.6603,55.3948,52.433,48.7623,49.8109,53.3071,51.6929,52.2279,51.5957,51.6198,51.5996,2.7881,51.7294,13.0749,-0.0992,10.7016,74.8166,51.6151,19.1435,12.6702,9.3484,4.4875,6.9892,-84.2012,-84.2012,55.6896,49.4635,51.6057,49.3723,51.6097,74.5996,52.9592,52.8333,49.4743,50.4589,51.9987,11.106,10.5282,2.0898,6.619,4.9468,-84.2012,-84.2012,71.9976,53.471,51.3365,50.4879,24.9434,76.6333,54.9863,51.6189,51.3332,51.4988,51.6037,5.3573,10.816,34.7555,3.2104,0.4143,3.3643,77.0809,2.0856,-4.0186,-4.0186,51.6532,51.6119,51.6191,2.0813,2.0813,51.6105,11.4937,12.1932,9.7061,2.079,5.1857,6.3235,-84.2012,-84.2012,71.5303,55.0086,50.1497,51.6095,49.7584,75.3097,53.6455,52.2183,50.1307,50.9074,51.5976,2.0845,11.6045,51.6223,51.3139,54.6312,51.6184,48.3856,51.1523,53.6967,52.4982,52.2698,51.3099,51.1781,51.6222,51.6042,51.6119,57.4277,51.6087,56.1516,13.5094,2.805,50.9508,12.0827,0.4756,10.7077,74.5347,51.6083,20.0754,5.2257,2.8669,55.3892,11.0649,2.0553,19.8067,1.8814,6.23,77.1643,47.9785,-4.1986,-4.1986,50.1724,51.5984,13.2855,8.5437,5.5616,-7.9684,8.5753,98.5717,15.4673,-3.5757,8.526,2.0843,-7.3343,-7.3343,-3.525,4.8245,2.3609,-3.3164,121.3978,52.2913,8.6275,57.7441,2.0966,5.6689,10.4563,33.8067,4.1803,-0.1029,-1.0639,-84.2005,-84.2005,2.3581,77.0836,1.6828,2.1614,51.6194,-3.9734,-3.9734,51.4752,51.6182,51.6396,51.4343,1.845,1.845,51.6488,10.3767,13.5077,2.6003,8.917,51.6137,47.9209,52.0758,50.7408,51.3,51.6029,51.5987,73.1004,51.6655,54.994,53.8705,10.5871,11.0181,2.0342,7.3166,4.2699,-84.2012,-84.2012,52.7349,51.495,50.9115,24.696,77.0272,55.5923,51.6178,51.6074,9.2301,12.5919,2.4078,49.8154,9.7024,2.3097,73.7934,51.6199,51.6002,51.6052,22.4959,77.0843,51.5984,10.0834,11.5176,2.1452,8.0492,3.6231,-84.2012,-84.2012,52.1341,51.6064,51.3108,24.1214,51.6168,51.6065,51.6066,12.2593,52.3781,51.5586,56.2113,51.9416,51.6174,49.2248,55.9518,54.6273,52.433,49.4766,49.9841,52.7285,51.7073,51.6196,51.6127,9.1977,13.3363,2.8225,50.219,11.0183,1.3,74.2401,51.6043,51.5975,21.0974,2.7271,54.3192,16.6466,2.0845,8.6925,76.0617,50.9966,-3.5614,-3.5614,51.6152,16.1121],\"marker\":{\"color\":[10462.26,8907.78,11917.68,1043.94,10218.42,12252.96,800.1,null,null,11323.32,10431.78,3215.64,null,11864.34,null,11681.46,9166.86,6766.56,1165.86,1165.86,861.06,11391.9,11323.32,7734.3,5303.52,10683.24,3604.26,6134.1,7383.78,6697.98,4831.08,null,10035.54,10866.12,10546.08,11750.04,906.78,9349.74,null,null,null,5707.38,1524.0,null,11041.38,11041.38,6598.92,null,960.12,null,6804.66,3368.04,3368.04,1158.24,9852.66,null,10492.74,12268.2,11955.78,8336.28,1600.2,12260.58,null,11277.6,350.52,12199.62,null,8686.8,9685.02,null,4290.06,10340.34,411.48,6141.72,null,624.84,null,12824.46,null,11993.88,12915.9,12176.76,11292.84,4678.68,null,12031.98,12313.92,null,null,12275.82,11323.32,7239.0,10340.34,null,6880.86,12908.28,1836.42,5539.74,4564.38,null,1318.26,null,9182.1,12329.16,11330.94,null,11628.12,2377.44,null,-15.24,null,12047.22,4556.76,8176.26,10873.74,10988.04,6096.0,411.48,null,6644.64,12313.92,null,11628.12,914.4,4716.78,null,null,2232.66,null,12824.46,1927.86,9578.34,12854.94,8031.48,null,784.86,12321.54,null,null,6705.6,9372.6,null,2125.98,7962.9,4632.96,null,null,null,12824.46,null,11978.64,12923.52,10850.88,533.4,11087.1,11971.02,12047.22,null,null,11056.62,null,6720.84,null,2004.06,12054.84,null,2057.4,2057.4,null,12656.82,5692.14,12291.06,null,null,11696.7,11033.76,null,null,4000.5,12633.96,11323.32,9311.64,7818.12,9738.36,1577.34,6682.74,9509.76,8740.14,7879.08,3284.22,null,null,null,7711.44,null,2430.78,1074.42,4747.26,9959.34,null,11971.02,10187.94,10187.94,null,7482.84,null,11490.96,10462.26,7520.94,11894.82,11696.7,12054.84,1844.04,null,null,null,11346.18,541.02,10797.54,null,4572.0,null,6507.48,7399.02,null,null,11978.64,11117.58,11117.58,null,9083.04,579.12,null,null,null,11513.82,12298.68,10027.92,null,13167.36,13220.7,11963.4,11056.62,6080.76,null,1897.38,null,9319.26,1943.1,11673.84,3604.26,8214.36,5570.22,5570.22,4305.3,11430.0,5364.48,10843.26,3695.7,8831.58,9601.2,1211.58,null,2339.34,null,11079.48,11079.48,2956.56,null,3413.76,685.8,685.8,45.72,11567.16,10485.12,10523.22,11932.92,4815.84,7589.52,12260.58,null,11300.46,null,7818.12,null,1295.4,10386.06,9685.02,624.84,6431.28,10340.34,2788.92,6652.26,1958.34,2910.84,null,12039.6,null,12923.52,12603.48,null,11049.0,null,null,null,11239.5,null,236.22,null,11399.52,11399.52,null,null,null,4381.5,3985.26,2827.02,3299.46,12915.9,null,4884.42,10850.88,4114.8,12001.5,12260.58,null,null,12268.2,655.32,null,1828.8,4732.02,null,null,4114.8,10843.26,2324.1,8641.08,9608.82,2430.78,null,1546.86,null,11079.48,11079.48,1912.62,null,2720.34,190.5,190.5,null,11559.54,274.32,3230.88,9395.46,12595.86,815.34,7444.74,10668.0,9075.42,8092.44,8458.2,10340.34,5859.78,null,null,null,8305.8,10866.12,7711.44,11125.2,449.58,9585.96,null,null,null,null,4213.86,800.1,null,11049.0,11049.0,4983.48,null,647.7,5852.16,2255.52,2255.52,982.98,10744.2,1844.04,449.58,7840.98,12588.24,null,9685.02,5394.96,10629.9,7421.88,8084.82,6842.76,8511.54,1737.36,null,null,null,null,12611.1,null,9227.82,10690.86,12595.86,5234.94,null,9075.42,10675.62,10675.62,5943.6,9707.88,10340.34,8046.72,2400.3,4556.76,678.18,null,null,10492.74,11971.02,11948.16,6705.6,3063.24,12260.58,null,11292.84,3710.94,853.44,11414.76,12313.92,null,null,11330.94,11109.96,null,10340.34,null,10629.9,7459.98,6560.82,8938.26,8732.52,3528.06,12176.76,7574.28,null,12024.36,12283.44,null,null,12275.82,10622.28,4701.54,9852.66,null,3840.48,12915.9,null,2865.12,1783.08,null,1874.52,10820.4,746.76,7277.1,8115.3,3733.8,null,83.82,11102.34,11102.34,685.8,null,1082.04,null,null,null,11536.68,6926.58,2110.74,null,12039.6,12306.3,null,null,12275.82,11323.32,9364.98,null,10340.34,9029.7,11216.64,4297.68,7757.16,6918.96,586.74,null,3589.02,null,4610.1,11833.86,null,9685.02,2735.58,8511.54,5006.34,8084.82,4472.94,5806.44,null,null,null,12313.92,null,12603.48,null,10507.98,12268.2,11963.4,10043.16,2987.04,12268.2,null,11269.98,null,2156.46,null,4884.42,480.06,6019.8,2804.16,11430.0,678.18,11734.8,7536.18,7536.18,6812.28,null,11475.72,null,11049.0,null,null,null,11262.36,null,null,null,11391.9,11391.9,708.66,160.02,null,3634.74,4213.86,3253.74,2186.94,12900.66,null,6865.62,10858.5,6995.16,10081.26,449.58,9593.58,null,null,null,null,3078.48,350.52,null,11064.24,11064.24,3733.8,null,175.26,4914.9,1325.88,1325.88,617.22,11323.32,null,4366.26,12329.16,null,11628.12,3886.2,7330.44,5036.82,701.04,null,12824.46,548.64,11231.88,9547.86,10858.5,9791.7,777.24,12016.74,12298.68,null,null,7924.8,1882.14,8039.1,723.9,876.3,12908.28,null,null,533.4,8648.7,5394.96,12260.58,11986.26,12237.72,12268.2,null,null,null,8549.64,null,null,9060.18,10934.7,2209.8,12016.74,12275.82,null,null,4381.5,null,5768.34,2080.26,null,null,null,106.68,6316.98,10690.86,12595.86,3314.7,null,9060.18,10675.62,10683.24,5943.6,9509.76,10340.34,8100.06,2118.36,null,null,null,1706.88,9151.62,12268.2,11971.02,11628.12,12268.2,null,null,11254.74,10454.64,5501.64,11871.96,null,11689.08,10683.24,3710.94,null,null,137.16,11369.04],\"coloraxis\":\"coloraxis\",\"symbol\":\"circle\"},\"mode\":\"markers\",\"name\":\"\",\"showlegend\":false,\"type\":\"scattergeo\"}],                        {\"coloraxis\":{\"colorbar\":{\"title\":{\"text\":\"geo_altitude\"}},\"colorscale\":[[0.0,\"#0d0887\"],[0.1111111111111111,\"#46039f\"],[0.2222222222222222,\"#7201a8\"],[0.3333333333333333,\"#9c179e\"],[0.4444444444444444,\"#bd3786\"],[0.5555555555555556,\"#d8576b\"],[0.6666666666666666,\"#ed7953\"],[0.7777777777777778,\"#fb9f3a\"],[0.8888888888888888,\"#fdca26\"],[1.0,\"#f0f921\"]]},\"geo\":{\"center\":{},\"domain\":{\"x\":[0.0,1.0],\"y\":[0.0,1.0]}},\"legend\":{\"tracegroupgap\":0},\"margin\":{\"t\":60},\"template\":{\"data\":{\"bar\":[{\"error_x\":{\"color\":\"#2a3f5f\"},\"error_y\":{\"color\":\"#2a3f5f\"},\"marker\":{\"line\":{\"color\":\"#E5ECF6\",\"width\":0.5},\"pattern\":{\"fillmode\":\"overlay\",\"size\":10,\"solidity\":0.2}},\"type\":\"bar\"}],\"barpolar\":[{\"marker\":{\"line\":{\"color\":\"#E5ECF6\",\"width\":0.5},\"pattern\":{\"fillmode\":\"overlay\",\"size\":10,\"solidity\":0.2}},\"type\":\"barpolar\"}],\"carpet\":[{\"aaxis\":{\"endlinecolor\":\"#2a3f5f\",\"gridcolor\":\"white\",\"linecolor\":\"white\",\"minorgridcolor\":\"white\",\"startlinecolor\":\"#2a3f5f\"},\"baxis\":{\"endlinecolor\":\"#2a3f5f\",\"gridcolor\":\"white\",\"linecolor\":\"white\",\"minorgridcolor\":\"white\",\"startlinecolor\":\"#2a3f5f\"},\"type\":\"carpet\"}],\"choropleth\":[{\"colorbar\":{\"outlinewidth\":0,\"ticks\":\"\"},\"type\":\"choropleth\"}],\"contour\":[{\"colorbar\":{\"outlinewidth\":0,\"ticks\":\"\"},\"colorscale\":[[0.0,\"#0d0887\"],[0.1111111111111111,\"#46039f\"],[0.2222222222222222,\"#7201a8\"],[0.3333333333333333,\"#9c179e\"],[0.4444444444444444,\"#bd3786\"],[0.5555555555555556,\"#d8576b\"],[0.6666666666666666,\"#ed7953\"],[0.7777777777777778,\"#fb9f3a\"],[0.8888888888888888,\"#fdca26\"],[1.0,\"#f0f921\"]],\"type\":\"contour\"}],\"contourcarpet\":[{\"colorbar\":{\"outlinewidth\":0,\"ticks\":\"\"},\"type\":\"contourcarpet\"}],\"heatmap\":[{\"colorbar\":{\"outlinewidth\":0,\"ticks\":\"\"},\"colorscale\":[[0.0,\"#0d0887\"],[0.1111111111111111,\"#46039f\"],[0.2222222222222222,\"#7201a8\"],[0.3333333333333333,\"#9c179e\"],[0.4444444444444444,\"#bd3786\"],[0.5555555555555556,\"#d8576b\"],[0.6666666666666666,\"#ed7953\"],[0.7777777777777778,\"#fb9f3a\"],[0.8888888888888888,\"#fdca26\"],[1.0,\"#f0f921\"]],\"type\":\"heatmap\"}],\"heatmapgl\":[{\"colorbar\":{\"outlinewidth\":0,\"ticks\":\"\"},\"colorscale\":[[0.0,\"#0d0887\"],[0.1111111111111111,\"#46039f\"],[0.2222222222222222,\"#7201a8\"],[0.3333333333333333,\"#9c179e\"],[0.4444444444444444,\"#bd3786\"],[0.5555555555555556,\"#d8576b\"],[0.6666666666666666,\"#ed7953\"],[0.7777777777777778,\"#fb9f3a\"],[0.8888888888888888,\"#fdca26\"],[1.0,\"#f0f921\"]],\"type\":\"heatmapgl\"}],\"histogram\":[{\"marker\":{\"pattern\":{\"fillmode\":\"overlay\",\"size\":10,\"solidity\":0.2}},\"type\":\"histogram\"}],\"histogram2d\":[{\"colorbar\":{\"outlinewidth\":0,\"ticks\":\"\"},\"colorscale\":[[0.0,\"#0d0887\"],[0.1111111111111111,\"#46039f\"],[0.2222222222222222,\"#7201a8\"],[0.3333333333333333,\"#9c179e\"],[0.4444444444444444,\"#bd3786\"],[0.5555555555555556,\"#d8576b\"],[0.6666666666666666,\"#ed7953\"],[0.7777777777777778,\"#fb9f3a\"],[0.8888888888888888,\"#fdca26\"],[1.0,\"#f0f921\"]],\"type\":\"histogram2d\"}],\"histogram2dcontour\":[{\"colorbar\":{\"outlinewidth\":0,\"ticks\":\"\"},\"colorscale\":[[0.0,\"#0d0887\"],[0.1111111111111111,\"#46039f\"],[0.2222222222222222,\"#7201a8\"],[0.3333333333333333,\"#9c179e\"],[0.4444444444444444,\"#bd3786\"],[0.5555555555555556,\"#d8576b\"],[0.6666666666666666,\"#ed7953\"],[0.7777777777777778,\"#fb9f3a\"],[0.8888888888888888,\"#fdca26\"],[1.0,\"#f0f921\"]],\"type\":\"histogram2dcontour\"}],\"mesh3d\":[{\"colorbar\":{\"outlinewidth\":0,\"ticks\":\"\"},\"type\":\"mesh3d\"}],\"parcoords\":[{\"line\":{\"colorbar\":{\"outlinewidth\":0,\"ticks\":\"\"}},\"type\":\"parcoords\"}],\"pie\":[{\"automargin\":true,\"type\":\"pie\"}],\"scatter\":[{\"marker\":{\"colorbar\":{\"outlinewidth\":0,\"ticks\":\"\"}},\"type\":\"scatter\"}],\"scatter3d\":[{\"line\":{\"colorbar\":{\"outlinewidth\":0,\"ticks\":\"\"}},\"marker\":{\"colorbar\":{\"outlinewidth\":0,\"ticks\":\"\"}},\"type\":\"scatter3d\"}],\"scattercarpet\":[{\"marker\":{\"colorbar\":{\"outlinewidth\":0,\"ticks\":\"\"}},\"type\":\"scattercarpet\"}],\"scattergeo\":[{\"marker\":{\"colorbar\":{\"outlinewidth\":0,\"ticks\":\"\"}},\"type\":\"scattergeo\"}],\"scattergl\":[{\"marker\":{\"colorbar\":{\"outlinewidth\":0,\"ticks\":\"\"}},\"type\":\"scattergl\"}],\"scattermapbox\":[{\"marker\":{\"colorbar\":{\"outlinewidth\":0,\"ticks\":\"\"}},\"type\":\"scattermapbox\"}],\"scatterpolar\":[{\"marker\":{\"colorbar\":{\"outlinewidth\":0,\"ticks\":\"\"}},\"type\":\"scatterpolar\"}],\"scatterpolargl\":[{\"marker\":{\"colorbar\":{\"outlinewidth\":0,\"ticks\":\"\"}},\"type\":\"scatterpolargl\"}],\"scatterternary\":[{\"marker\":{\"colorbar\":{\"outlinewidth\":0,\"ticks\":\"\"}},\"type\":\"scatterternary\"}],\"surface\":[{\"colorbar\":{\"outlinewidth\":0,\"ticks\":\"\"},\"colorscale\":[[0.0,\"#0d0887\"],[0.1111111111111111,\"#46039f\"],[0.2222222222222222,\"#7201a8\"],[0.3333333333333333,\"#9c179e\"],[0.4444444444444444,\"#bd3786\"],[0.5555555555555556,\"#d8576b\"],[0.6666666666666666,\"#ed7953\"],[0.7777777777777778,\"#fb9f3a\"],[0.8888888888888888,\"#fdca26\"],[1.0,\"#f0f921\"]],\"type\":\"surface\"}],\"table\":[{\"cells\":{\"fill\":{\"color\":\"#EBF0F8\"},\"line\":{\"color\":\"white\"}},\"header\":{\"fill\":{\"color\":\"#C8D4E3\"},\"line\":{\"color\":\"white\"}},\"type\":\"table\"}]},\"layout\":{\"annotationdefaults\":{\"arrowcolor\":\"#2a3f5f\",\"arrowhead\":0,\"arrowwidth\":1},\"autotypenumbers\":\"strict\",\"coloraxis\":{\"colorbar\":{\"outlinewidth\":0,\"ticks\":\"\"}},\"colorscale\":{\"diverging\":[[0,\"#8e0152\"],[0.1,\"#c51b7d\"],[0.2,\"#de77ae\"],[0.3,\"#f1b6da\"],[0.4,\"#fde0ef\"],[0.5,\"#f7f7f7\"],[0.6,\"#e6f5d0\"],[0.7,\"#b8e186\"],[0.8,\"#7fbc41\"],[0.9,\"#4d9221\"],[1,\"#276419\"]],\"sequential\":[[0.0,\"#0d0887\"],[0.1111111111111111,\"#46039f\"],[0.2222222222222222,\"#7201a8\"],[0.3333333333333333,\"#9c179e\"],[0.4444444444444444,\"#bd3786\"],[0.5555555555555556,\"#d8576b\"],[0.6666666666666666,\"#ed7953\"],[0.7777777777777778,\"#fb9f3a\"],[0.8888888888888888,\"#fdca26\"],[1.0,\"#f0f921\"]],\"sequentialminus\":[[0.0,\"#0d0887\"],[0.1111111111111111,\"#46039f\"],[0.2222222222222222,\"#7201a8\"],[0.3333333333333333,\"#9c179e\"],[0.4444444444444444,\"#bd3786\"],[0.5555555555555556,\"#d8576b\"],[0.6666666666666666,\"#ed7953\"],[0.7777777777777778,\"#fb9f3a\"],[0.8888888888888888,\"#fdca26\"],[1.0,\"#f0f921\"]]},\"colorway\":[\"#636efa\",\"#EF553B\",\"#00cc96\",\"#ab63fa\",\"#FFA15A\",\"#19d3f3\",\"#FF6692\",\"#B6E880\",\"#FF97FF\",\"#FECB52\"],\"font\":{\"color\":\"#2a3f5f\"},\"geo\":{\"bgcolor\":\"white\",\"lakecolor\":\"white\",\"landcolor\":\"#E5ECF6\",\"showlakes\":true,\"showland\":true,\"subunitcolor\":\"white\"},\"hoverlabel\":{\"align\":\"left\"},\"hovermode\":\"closest\",\"mapbox\":{\"style\":\"light\"},\"paper_bgcolor\":\"white\",\"plot_bgcolor\":\"#E5ECF6\",\"polar\":{\"angularaxis\":{\"gridcolor\":\"white\",\"linecolor\":\"white\",\"ticks\":\"\"},\"bgcolor\":\"#E5ECF6\",\"radialaxis\":{\"gridcolor\":\"white\",\"linecolor\":\"white\",\"ticks\":\"\"}},\"scene\":{\"xaxis\":{\"backgroundcolor\":\"#E5ECF6\",\"gridcolor\":\"white\",\"gridwidth\":2,\"linecolor\":\"white\",\"showbackground\":true,\"ticks\":\"\",\"zerolinecolor\":\"white\"},\"yaxis\":{\"backgroundcolor\":\"#E5ECF6\",\"gridcolor\":\"white\",\"gridwidth\":2,\"linecolor\":\"white\",\"showbackground\":true,\"ticks\":\"\",\"zerolinecolor\":\"white\"},\"zaxis\":{\"backgroundcolor\":\"#E5ECF6\",\"gridcolor\":\"white\",\"gridwidth\":2,\"linecolor\":\"white\",\"showbackground\":true,\"ticks\":\"\",\"zerolinecolor\":\"white\"}},\"shapedefaults\":{\"line\":{\"color\":\"#2a3f5f\"}},\"ternary\":{\"aaxis\":{\"gridcolor\":\"white\",\"linecolor\":\"white\",\"ticks\":\"\"},\"baxis\":{\"gridcolor\":\"white\",\"linecolor\":\"white\",\"ticks\":\"\"},\"bgcolor\":\"#E5ECF6\",\"caxis\":{\"gridcolor\":\"white\",\"linecolor\":\"white\",\"ticks\":\"\"}},\"title\":{\"x\":0.05},\"xaxis\":{\"automargin\":true,\"gridcolor\":\"white\",\"linecolor\":\"white\",\"ticks\":\"\",\"title\":{\"standoff\":15},\"zerolinecolor\":\"white\",\"zerolinewidth\":2},\"yaxis\":{\"automargin\":true,\"gridcolor\":\"white\",\"linecolor\":\"white\",\"ticks\":\"\",\"title\":{\"standoff\":15},\"zerolinecolor\":\"white\",\"zerolinewidth\":2}}},\"title\":{\"text\":\"World map\",\"x\":0.5}},                        {\"responsive\": true}                    ).then(function(){\n",
       "                            \n",
       "var gd = document.getElementById('e59d92c2-f5cb-453e-b06c-cb4c650d4012');\n",
       "var x = new MutationObserver(function (mutations, observer) {{\n",
       "        var display = window.getComputedStyle(gd).display;\n",
       "        if (!display || display === 'none') {{\n",
       "            console.log([gd, 'removed!']);\n",
       "            Plotly.purge(gd);\n",
       "            observer.disconnect();\n",
       "        }}\n",
       "}});\n",
       "\n",
       "// Listen for the removal of the full notebook cells\n",
       "var notebookContainer = gd.closest('#notebook-container');\n",
       "if (notebookContainer) {{\n",
       "    x.observe(notebookContainer, {childList: true});\n",
       "}}\n",
       "\n",
       "// Listen for the clearing of the current output cell\n",
       "var outputEl = gd.closest('.output');\n",
       "if (outputEl) {{\n",
       "    x.observe(outputEl, {childList: true});\n",
       "}}\n",
       "\n",
       "                        })                };                });            </script>        </div>"
      ]
     },
     "metadata": {},
     "output_type": "display_data"
    }
   ],
   "source": [
    "# Plot flight route of first 50 flights from full_flights\n",
    "df_plot = pflights_df_f[pflights_df_f.icao24.isin(full_trip.index.get_level_values(\"icao24\")[:50])]\n",
    "\n",
    "fig = px.scatter_geo(df_plot, lat='lat',lon='long', hover_name=\"icao24\", color=\"geo_altitude\", hover_data=[\"on_ground\", \"time\"])\n",
    "fig.update_layout(title = 'World map', title_x=0.5)\n",
    "fig.show()"
   ]
  },
  {
   "cell_type": "code",
   "execution_count": 238,
   "id": "6a512c7c",
   "metadata": {},
   "outputs": [
    {
     "data": {
      "text/html": [
       "<div>\n",
       "<style scoped>\n",
       "    .dataframe tbody tr th:only-of-type {\n",
       "        vertical-align: middle;\n",
       "    }\n",
       "\n",
       "    .dataframe tbody tr th {\n",
       "        vertical-align: top;\n",
       "    }\n",
       "\n",
       "    .dataframe thead th {\n",
       "        text-align: right;\n",
       "    }\n",
       "</style>\n",
       "<table border=\"1\" class=\"dataframe\">\n",
       "  <thead>\n",
       "    <tr style=\"text-align: right;\">\n",
       "      <th></th>\n",
       "      <th>icao24</th>\n",
       "      <th>time</th>\n",
       "      <th>on_ground</th>\n",
       "      <th>geo_altitude</th>\n",
       "      <th>city_name</th>\n",
       "      <th>reg_admin1</th>\n",
       "      <th>country_cc</th>\n",
       "    </tr>\n",
       "  </thead>\n",
       "  <tbody>\n",
       "    <tr>\n",
       "      <th>53380</th>\n",
       "      <td>06a053</td>\n",
       "      <td>1652821965</td>\n",
       "      <td>0.0</td>\n",
       "      <td>11978.64</td>\n",
       "      <td>Riyadh</td>\n",
       "      <td>Ar Riyad</td>\n",
       "      <td>SA</td>\n",
       "    </tr>\n",
       "    <tr>\n",
       "      <th>45737</th>\n",
       "      <td>06a053</td>\n",
       "      <td>1652822273</td>\n",
       "      <td>0.0</td>\n",
       "      <td>11971.02</td>\n",
       "      <td>Riyadh</td>\n",
       "      <td>Ar Riyad</td>\n",
       "      <td>SA</td>\n",
       "    </tr>\n",
       "    <tr>\n",
       "      <th>126189</th>\n",
       "      <td>06a053</td>\n",
       "      <td>1652822597</td>\n",
       "      <td>0.0</td>\n",
       "      <td>11734.80</td>\n",
       "      <td>Riyadh</td>\n",
       "      <td>Ar Riyad</td>\n",
       "      <td>SA</td>\n",
       "    </tr>\n",
       "    <tr>\n",
       "      <th>60536</th>\n",
       "      <td>06a053</td>\n",
       "      <td>1652822921</td>\n",
       "      <td>0.0</td>\n",
       "      <td>8214.36</td>\n",
       "      <td>Al Hufuf</td>\n",
       "      <td>Eastern Province</td>\n",
       "      <td>SA</td>\n",
       "    </tr>\n",
       "    <tr>\n",
       "      <th>6548</th>\n",
       "      <td>06a053</td>\n",
       "      <td>1652823534</td>\n",
       "      <td>0.0</td>\n",
       "      <td>6766.56</td>\n",
       "      <td>Umm Bab</td>\n",
       "      <td></td>\n",
       "      <td>QA</td>\n",
       "    </tr>\n",
       "    <tr>\n",
       "      <th>158614</th>\n",
       "      <td>06a053</td>\n",
       "      <td>1652823854</td>\n",
       "      <td>0.0</td>\n",
       "      <td>3710.94</td>\n",
       "      <td>Umm Bab</td>\n",
       "      <td></td>\n",
       "      <td>QA</td>\n",
       "    </tr>\n",
       "    <tr>\n",
       "      <th>49508</th>\n",
       "      <td>06a053</td>\n",
       "      <td>1652824158</td>\n",
       "      <td>0.0</td>\n",
       "      <td>1844.04</td>\n",
       "      <td>Umm Sa'id</td>\n",
       "      <td>Al Wakrah</td>\n",
       "      <td>QA</td>\n",
       "    </tr>\n",
       "    <tr>\n",
       "      <th>2782</th>\n",
       "      <td>06a053</td>\n",
       "      <td>1652824461</td>\n",
       "      <td>0.0</td>\n",
       "      <td>800.10</td>\n",
       "      <td>Al Wakrah</td>\n",
       "      <td>Al Wakrah</td>\n",
       "      <td>QA</td>\n",
       "    </tr>\n",
       "    <tr>\n",
       "      <th>68265</th>\n",
       "      <td>06a053</td>\n",
       "      <td>1652824770</td>\n",
       "      <td>1.0</td>\n",
       "      <td>NaN</td>\n",
       "      <td>Doha</td>\n",
       "      <td>Baladiyat ad Dawhah</td>\n",
       "      <td>QA</td>\n",
       "    </tr>\n",
       "    <tr>\n",
       "      <th>100418</th>\n",
       "      <td>06a053</td>\n",
       "      <td>1652825076</td>\n",
       "      <td>1.0</td>\n",
       "      <td>NaN</td>\n",
       "      <td>Doha</td>\n",
       "      <td>Baladiyat ad Dawhah</td>\n",
       "      <td>QA</td>\n",
       "    </tr>\n",
       "    <tr>\n",
       "      <th>17544</th>\n",
       "      <td>06a053</td>\n",
       "      <td>1652825222</td>\n",
       "      <td>1.0</td>\n",
       "      <td>NaN</td>\n",
       "      <td>Doha</td>\n",
       "      <td>Baladiyat ad Dawhah</td>\n",
       "      <td>QA</td>\n",
       "    </tr>\n",
       "    <tr>\n",
       "      <th>151294</th>\n",
       "      <td>06a053</td>\n",
       "      <td>1652831458</td>\n",
       "      <td>1.0</td>\n",
       "      <td>NaN</td>\n",
       "      <td>Doha</td>\n",
       "      <td>Baladiyat ad Dawhah</td>\n",
       "      <td>QA</td>\n",
       "    </tr>\n",
       "    <tr>\n",
       "      <th>96842</th>\n",
       "      <td>06a053</td>\n",
       "      <td>1652831765</td>\n",
       "      <td>1.0</td>\n",
       "      <td>NaN</td>\n",
       "      <td>Al Wakrah</td>\n",
       "      <td>Al Wakrah</td>\n",
       "      <td>QA</td>\n",
       "    </tr>\n",
       "    <tr>\n",
       "      <th>9960</th>\n",
       "      <td>06a053</td>\n",
       "      <td>1652832362</td>\n",
       "      <td>0.0</td>\n",
       "      <td>5303.52</td>\n",
       "      <td>Al Wakrah</td>\n",
       "      <td>Al Wakrah</td>\n",
       "      <td>QA</td>\n",
       "    </tr>\n",
       "    <tr>\n",
       "      <th>41997</th>\n",
       "      <td>06a053</td>\n",
       "      <td>1652832666</td>\n",
       "      <td>0.0</td>\n",
       "      <td>7818.12</td>\n",
       "      <td>Ar Ruways</td>\n",
       "      <td>Abu Dhabi</td>\n",
       "      <td>AE</td>\n",
       "    </tr>\n",
       "    <tr>\n",
       "      <th>56786</th>\n",
       "      <td>06a053</td>\n",
       "      <td>1652833568</td>\n",
       "      <td>0.0</td>\n",
       "      <td>10027.92</td>\n",
       "      <td>Al Ain</td>\n",
       "      <td>Abu Dhabi</td>\n",
       "      <td>AE</td>\n",
       "    </tr>\n",
       "  </tbody>\n",
       "</table>\n",
       "</div>"
      ],
      "text/plain": [
       "        icao24        time  on_ground  geo_altitude  city_name  \\\n",
       "53380   06a053  1652821965        0.0      11978.64     Riyadh   \n",
       "45737   06a053  1652822273        0.0      11971.02     Riyadh   \n",
       "126189  06a053  1652822597        0.0      11734.80     Riyadh   \n",
       "60536   06a053  1652822921        0.0       8214.36   Al Hufuf   \n",
       "6548    06a053  1652823534        0.0       6766.56    Umm Bab   \n",
       "158614  06a053  1652823854        0.0       3710.94    Umm Bab   \n",
       "49508   06a053  1652824158        0.0       1844.04  Umm Sa'id   \n",
       "2782    06a053  1652824461        0.0        800.10  Al Wakrah   \n",
       "68265   06a053  1652824770        1.0           NaN       Doha   \n",
       "100418  06a053  1652825076        1.0           NaN       Doha   \n",
       "17544   06a053  1652825222        1.0           NaN       Doha   \n",
       "151294  06a053  1652831458        1.0           NaN       Doha   \n",
       "96842   06a053  1652831765        1.0           NaN  Al Wakrah   \n",
       "9960    06a053  1652832362        0.0       5303.52  Al Wakrah   \n",
       "41997   06a053  1652832666        0.0       7818.12  Ar Ruways   \n",
       "56786   06a053  1652833568        0.0      10027.92     Al Ain   \n",
       "\n",
       "                 reg_admin1 country_cc  \n",
       "53380              Ar Riyad         SA  \n",
       "45737              Ar Riyad         SA  \n",
       "126189             Ar Riyad         SA  \n",
       "60536      Eastern Province         SA  \n",
       "6548                                QA  \n",
       "158614                              QA  \n",
       "49508             Al Wakrah         QA  \n",
       "2782              Al Wakrah         QA  \n",
       "68265   Baladiyat ad Dawhah         QA  \n",
       "100418  Baladiyat ad Dawhah         QA  \n",
       "17544   Baladiyat ad Dawhah         QA  \n",
       "151294  Baladiyat ad Dawhah         QA  \n",
       "96842             Al Wakrah         QA  \n",
       "9960              Al Wakrah         QA  \n",
       "41997             Abu Dhabi         AE  \n",
       "56786             Abu Dhabi         AE  "
      ]
     },
     "execution_count": 238,
     "metadata": {},
     "output_type": "execute_result"
    }
   ],
   "source": [
    "pflights_df_f[pflights_df_f.icao24==\"06a053\"].sort_values(by=[\"time\"])[[\"icao24\", \"time\", \"on_ground\",\"geo_altitude\",\"city_name\", \"reg_admin1\", \"country_cc\"]]"
   ]
  },
  {
   "cell_type": "markdown",
   "id": "f96f4867",
   "metadata": {},
   "source": [
    "- There seems to be a problem identifying flights which started and landed based on region and geo_atitude (especially in Qatar, probably because it is so close to the border?)\n",
    "- Other ways need to be found\n",
    "- It has to be clarified, how we can distinguish different flights from the same aircraft \n",
    "    - (Is it  \"removed\" from the api until the next start?)\n",
    "    - Is the callsign different ? "
   ]
  },
  {
   "cell_type": "code",
   "execution_count": null,
   "id": "2105281c",
   "metadata": {},
   "outputs": [],
   "source": []
  }
 ],
 "metadata": {
  "kernelspec": {
   "display_name": "Python 3 (ipykernel)",
   "language": "python",
   "name": "python3"
  },
  "language_info": {
   "codemirror_mode": {
    "name": "ipython",
    "version": 3
   },
   "file_extension": ".py",
   "mimetype": "text/x-python",
   "name": "python",
   "nbconvert_exporter": "python",
   "pygments_lexer": "ipython3",
   "version": "3.8.6"
  },
  "toc": {
   "base_numbering": 1,
   "nav_menu": {},
   "number_sections": true,
   "sideBar": true,
   "skip_h1_title": false,
   "title_cell": "Table of Contents",
   "title_sidebar": "Contents",
   "toc_cell": false,
   "toc_position": {},
   "toc_section_display": true,
   "toc_window_display": false
  }
 },
 "nbformat": 4,
 "nbformat_minor": 5
}
