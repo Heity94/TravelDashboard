{
 "cells": [
  {
   "cell_type": "code",
   "execution_count": 1,
   "id": "43acafed",
   "metadata": {},
   "outputs": [],
   "source": [
    "import numpy as np\n",
    "import pandas as pd\n",
    "import os\n",
    "import glob\n",
    "from datetime import datetime"
   ]
  },
  {
   "cell_type": "code",
   "execution_count": 3,
   "id": "e83f541a",
   "metadata": {},
   "outputs": [],
   "source": [
    "path =\"/Users/philippheitmann/Desktop/docker_test/data/csv_data\""
   ]
  },
  {
   "cell_type": "markdown",
   "id": "2cd1b47e",
   "metadata": {},
   "source": [
    "### Compare result from Jonas Pandas Script with our spark script"
   ]
  },
  {
   "cell_type": "markdown",
   "id": "744b0851",
   "metadata": {},
   "source": [
    "#### Recreate Jonas Pandas Skript"
   ]
  },
  {
   "cell_type": "code",
   "execution_count": 27,
   "id": "70e4a739",
   "metadata": {},
   "outputs": [],
   "source": [
    "# get path of all .csv files (history from API crawling)\n",
    "all_files = glob.glob(os.path.join(path, \"*.csv\"))\n",
    "df = pd.concat((pd.read_csv(f, index_col=0, header=0) for f in all_files))"
   ]
  },
  {
   "cell_type": "code",
   "execution_count": 28,
   "id": "a141c6a8",
   "metadata": {},
   "outputs": [],
   "source": [
    "df = df[(df['time'] >= 1652951631) & (df[\"time\"] <= 1652953679)][[\n",
    "    \"callsign\", \"geo_altitude\", \"country_cc\", \"avg_no_seats\", \"vertical_rate\",\n",
    "    \"time\"\n",
    "]]"
   ]
  },
  {
   "cell_type": "code",
   "execution_count": 29,
   "id": "a11d4802",
   "metadata": {},
   "outputs": [],
   "source": [
    "df_starting = df[(df.geo_altitude <= 3000)\n",
    "        & (df.vertical_rate <= -4)]\n",
    "\n",
    "df_landing = df[(df.geo_altitude <= 3000)\n",
    "        & (df.vertical_rate >= 4)]\n",
    "\n"
   ]
  },
  {
   "cell_type": "code",
   "execution_count": 30,
   "id": "4b55e81c",
   "metadata": {},
   "outputs": [],
   "source": [
    "df_starting = df_starting.sort_values(by=['geo_altitude'],\n",
    "               ascending=True).groupby('callsign', as_index=False).first()\n",
    "\n",
    "df_landing = df_landing.sort_values(\n",
    "    by=['geo_altitude'], ascending=True).groupby('callsign',\n",
    "                                                 as_index=False).first()\n"
   ]
  },
  {
   "cell_type": "code",
   "execution_count": 31,
   "id": "c7c71349",
   "metadata": {},
   "outputs": [],
   "source": [
    "df_starting = df_starting.groupby('country_cc').agg({'avg_no_seats': 'sum'})\n",
    "df_landing = df_landing.groupby('country_cc').agg({'avg_no_seats': 'sum'})"
   ]
  },
  {
   "cell_type": "code",
   "execution_count": 32,
   "id": "3ebe4976",
   "metadata": {},
   "outputs": [],
   "source": [
    "sum_pass = df_landing.avg_no_seats.sub(df_starting['avg_no_seats'],\n",
    "                                       fill_value=0)\n"
   ]
  },
  {
   "cell_type": "markdown",
   "id": "2f0feda0",
   "metadata": {},
   "source": [
    "#### Load our results from spark "
   ]
  },
  {
   "cell_type": "code",
   "execution_count": 36,
   "id": "3cce558c",
   "metadata": {},
   "outputs": [],
   "source": [
    "path_s = \"/Users/philippheitmann/Desktop/TravelDashboard/df_starting.csv\"\n",
    "start_spark = pd.read_csv(path_s, index_col=0)"
   ]
  },
  {
   "cell_type": "code",
   "execution_count": 38,
   "id": "edb468e7",
   "metadata": {},
   "outputs": [],
   "source": [
    "path_l = \"/Users/philippheitmann/Desktop/TravelDashboard/df_landing.csv\"\n",
    "land_spark = pd.read_csv(path_l, index_col=0)"
   ]
  },
  {
   "cell_type": "code",
   "execution_count": 42,
   "id": "64bde275",
   "metadata": {},
   "outputs": [
    {
     "data": {
      "text/html": [
       "<div>\n",
       "<style scoped>\n",
       "    .dataframe tbody tr th:only-of-type {\n",
       "        vertical-align: middle;\n",
       "    }\n",
       "\n",
       "    .dataframe tbody tr th {\n",
       "        vertical-align: top;\n",
       "    }\n",
       "\n",
       "    .dataframe thead th {\n",
       "        text-align: right;\n",
       "    }\n",
       "</style>\n",
       "<table border=\"1\" class=\"dataframe\">\n",
       "  <thead>\n",
       "    <tr style=\"text-align: right;\">\n",
       "      <th></th>\n",
       "      <th>country_cc</th>\n",
       "      <th>sum(avg_no_seats)</th>\n",
       "    </tr>\n",
       "  </thead>\n",
       "  <tbody>\n",
       "    <tr>\n",
       "      <th>0</th>\n",
       "      <td>DZ</td>\n",
       "      <td>653.0</td>\n",
       "    </tr>\n",
       "    <tr>\n",
       "      <th>1</th>\n",
       "      <td>LT</td>\n",
       "      <td>381.0</td>\n",
       "    </tr>\n",
       "    <tr>\n",
       "      <th>2</th>\n",
       "      <td>FI</td>\n",
       "      <td>870.0</td>\n",
       "    </tr>\n",
       "    <tr>\n",
       "      <th>3</th>\n",
       "      <td>RO</td>\n",
       "      <td>570.4</td>\n",
       "    </tr>\n",
       "    <tr>\n",
       "      <th>4</th>\n",
       "      <td>NL</td>\n",
       "      <td>6278.2</td>\n",
       "    </tr>\n",
       "    <tr>\n",
       "      <th>...</th>\n",
       "      <td>...</td>\n",
       "      <td>...</td>\n",
       "    </tr>\n",
       "    <tr>\n",
       "      <th>58</th>\n",
       "      <td>AR</td>\n",
       "      <td>532.0</td>\n",
       "    </tr>\n",
       "    <tr>\n",
       "      <th>59</th>\n",
       "      <td>PR</td>\n",
       "      <td>1369.8</td>\n",
       "    </tr>\n",
       "    <tr>\n",
       "      <th>60</th>\n",
       "      <td>LU</td>\n",
       "      <td>430.0</td>\n",
       "    </tr>\n",
       "    <tr>\n",
       "      <th>61</th>\n",
       "      <td>VN</td>\n",
       "      <td>1400.5</td>\n",
       "    </tr>\n",
       "    <tr>\n",
       "      <th>62</th>\n",
       "      <td>DK</td>\n",
       "      <td>1148.6</td>\n",
       "    </tr>\n",
       "  </tbody>\n",
       "</table>\n",
       "<p>63 rows × 2 columns</p>\n",
       "</div>"
      ],
      "text/plain": [
       "   country_cc  sum(avg_no_seats)\n",
       "0          DZ              653.0\n",
       "1          LT              381.0\n",
       "2          FI              870.0\n",
       "3          RO              570.4\n",
       "4          NL             6278.2\n",
       "..        ...                ...\n",
       "58         AR              532.0\n",
       "59         PR             1369.8\n",
       "60         LU              430.0\n",
       "61         VN             1400.5\n",
       "62         DK             1148.6\n",
       "\n",
       "[63 rows x 2 columns]"
      ]
     },
     "execution_count": 42,
     "metadata": {},
     "output_type": "execute_result"
    }
   ],
   "source": [
    "land_spark.columns = [\"country_cc\", \"avg_no_seats\"]\n",
    "start_spark.columns = [\"country_cc\", \"avg_no_seats\"]"
   ]
  },
  {
   "cell_type": "code",
   "execution_count": 52,
   "id": "7727e0c9",
   "metadata": {},
   "outputs": [],
   "source": [
    "land_spark = land_spark.set_index(\"country_cc\", drop=True)\n",
    "start_spark = start_spark.set_index(\"country_cc\", drop=True)"
   ]
  },
  {
   "cell_type": "code",
   "execution_count": 53,
   "id": "3cce558c",
   "metadata": {},
   "outputs": [
    {
     "data": {
      "text/plain": [
       "country_cc\n",
       "AE    2825.3\n",
       "AL    -385.1\n",
       "AR     394.0\n",
       "AT   -1159.8\n",
       "AU    -476.7\n",
       "       ...  \n",
       "TR   -4044.4\n",
       "TW    -500.0\n",
       "US   -6345.2\n",
       "VN   -1044.4\n",
       "ZA     -64.4\n",
       "Name: avg_no_seats, Length: 72, dtype: float64"
      ]
     },
     "execution_count": 53,
     "metadata": {},
     "output_type": "execute_result"
    }
   ],
   "source": [
    "land_spark.avg_no_seats.sub(start_spark['avg_no_seats'], fill_value = 0)"
   ]
  },
  {
   "cell_type": "code",
   "execution_count": 54,
   "id": "1ed1eef9",
   "metadata": {},
   "outputs": [
    {
     "data": {
      "text/plain": [
       "country_cc\n",
       "AE    2825.3\n",
       "AL    -385.1\n",
       "AR     394.0\n",
       "AT   -1159.8\n",
       "AU    -476.7\n",
       "       ...  \n",
       "TR   -4044.4\n",
       "TW    -500.0\n",
       "US   -6345.2\n",
       "VN   -1044.4\n",
       "ZA     -64.4\n",
       "Name: avg_no_seats, Length: 72, dtype: float64"
      ]
     },
     "execution_count": 54,
     "metadata": {},
     "output_type": "execute_result"
    }
   ],
   "source": [
    "sum_pass"
   ]
  },
  {
   "cell_type": "markdown",
   "id": "1f643479",
   "metadata": {},
   "source": [
    "Seems to work :) "
   ]
  },
  {
   "cell_type": "markdown",
   "id": "6419fd0f",
   "metadata": {},
   "source": []
  }
 ],
 "metadata": {
  "kernelspec": {
   "display_name": "Python 3.8.6 64-bit ('lewagon')",
   "language": "python",
   "name": "python3"
  },
  "language_info": {
   "codemirror_mode": {
    "name": "ipython",
    "version": 3
   },
   "file_extension": ".py",
   "mimetype": "text/x-python",
   "name": "python",
   "nbconvert_exporter": "python",
   "pygments_lexer": "ipython3",
   "version": "3.8.6"
  },
  "toc": {
   "base_numbering": 1,
   "nav_menu": {},
   "number_sections": true,
   "sideBar": true,
   "skip_h1_title": false,
   "title_cell": "Table of Contents",
   "title_sidebar": "Contents",
   "toc_cell": false,
   "toc_position": {},
   "toc_section_display": true,
   "toc_window_display": false
  },
  "vscode": {
   "interpreter": {
    "hash": "4480b2f098757ddbf2343f805a568ff9094d609d983fd58a5e0f4098332225a4"
   }
  }
 },
 "nbformat": 4,
 "nbformat_minor": 5
}
